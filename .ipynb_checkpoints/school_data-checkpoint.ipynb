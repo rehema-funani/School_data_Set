{
 "cells": [
  {
   "cell_type": "code",
   "execution_count": 1,
   "id": "4d54edf3-afb6-4ff2-8333-c587c4c7d062",
   "metadata": {},
   "outputs": [],
   "source": [
    "import pandas as pd\n",
    "import numpy as np\n",
    "import matplotlib as plt\n",
    "import seaborn as sns"
   ]
  },
  {
   "cell_type": "code",
   "execution_count": 2,
   "id": "a9da183c-6dad-422b-afbe-a70085cb2edc",
   "metadata": {},
   "outputs": [
    {
     "name": "stderr",
     "output_type": "stream",
     "text": [
      "/tmp/ipykernel_20338/1900700930.py:1: DtypeWarning: Columns (11) have mixed types. Specify dtype option on import or set low_memory=False.\n",
      "  school_df = pd.read_csv('/home/student/Downloads/school_data_set.csv')\n"
     ]
    }
   ],
   "source": [
    "school_df = pd.read_csv('/home/student/Downloads/school_data_set.csv')"
   ]
  },
  {
   "cell_type": "code",
   "execution_count": 7,
   "id": "99326b81-63d7-46b9-ac86-57a8b109026e",
   "metadata": {},
   "outputs": [],
   "source": [
    "import pandas as pd\n",
    "\n",
    "school_df = pd.read_csv('/home/student/Downloads/school_data_set.csv', dtype={11: str})\n"
   ]
  },
  {
   "cell_type": "code",
   "execution_count": 8,
   "id": "30f3b09f-e973-4709-90f1-af8cf878adea",
   "metadata": {},
   "outputs": [
    {
     "data": {
      "text/html": [
       "<div>\n",
       "<style scoped>\n",
       "    .dataframe tbody tr th:only-of-type {\n",
       "        vertical-align: middle;\n",
       "    }\n",
       "\n",
       "    .dataframe tbody tr th {\n",
       "        vertical-align: top;\n",
       "    }\n",
       "\n",
       "    .dataframe thead th {\n",
       "        text-align: right;\n",
       "    }\n",
       "</style>\n",
       "<table border=\"1\" class=\"dataframe\">\n",
       "  <thead>\n",
       "    <tr style=\"text-align: right;\">\n",
       "      <th></th>\n",
       "      <th>X</th>\n",
       "      <th>Y</th>\n",
       "      <th>OBJECTID</th>\n",
       "      <th>NCESSCH</th>\n",
       "      <th>SURVYEAR</th>\n",
       "      <th>STABR</th>\n",
       "      <th>LEAID</th>\n",
       "      <th>ST_LEAID</th>\n",
       "      <th>LEA_NAME</th>\n",
       "      <th>SCH_NAME</th>\n",
       "      <th>...</th>\n",
       "      <th>HIALF</th>\n",
       "      <th>HI</th>\n",
       "      <th>TRALM</th>\n",
       "      <th>TRALF</th>\n",
       "      <th>TR</th>\n",
       "      <th>WHALM</th>\n",
       "      <th>WHALF</th>\n",
       "      <th>WH</th>\n",
       "      <th>LATCOD</th>\n",
       "      <th>LONCOD</th>\n",
       "    </tr>\n",
       "  </thead>\n",
       "  <tbody>\n",
       "    <tr>\n",
       "      <th>0</th>\n",
       "      <td>-9.596431e+06</td>\n",
       "      <td>4.063795e+06</td>\n",
       "      <td>1</td>\n",
       "      <td>10000500870</td>\n",
       "      <td>2022-2023</td>\n",
       "      <td>AL</td>\n",
       "      <td>100005</td>\n",
       "      <td>AL-101</td>\n",
       "      <td>Albertville City</td>\n",
       "      <td>Albertville Middle School</td>\n",
       "      <td>...</td>\n",
       "      <td>251.0</td>\n",
       "      <td>502.0</td>\n",
       "      <td>17.0</td>\n",
       "      <td>15.0</td>\n",
       "      <td>32.0</td>\n",
       "      <td>168.0</td>\n",
       "      <td>147.0</td>\n",
       "      <td>315.0</td>\n",
       "      <td>34.2602</td>\n",
       "      <td>-86.206200</td>\n",
       "    </tr>\n",
       "    <tr>\n",
       "      <th>1</th>\n",
       "      <td>-9.596286e+06</td>\n",
       "      <td>4.064065e+06</td>\n",
       "      <td>2</td>\n",
       "      <td>10000500871</td>\n",
       "      <td>2022-2023</td>\n",
       "      <td>AL</td>\n",
       "      <td>100005</td>\n",
       "      <td>AL-101</td>\n",
       "      <td>Albertville City</td>\n",
       "      <td>Albertville High School</td>\n",
       "      <td>...</td>\n",
       "      <td>468.0</td>\n",
       "      <td>958.0</td>\n",
       "      <td>26.0</td>\n",
       "      <td>19.0</td>\n",
       "      <td>45.0</td>\n",
       "      <td>325.0</td>\n",
       "      <td>316.0</td>\n",
       "      <td>641.0</td>\n",
       "      <td>34.2622</td>\n",
       "      <td>-86.204900</td>\n",
       "    </tr>\n",
       "    <tr>\n",
       "      <th>2</th>\n",
       "      <td>-9.597978e+06</td>\n",
       "      <td>4.065560e+06</td>\n",
       "      <td>3</td>\n",
       "      <td>10000500879</td>\n",
       "      <td>2022-2023</td>\n",
       "      <td>AL</td>\n",
       "      <td>100005</td>\n",
       "      <td>AL-101</td>\n",
       "      <td>Albertville City</td>\n",
       "      <td>Albertville Intermediate School</td>\n",
       "      <td>...</td>\n",
       "      <td>241.0</td>\n",
       "      <td>504.0</td>\n",
       "      <td>7.0</td>\n",
       "      <td>6.0</td>\n",
       "      <td>13.0</td>\n",
       "      <td>154.0</td>\n",
       "      <td>144.0</td>\n",
       "      <td>298.0</td>\n",
       "      <td>34.2733</td>\n",
       "      <td>-86.220100</td>\n",
       "    </tr>\n",
       "    <tr>\n",
       "      <th>3</th>\n",
       "      <td>-9.598168e+06</td>\n",
       "      <td>4.062785e+06</td>\n",
       "      <td>4</td>\n",
       "      <td>10000500889</td>\n",
       "      <td>2022-2023</td>\n",
       "      <td>AL</td>\n",
       "      <td>100005</td>\n",
       "      <td>AL-101</td>\n",
       "      <td>Albertville City</td>\n",
       "      <td>Albertville Elementary School</td>\n",
       "      <td>...</td>\n",
       "      <td>236.0</td>\n",
       "      <td>497.0</td>\n",
       "      <td>11.0</td>\n",
       "      <td>16.0</td>\n",
       "      <td>27.0</td>\n",
       "      <td>168.0</td>\n",
       "      <td>136.0</td>\n",
       "      <td>304.0</td>\n",
       "      <td>34.2527</td>\n",
       "      <td>-86.221806</td>\n",
       "    </tr>\n",
       "    <tr>\n",
       "      <th>4</th>\n",
       "      <td>-9.594995e+06</td>\n",
       "      <td>4.067783e+06</td>\n",
       "      <td>5</td>\n",
       "      <td>10000501616</td>\n",
       "      <td>2022-2023</td>\n",
       "      <td>AL</td>\n",
       "      <td>100005</td>\n",
       "      <td>AL-101</td>\n",
       "      <td>Albertville City</td>\n",
       "      <td>Albertville Kindergarten and PreK</td>\n",
       "      <td>...</td>\n",
       "      <td>152.0</td>\n",
       "      <td>319.0</td>\n",
       "      <td>4.0</td>\n",
       "      <td>4.0</td>\n",
       "      <td>8.0</td>\n",
       "      <td>104.0</td>\n",
       "      <td>120.0</td>\n",
       "      <td>224.0</td>\n",
       "      <td>34.2898</td>\n",
       "      <td>-86.193300</td>\n",
       "    </tr>\n",
       "  </tbody>\n",
       "</table>\n",
       "<p>5 rows × 77 columns</p>\n",
       "</div>"
      ],
      "text/plain": [
       "              X             Y  OBJECTID      NCESSCH   SURVYEAR STABR   LEAID  \\\n",
       "0 -9.596431e+06  4.063795e+06         1  10000500870  2022-2023    AL  100005   \n",
       "1 -9.596286e+06  4.064065e+06         2  10000500871  2022-2023    AL  100005   \n",
       "2 -9.597978e+06  4.065560e+06         3  10000500879  2022-2023    AL  100005   \n",
       "3 -9.598168e+06  4.062785e+06         4  10000500889  2022-2023    AL  100005   \n",
       "4 -9.594995e+06  4.067783e+06         5  10000501616  2022-2023    AL  100005   \n",
       "\n",
       "  ST_LEAID          LEA_NAME                           SCH_NAME  ...  HIALF  \\\n",
       "0   AL-101  Albertville City          Albertville Middle School  ...  251.0   \n",
       "1   AL-101  Albertville City            Albertville High School  ...  468.0   \n",
       "2   AL-101  Albertville City    Albertville Intermediate School  ...  241.0   \n",
       "3   AL-101  Albertville City      Albertville Elementary School  ...  236.0   \n",
       "4   AL-101  Albertville City  Albertville Kindergarten and PreK  ...  152.0   \n",
       "\n",
       "      HI TRALM TRALF    TR  WHALM  WHALF     WH   LATCOD     LONCOD  \n",
       "0  502.0  17.0  15.0  32.0  168.0  147.0  315.0  34.2602 -86.206200  \n",
       "1  958.0  26.0  19.0  45.0  325.0  316.0  641.0  34.2622 -86.204900  \n",
       "2  504.0   7.0   6.0  13.0  154.0  144.0  298.0  34.2733 -86.220100  \n",
       "3  497.0  11.0  16.0  27.0  168.0  136.0  304.0  34.2527 -86.221806  \n",
       "4  319.0   4.0   4.0   8.0  104.0  120.0  224.0  34.2898 -86.193300  \n",
       "\n",
       "[5 rows x 77 columns]"
      ]
     },
     "execution_count": 8,
     "metadata": {},
     "output_type": "execute_result"
    }
   ],
   "source": [
    "school_df.head(5)"
   ]
  },
  {
   "cell_type": "code",
   "execution_count": 9,
   "id": "73c04330-0970-428e-8753-60c5d7a2dae7",
   "metadata": {},
   "outputs": [
    {
     "ename": "NameError",
     "evalue": "name 'd' is not defined",
     "output_type": "error",
     "traceback": [
      "\u001b[0;31m---------------------------------------------------------------------------\u001b[0m",
      "\u001b[0;31mNameError\u001b[0m                                 Traceback (most recent call last)",
      "Cell \u001b[0;32mIn[9], line 1\u001b[0m\n\u001b[0;32m----> 1\u001b[0m \u001b[43md\u001b[49m[\u001b[38;5;124m'\u001b[39m\u001b[38;5;124mschool_data_set\u001b[39m\u001b[38;5;124m'\u001b[39m]\u001b[38;5;241m.\u001b[39misnull()\n",
      "\u001b[0;31mNameError\u001b[0m: name 'd' is not defined"
     ]
    }
   ],
   "source": [
    "d['school_data_set'].isnull()"
   ]
  },
  {
   "cell_type": "code",
   "execution_count": 10,
   "id": "c6f6bb78-7fd3-4b2f-aade-83d3aa81b184",
   "metadata": {},
   "outputs": [
    {
     "ename": "KeyError",
     "evalue": "'school_data_set'",
     "output_type": "error",
     "traceback": [
      "\u001b[0;31m---------------------------------------------------------------------------\u001b[0m",
      "\u001b[0;31mKeyError\u001b[0m                                  Traceback (most recent call last)",
      "File \u001b[0;32m~/MachineLearning/env3/lib/python3.10/site-packages/pandas/core/indexes/base.py:3805\u001b[0m, in \u001b[0;36mIndex.get_loc\u001b[0;34m(self, key)\u001b[0m\n\u001b[1;32m   3804\u001b[0m \u001b[38;5;28;01mtry\u001b[39;00m:\n\u001b[0;32m-> 3805\u001b[0m     \u001b[38;5;28;01mreturn\u001b[39;00m \u001b[38;5;28;43mself\u001b[39;49m\u001b[38;5;241;43m.\u001b[39;49m\u001b[43m_engine\u001b[49m\u001b[38;5;241;43m.\u001b[39;49m\u001b[43mget_loc\u001b[49m\u001b[43m(\u001b[49m\u001b[43mcasted_key\u001b[49m\u001b[43m)\u001b[49m\n\u001b[1;32m   3806\u001b[0m \u001b[38;5;28;01mexcept\u001b[39;00m \u001b[38;5;167;01mKeyError\u001b[39;00m \u001b[38;5;28;01mas\u001b[39;00m err:\n",
      "File \u001b[0;32mindex.pyx:167\u001b[0m, in \u001b[0;36mpandas._libs.index.IndexEngine.get_loc\u001b[0;34m()\u001b[0m\n",
      "File \u001b[0;32mindex.pyx:196\u001b[0m, in \u001b[0;36mpandas._libs.index.IndexEngine.get_loc\u001b[0;34m()\u001b[0m\n",
      "File \u001b[0;32mpandas/_libs/hashtable_class_helper.pxi:7081\u001b[0m, in \u001b[0;36mpandas._libs.hashtable.PyObjectHashTable.get_item\u001b[0;34m()\u001b[0m\n",
      "File \u001b[0;32mpandas/_libs/hashtable_class_helper.pxi:7089\u001b[0m, in \u001b[0;36mpandas._libs.hashtable.PyObjectHashTable.get_item\u001b[0;34m()\u001b[0m\n",
      "\u001b[0;31mKeyError\u001b[0m: 'school_data_set'",
      "\nThe above exception was the direct cause of the following exception:\n",
      "\u001b[0;31mKeyError\u001b[0m                                  Traceback (most recent call last)",
      "Cell \u001b[0;32mIn[10], line 1\u001b[0m\n\u001b[0;32m----> 1\u001b[0m \u001b[43mschool_df\u001b[49m\u001b[43m[\u001b[49m\u001b[38;5;124;43m'\u001b[39;49m\u001b[38;5;124;43mschool_data_set\u001b[39;49m\u001b[38;5;124;43m'\u001b[39;49m\u001b[43m]\u001b[49m\u001b[38;5;241m.\u001b[39misnull()\n",
      "File \u001b[0;32m~/MachineLearning/env3/lib/python3.10/site-packages/pandas/core/frame.py:4102\u001b[0m, in \u001b[0;36mDataFrame.__getitem__\u001b[0;34m(self, key)\u001b[0m\n\u001b[1;32m   4100\u001b[0m \u001b[38;5;28;01mif\u001b[39;00m \u001b[38;5;28mself\u001b[39m\u001b[38;5;241m.\u001b[39mcolumns\u001b[38;5;241m.\u001b[39mnlevels \u001b[38;5;241m>\u001b[39m \u001b[38;5;241m1\u001b[39m:\n\u001b[1;32m   4101\u001b[0m     \u001b[38;5;28;01mreturn\u001b[39;00m \u001b[38;5;28mself\u001b[39m\u001b[38;5;241m.\u001b[39m_getitem_multilevel(key)\n\u001b[0;32m-> 4102\u001b[0m indexer \u001b[38;5;241m=\u001b[39m \u001b[38;5;28;43mself\u001b[39;49m\u001b[38;5;241;43m.\u001b[39;49m\u001b[43mcolumns\u001b[49m\u001b[38;5;241;43m.\u001b[39;49m\u001b[43mget_loc\u001b[49m\u001b[43m(\u001b[49m\u001b[43mkey\u001b[49m\u001b[43m)\u001b[49m\n\u001b[1;32m   4103\u001b[0m \u001b[38;5;28;01mif\u001b[39;00m is_integer(indexer):\n\u001b[1;32m   4104\u001b[0m     indexer \u001b[38;5;241m=\u001b[39m [indexer]\n",
      "File \u001b[0;32m~/MachineLearning/env3/lib/python3.10/site-packages/pandas/core/indexes/base.py:3812\u001b[0m, in \u001b[0;36mIndex.get_loc\u001b[0;34m(self, key)\u001b[0m\n\u001b[1;32m   3807\u001b[0m     \u001b[38;5;28;01mif\u001b[39;00m \u001b[38;5;28misinstance\u001b[39m(casted_key, \u001b[38;5;28mslice\u001b[39m) \u001b[38;5;129;01mor\u001b[39;00m (\n\u001b[1;32m   3808\u001b[0m         \u001b[38;5;28misinstance\u001b[39m(casted_key, abc\u001b[38;5;241m.\u001b[39mIterable)\n\u001b[1;32m   3809\u001b[0m         \u001b[38;5;129;01mand\u001b[39;00m \u001b[38;5;28many\u001b[39m(\u001b[38;5;28misinstance\u001b[39m(x, \u001b[38;5;28mslice\u001b[39m) \u001b[38;5;28;01mfor\u001b[39;00m x \u001b[38;5;129;01min\u001b[39;00m casted_key)\n\u001b[1;32m   3810\u001b[0m     ):\n\u001b[1;32m   3811\u001b[0m         \u001b[38;5;28;01mraise\u001b[39;00m InvalidIndexError(key)\n\u001b[0;32m-> 3812\u001b[0m     \u001b[38;5;28;01mraise\u001b[39;00m \u001b[38;5;167;01mKeyError\u001b[39;00m(key) \u001b[38;5;28;01mfrom\u001b[39;00m \u001b[38;5;21;01merr\u001b[39;00m\n\u001b[1;32m   3813\u001b[0m \u001b[38;5;28;01mexcept\u001b[39;00m \u001b[38;5;167;01mTypeError\u001b[39;00m:\n\u001b[1;32m   3814\u001b[0m     \u001b[38;5;66;03m# If we have a listlike key, _check_indexing_error will raise\u001b[39;00m\n\u001b[1;32m   3815\u001b[0m     \u001b[38;5;66;03m#  InvalidIndexError. Otherwise we fall through and re-raise\u001b[39;00m\n\u001b[1;32m   3816\u001b[0m     \u001b[38;5;66;03m#  the TypeError.\u001b[39;00m\n\u001b[1;32m   3817\u001b[0m     \u001b[38;5;28mself\u001b[39m\u001b[38;5;241m.\u001b[39m_check_indexing_error(key)\n",
      "\u001b[0;31mKeyError\u001b[0m: 'school_data_set'"
     ]
    }
   ],
   "source": [
    "school_df['school_data_set'].isnull()"
   ]
  },
  {
   "cell_type": "code",
   "execution_count": 11,
   "id": "dd2887bf-b76a-44f5-8d8a-844bdd827d90",
   "metadata": {},
   "outputs": [
    {
     "ename": "NameError",
     "evalue": "name 'school_data_set' is not defined",
     "output_type": "error",
     "traceback": [
      "\u001b[0;31m---------------------------------------------------------------------------\u001b[0m",
      "\u001b[0;31mNameError\u001b[0m                                 Traceback (most recent call last)",
      "Cell \u001b[0;32mIn[11], line 1\u001b[0m\n\u001b[0;32m----> 1\u001b[0m school_df[\u001b[43mschool_data_set\u001b[49m]\u001b[38;5;241m.\u001b[39misnull()\n",
      "\u001b[0;31mNameError\u001b[0m: name 'school_data_set' is not defined"
     ]
    }
   ],
   "source": [
    "school_df[school_data_set].isnull()"
   ]
  },
  {
   "cell_type": "code",
   "execution_count": 12,
   "id": "099acade-cdc4-4256-80d0-448016dd0059",
   "metadata": {},
   "outputs": [
    {
     "ename": "KeyError",
     "evalue": "'school_data_set'",
     "output_type": "error",
     "traceback": [
      "\u001b[0;31m---------------------------------------------------------------------------\u001b[0m",
      "\u001b[0;31mKeyError\u001b[0m                                  Traceback (most recent call last)",
      "File \u001b[0;32m~/MachineLearning/env3/lib/python3.10/site-packages/pandas/core/indexes/base.py:3805\u001b[0m, in \u001b[0;36mIndex.get_loc\u001b[0;34m(self, key)\u001b[0m\n\u001b[1;32m   3804\u001b[0m \u001b[38;5;28;01mtry\u001b[39;00m:\n\u001b[0;32m-> 3805\u001b[0m     \u001b[38;5;28;01mreturn\u001b[39;00m \u001b[38;5;28;43mself\u001b[39;49m\u001b[38;5;241;43m.\u001b[39;49m\u001b[43m_engine\u001b[49m\u001b[38;5;241;43m.\u001b[39;49m\u001b[43mget_loc\u001b[49m\u001b[43m(\u001b[49m\u001b[43mcasted_key\u001b[49m\u001b[43m)\u001b[49m\n\u001b[1;32m   3806\u001b[0m \u001b[38;5;28;01mexcept\u001b[39;00m \u001b[38;5;167;01mKeyError\u001b[39;00m \u001b[38;5;28;01mas\u001b[39;00m err:\n",
      "File \u001b[0;32mindex.pyx:167\u001b[0m, in \u001b[0;36mpandas._libs.index.IndexEngine.get_loc\u001b[0;34m()\u001b[0m\n",
      "File \u001b[0;32mindex.pyx:196\u001b[0m, in \u001b[0;36mpandas._libs.index.IndexEngine.get_loc\u001b[0;34m()\u001b[0m\n",
      "File \u001b[0;32mpandas/_libs/hashtable_class_helper.pxi:7081\u001b[0m, in \u001b[0;36mpandas._libs.hashtable.PyObjectHashTable.get_item\u001b[0;34m()\u001b[0m\n",
      "File \u001b[0;32mpandas/_libs/hashtable_class_helper.pxi:7089\u001b[0m, in \u001b[0;36mpandas._libs.hashtable.PyObjectHashTable.get_item\u001b[0;34m()\u001b[0m\n",
      "\u001b[0;31mKeyError\u001b[0m: 'school_data_set'",
      "\nThe above exception was the direct cause of the following exception:\n",
      "\u001b[0;31mKeyError\u001b[0m                                  Traceback (most recent call last)",
      "Cell \u001b[0;32mIn[12], line 1\u001b[0m\n\u001b[0;32m----> 1\u001b[0m \u001b[43mschool_df\u001b[49m\u001b[43m[\u001b[49m\u001b[38;5;124;43m'\u001b[39;49m\u001b[38;5;124;43mschool_data_set\u001b[39;49m\u001b[38;5;124;43m'\u001b[39;49m\u001b[43m]\u001b[49m\u001b[38;5;241m.\u001b[39misnull()\n",
      "File \u001b[0;32m~/MachineLearning/env3/lib/python3.10/site-packages/pandas/core/frame.py:4102\u001b[0m, in \u001b[0;36mDataFrame.__getitem__\u001b[0;34m(self, key)\u001b[0m\n\u001b[1;32m   4100\u001b[0m \u001b[38;5;28;01mif\u001b[39;00m \u001b[38;5;28mself\u001b[39m\u001b[38;5;241m.\u001b[39mcolumns\u001b[38;5;241m.\u001b[39mnlevels \u001b[38;5;241m>\u001b[39m \u001b[38;5;241m1\u001b[39m:\n\u001b[1;32m   4101\u001b[0m     \u001b[38;5;28;01mreturn\u001b[39;00m \u001b[38;5;28mself\u001b[39m\u001b[38;5;241m.\u001b[39m_getitem_multilevel(key)\n\u001b[0;32m-> 4102\u001b[0m indexer \u001b[38;5;241m=\u001b[39m \u001b[38;5;28;43mself\u001b[39;49m\u001b[38;5;241;43m.\u001b[39;49m\u001b[43mcolumns\u001b[49m\u001b[38;5;241;43m.\u001b[39;49m\u001b[43mget_loc\u001b[49m\u001b[43m(\u001b[49m\u001b[43mkey\u001b[49m\u001b[43m)\u001b[49m\n\u001b[1;32m   4103\u001b[0m \u001b[38;5;28;01mif\u001b[39;00m is_integer(indexer):\n\u001b[1;32m   4104\u001b[0m     indexer \u001b[38;5;241m=\u001b[39m [indexer]\n",
      "File \u001b[0;32m~/MachineLearning/env3/lib/python3.10/site-packages/pandas/core/indexes/base.py:3812\u001b[0m, in \u001b[0;36mIndex.get_loc\u001b[0;34m(self, key)\u001b[0m\n\u001b[1;32m   3807\u001b[0m     \u001b[38;5;28;01mif\u001b[39;00m \u001b[38;5;28misinstance\u001b[39m(casted_key, \u001b[38;5;28mslice\u001b[39m) \u001b[38;5;129;01mor\u001b[39;00m (\n\u001b[1;32m   3808\u001b[0m         \u001b[38;5;28misinstance\u001b[39m(casted_key, abc\u001b[38;5;241m.\u001b[39mIterable)\n\u001b[1;32m   3809\u001b[0m         \u001b[38;5;129;01mand\u001b[39;00m \u001b[38;5;28many\u001b[39m(\u001b[38;5;28misinstance\u001b[39m(x, \u001b[38;5;28mslice\u001b[39m) \u001b[38;5;28;01mfor\u001b[39;00m x \u001b[38;5;129;01min\u001b[39;00m casted_key)\n\u001b[1;32m   3810\u001b[0m     ):\n\u001b[1;32m   3811\u001b[0m         \u001b[38;5;28;01mraise\u001b[39;00m InvalidIndexError(key)\n\u001b[0;32m-> 3812\u001b[0m     \u001b[38;5;28;01mraise\u001b[39;00m \u001b[38;5;167;01mKeyError\u001b[39;00m(key) \u001b[38;5;28;01mfrom\u001b[39;00m \u001b[38;5;21;01merr\u001b[39;00m\n\u001b[1;32m   3813\u001b[0m \u001b[38;5;28;01mexcept\u001b[39;00m \u001b[38;5;167;01mTypeError\u001b[39;00m:\n\u001b[1;32m   3814\u001b[0m     \u001b[38;5;66;03m# If we have a listlike key, _check_indexing_error will raise\u001b[39;00m\n\u001b[1;32m   3815\u001b[0m     \u001b[38;5;66;03m#  InvalidIndexError. Otherwise we fall through and re-raise\u001b[39;00m\n\u001b[1;32m   3816\u001b[0m     \u001b[38;5;66;03m#  the TypeError.\u001b[39;00m\n\u001b[1;32m   3817\u001b[0m     \u001b[38;5;28mself\u001b[39m\u001b[38;5;241m.\u001b[39m_check_indexing_error(key)\n",
      "\u001b[0;31mKeyError\u001b[0m: 'school_data_set'"
     ]
    }
   ],
   "source": [
    "school_df['school_data_set'].isnull()"
   ]
  },
  {
   "cell_type": "code",
   "execution_count": 13,
   "id": "d2297962-be89-4317-8fd5-828632c0634e",
   "metadata": {},
   "outputs": [
    {
     "ename": "KeyError",
     "evalue": "'V'",
     "output_type": "error",
     "traceback": [
      "\u001b[0;31m---------------------------------------------------------------------------\u001b[0m",
      "\u001b[0;31mKeyError\u001b[0m                                  Traceback (most recent call last)",
      "File \u001b[0;32m~/MachineLearning/env3/lib/python3.10/site-packages/pandas/core/indexes/base.py:3805\u001b[0m, in \u001b[0;36mIndex.get_loc\u001b[0;34m(self, key)\u001b[0m\n\u001b[1;32m   3804\u001b[0m \u001b[38;5;28;01mtry\u001b[39;00m:\n\u001b[0;32m-> 3805\u001b[0m     \u001b[38;5;28;01mreturn\u001b[39;00m \u001b[38;5;28;43mself\u001b[39;49m\u001b[38;5;241;43m.\u001b[39;49m\u001b[43m_engine\u001b[49m\u001b[38;5;241;43m.\u001b[39;49m\u001b[43mget_loc\u001b[49m\u001b[43m(\u001b[49m\u001b[43mcasted_key\u001b[49m\u001b[43m)\u001b[49m\n\u001b[1;32m   3806\u001b[0m \u001b[38;5;28;01mexcept\u001b[39;00m \u001b[38;5;167;01mKeyError\u001b[39;00m \u001b[38;5;28;01mas\u001b[39;00m err:\n",
      "File \u001b[0;32mindex.pyx:167\u001b[0m, in \u001b[0;36mpandas._libs.index.IndexEngine.get_loc\u001b[0;34m()\u001b[0m\n",
      "File \u001b[0;32mindex.pyx:196\u001b[0m, in \u001b[0;36mpandas._libs.index.IndexEngine.get_loc\u001b[0;34m()\u001b[0m\n",
      "File \u001b[0;32mpandas/_libs/hashtable_class_helper.pxi:7081\u001b[0m, in \u001b[0;36mpandas._libs.hashtable.PyObjectHashTable.get_item\u001b[0;34m()\u001b[0m\n",
      "File \u001b[0;32mpandas/_libs/hashtable_class_helper.pxi:7089\u001b[0m, in \u001b[0;36mpandas._libs.hashtable.PyObjectHashTable.get_item\u001b[0;34m()\u001b[0m\n",
      "\u001b[0;31mKeyError\u001b[0m: 'V'",
      "\nThe above exception was the direct cause of the following exception:\n",
      "\u001b[0;31mKeyError\u001b[0m                                  Traceback (most recent call last)",
      "Cell \u001b[0;32mIn[13], line 1\u001b[0m\n\u001b[0;32m----> 1\u001b[0m \u001b[43mschool_df\u001b[49m\u001b[43m[\u001b[49m\u001b[38;5;124;43m'\u001b[39;49m\u001b[38;5;124;43mV\u001b[39;49m\u001b[38;5;124;43m'\u001b[39;49m\u001b[43m]\u001b[49m\u001b[38;5;241m.\u001b[39misnull()\n",
      "File \u001b[0;32m~/MachineLearning/env3/lib/python3.10/site-packages/pandas/core/frame.py:4102\u001b[0m, in \u001b[0;36mDataFrame.__getitem__\u001b[0;34m(self, key)\u001b[0m\n\u001b[1;32m   4100\u001b[0m \u001b[38;5;28;01mif\u001b[39;00m \u001b[38;5;28mself\u001b[39m\u001b[38;5;241m.\u001b[39mcolumns\u001b[38;5;241m.\u001b[39mnlevels \u001b[38;5;241m>\u001b[39m \u001b[38;5;241m1\u001b[39m:\n\u001b[1;32m   4101\u001b[0m     \u001b[38;5;28;01mreturn\u001b[39;00m \u001b[38;5;28mself\u001b[39m\u001b[38;5;241m.\u001b[39m_getitem_multilevel(key)\n\u001b[0;32m-> 4102\u001b[0m indexer \u001b[38;5;241m=\u001b[39m \u001b[38;5;28;43mself\u001b[39;49m\u001b[38;5;241;43m.\u001b[39;49m\u001b[43mcolumns\u001b[49m\u001b[38;5;241;43m.\u001b[39;49m\u001b[43mget_loc\u001b[49m\u001b[43m(\u001b[49m\u001b[43mkey\u001b[49m\u001b[43m)\u001b[49m\n\u001b[1;32m   4103\u001b[0m \u001b[38;5;28;01mif\u001b[39;00m is_integer(indexer):\n\u001b[1;32m   4104\u001b[0m     indexer \u001b[38;5;241m=\u001b[39m [indexer]\n",
      "File \u001b[0;32m~/MachineLearning/env3/lib/python3.10/site-packages/pandas/core/indexes/base.py:3812\u001b[0m, in \u001b[0;36mIndex.get_loc\u001b[0;34m(self, key)\u001b[0m\n\u001b[1;32m   3807\u001b[0m     \u001b[38;5;28;01mif\u001b[39;00m \u001b[38;5;28misinstance\u001b[39m(casted_key, \u001b[38;5;28mslice\u001b[39m) \u001b[38;5;129;01mor\u001b[39;00m (\n\u001b[1;32m   3808\u001b[0m         \u001b[38;5;28misinstance\u001b[39m(casted_key, abc\u001b[38;5;241m.\u001b[39mIterable)\n\u001b[1;32m   3809\u001b[0m         \u001b[38;5;129;01mand\u001b[39;00m \u001b[38;5;28many\u001b[39m(\u001b[38;5;28misinstance\u001b[39m(x, \u001b[38;5;28mslice\u001b[39m) \u001b[38;5;28;01mfor\u001b[39;00m x \u001b[38;5;129;01min\u001b[39;00m casted_key)\n\u001b[1;32m   3810\u001b[0m     ):\n\u001b[1;32m   3811\u001b[0m         \u001b[38;5;28;01mraise\u001b[39;00m InvalidIndexError(key)\n\u001b[0;32m-> 3812\u001b[0m     \u001b[38;5;28;01mraise\u001b[39;00m \u001b[38;5;167;01mKeyError\u001b[39;00m(key) \u001b[38;5;28;01mfrom\u001b[39;00m \u001b[38;5;21;01merr\u001b[39;00m\n\u001b[1;32m   3813\u001b[0m \u001b[38;5;28;01mexcept\u001b[39;00m \u001b[38;5;167;01mTypeError\u001b[39;00m:\n\u001b[1;32m   3814\u001b[0m     \u001b[38;5;66;03m# If we have a listlike key, _check_indexing_error will raise\u001b[39;00m\n\u001b[1;32m   3815\u001b[0m     \u001b[38;5;66;03m#  InvalidIndexError. Otherwise we fall through and re-raise\u001b[39;00m\n\u001b[1;32m   3816\u001b[0m     \u001b[38;5;66;03m#  the TypeError.\u001b[39;00m\n\u001b[1;32m   3817\u001b[0m     \u001b[38;5;28mself\u001b[39m\u001b[38;5;241m.\u001b[39m_check_indexing_error(key)\n",
      "\u001b[0;31mKeyError\u001b[0m: 'V'"
     ]
    }
   ],
   "source": [
    "school_df['V'].isnull()"
   ]
  },
  {
   "cell_type": "code",
   "execution_count": 14,
   "id": "eb9d25ac-d36c-4f13-903e-39334296aee7",
   "metadata": {},
   "outputs": [
    {
     "data": {
      "text/plain": [
       "0         False\n",
       "1         False\n",
       "2         False\n",
       "3         False\n",
       "4         False\n",
       "          ...  \n",
       "101385    False\n",
       "101386    False\n",
       "101387    False\n",
       "101388    False\n",
       "101389    False\n",
       "Name: X, Length: 101390, dtype: bool"
      ]
     },
     "execution_count": 14,
     "metadata": {},
     "output_type": "execute_result"
    }
   ],
   "source": [
    "school_df['X'].isnull()"
   ]
  },
  {
   "cell_type": "code",
   "execution_count": 15,
   "id": "3ab08615-bbe8-485e-93b5-d8a1cc90e41a",
   "metadata": {},
   "outputs": [
    {
     "data": {
      "text/plain": [
       "0         True\n",
       "1         True\n",
       "2         True\n",
       "3         True\n",
       "4         True\n",
       "          ... \n",
       "101385    True\n",
       "101386    True\n",
       "101387    True\n",
       "101388    True\n",
       "101389    True\n",
       "Name: LSTREET2, Length: 101390, dtype: bool"
      ]
     },
     "execution_count": 15,
     "metadata": {},
     "output_type": "execute_result"
    }
   ],
   "source": [
    "school_df['LSTREET2'].isnull()"
   ]
  },
  {
   "cell_type": "code",
   "execution_count": 16,
   "id": "3c9ec586-1285-4afe-a4fe-2dd084457455",
   "metadata": {},
   "outputs": [
    {
     "name": "stdout",
     "output_type": "stream",
     "text": [
      "<class 'pandas.core.frame.DataFrame'>\n",
      "RangeIndex: 101390 entries, 0 to 101389\n",
      "Data columns (total 77 columns):\n",
      " #   Column            Non-Null Count   Dtype  \n",
      "---  ------            --------------   -----  \n",
      " 0   X                 101390 non-null  float64\n",
      " 1   Y                 101390 non-null  float64\n",
      " 2   OBJECTID          101390 non-null  int64  \n",
      " 3   NCESSCH           101390 non-null  int64  \n",
      " 4   SURVYEAR          101390 non-null  object \n",
      " 5   STABR             101390 non-null  object \n",
      " 6   LEAID             101390 non-null  int64  \n",
      " 7   ST_LEAID          101390 non-null  object \n",
      " 8   LEA_NAME          101390 non-null  object \n",
      " 9   SCH_NAME          101390 non-null  object \n",
      " 10  LSTREET1          101389 non-null  object \n",
      " 11  LSTREET2          572 non-null     object \n",
      " 12  LCITY             101390 non-null  object \n",
      " 13  LSTATE            101390 non-null  object \n",
      " 14  LZIP              101390 non-null  int64  \n",
      " 15  LZIP4             101390 non-null  object \n",
      " 16  PHONE             101390 non-null  object \n",
      " 17  CHARTER_TEXT      101390 non-null  object \n",
      " 18  VIRTUAL           101390 non-null  object \n",
      " 19  GSLO              101390 non-null  object \n",
      " 20  GSHI              101390 non-null  object \n",
      " 21  SCHOOL_LEVEL      101390 non-null  object \n",
      " 22  STATUS            101390 non-null  int64  \n",
      " 23  SCHOOL_TYPE_TEXT  101390 non-null  object \n",
      " 24  SY_STATUS_TEXT    101390 non-null  object \n",
      " 25  ULOCALE           101390 non-null  object \n",
      " 26  NMCNTY            101390 non-null  object \n",
      " 27  TOTFRL            101390 non-null  int64  \n",
      " 28  FRELCH            101390 non-null  int64  \n",
      " 29  REDLCH            101390 non-null  int64  \n",
      " 30  DIRECTCERT        101390 non-null  int64  \n",
      " 31  PK                32392 non-null   float64\n",
      " 32  KG                54061 non-null   float64\n",
      " 33  G01               54412 non-null   float64\n",
      " 34  G02               54469 non-null   float64\n",
      " 35  G03               54459 non-null   float64\n",
      " 36  G04               54258 non-null   float64\n",
      " 37  G05               53014 non-null   float64\n",
      " 38  G06               38023 non-null   float64\n",
      " 39  G07               33224 non-null   float64\n",
      " 40  G08               33492 non-null   float64\n",
      " 41  G09               28101 non-null   float64\n",
      " 42  G10               27889 non-null   float64\n",
      " 43  G11               27888 non-null   float64\n",
      " 44  G12               27816 non-null   float64\n",
      " 45  G13               133 non-null     float64\n",
      " 46  UG                7889 non-null    float64\n",
      " 47  AE                183 non-null     float64\n",
      " 48  TOTMENROL         98910 non-null   float64\n",
      " 49  TOTFENROL         98910 non-null   float64\n",
      " 50  TOTAL             99719 non-null   float64\n",
      " 51  MEMBER            99719 non-null   float64\n",
      " 52  FTE               97537 non-null   float64\n",
      " 53  STUTERATIO        99576 non-null   float64\n",
      " 54  AMALM             98809 non-null   float64\n",
      " 55  AMALF             98811 non-null   float64\n",
      " 56  AM                98857 non-null   float64\n",
      " 57  ASALM             98898 non-null   float64\n",
      " 58  ASALF             98900 non-null   float64\n",
      " 59  AS_               98906 non-null   float64\n",
      " 60  BLALM             98896 non-null   float64\n",
      " 61  BLALF             98893 non-null   float64\n",
      " 62  BL                98903 non-null   float64\n",
      " 63  HPALM             98782 non-null   float64\n",
      " 64  HPALF             98783 non-null   float64\n",
      " 65  HP                98829 non-null   float64\n",
      " 66  HIALM             98909 non-null   float64\n",
      " 67  HIALF             98910 non-null   float64\n",
      " 68  HI                98910 non-null   float64\n",
      " 69  TRALM             98903 non-null   float64\n",
      " 70  TRALF             98905 non-null   float64\n",
      " 71  TR                98906 non-null   float64\n",
      " 72  WHALM             98909 non-null   float64\n",
      " 73  WHALF             98909 non-null   float64\n",
      " 74  WH                98910 non-null   float64\n",
      " 75  LATCOD            101390 non-null  float64\n",
      " 76  LONCOD            101390 non-null  float64\n",
      "dtypes: float64(48), int64(9), object(20)\n",
      "memory usage: 59.6+ MB\n",
      "None\n"
     ]
    }
   ],
   "source": [
    "print(school_df.info())"
   ]
  },
  {
   "cell_type": "code",
   "execution_count": 17,
   "id": "5bc109f1-5150-467f-a041-3156143ed6b9",
   "metadata": {},
   "outputs": [
    {
     "ename": "NameError",
     "evalue": "name 'df' is not defined",
     "output_type": "error",
     "traceback": [
      "\u001b[0;31m---------------------------------------------------------------------------\u001b[0m",
      "\u001b[0;31mNameError\u001b[0m                                 Traceback (most recent call last)",
      "Cell \u001b[0;32mIn[17], line 1\u001b[0m\n\u001b[0;32m----> 1\u001b[0m \u001b[38;5;28mprint\u001b[39m(\u001b[43mdf\u001b[49m\u001b[38;5;241m.\u001b[39mdescribe())\n",
      "\u001b[0;31mNameError\u001b[0m: name 'df' is not defined"
     ]
    }
   ],
   "source": [
    "print(df.describe())\n"
   ]
  },
  {
   "cell_type": "code",
   "execution_count": 18,
   "id": "ff4d78e3-d066-4211-80cf-b64d42e6476d",
   "metadata": {},
   "outputs": [
    {
     "name": "stdout",
     "output_type": "stream",
     "text": [
      "                  X             Y       OBJECTID       NCESSCH         LEAID  \\\n",
      "count  1.013900e+05  1.013900e+05  101390.000000  1.013900e+05  1.013900e+05   \n",
      "mean  -1.035481e+07  4.586865e+06   50695.500000  2.896105e+11  2.896105e+06   \n",
      "std    1.951422e+06  8.175315e+05   29268.916234  1.657619e+11  1.657619e+06   \n",
      "min   -1.966351e+07 -1.614277e+06       1.000000  1.000050e+10  1.000050e+05   \n",
      "25%   -1.133816e+07  4.022171e+06   25348.250000  1.302820e+11  1.302820e+06   \n",
      "50%   -9.974599e+06  4.685173e+06   50695.500000  2.909810e+11  2.909810e+06   \n",
      "75%   -9.046134e+06  5.111759e+06   76042.750000  4.218990e+11  4.218990e+06   \n",
      "max    1.622865e+07  1.150575e+07  101390.000000  7.800030e+11  7.800030e+06   \n",
      "\n",
      "                LZIP         STATUS         TOTFRL         FRELCH  \\\n",
      "count  101390.000000  101390.000000  101390.000000  101390.000000   \n",
      "mean    54142.143486       1.067245     245.605227     210.221412   \n",
      "std     29019.175805       0.543609     286.333793     261.173677   \n",
      "min       601.000000       1.000000      -9.000000      -9.000000   \n",
      "25%     30228.000000       1.000000      51.000000      22.000000   \n",
      "50%     55336.000000       1.000000     175.500000     139.000000   \n",
      "75%     78610.000000       1.000000     347.000000     305.000000   \n",
      "max     99950.000000       8.000000   10074.000000    5563.000000   \n",
      "\n",
      "              REDLCH  ...         HIALF            HI         TRALM  \\\n",
      "count  101390.000000  ...  98910.000000  98910.000000  98903.000000   \n",
      "mean       22.268074  ...     70.106005    143.420059     12.459117   \n",
      "std        42.551195  ...    117.565596    239.029766     17.699249   \n",
      "min        -9.000000  ...      0.000000      0.000000      0.000000   \n",
      "25%         0.000000  ...      6.000000     13.000000      2.000000   \n",
      "50%        10.000000  ...     26.000000     54.000000      7.000000   \n",
      "75%        29.000000  ...     86.000000    177.000000     17.000000   \n",
      "max      1400.000000  ...   3883.000000   6894.000000   1714.000000   \n",
      "\n",
      "              TRALF            TR         WHALM         WHALF            WH  \\\n",
      "count  98905.000000  98906.000000  98909.000000  98909.000000  98910.000000   \n",
      "mean      12.046732     24.505349    114.297061    107.005894    221.300718   \n",
      "std       17.599337     34.872361    134.294673    129.277185    262.807276   \n",
      "min        0.000000      0.000000      0.000000      0.000000      0.000000   \n",
      "25%        2.000000      4.000000     18.000000     15.000000     33.000000   \n",
      "50%        7.000000     15.000000     80.000000     74.000000    154.000000   \n",
      "75%       17.000000     34.000000    165.000000    154.000000    318.000000   \n",
      "max     1548.000000   3262.000000   5736.000000   5942.000000  11678.000000   \n",
      "\n",
      "              LATCOD         LONCOD  \n",
      "count  101390.000000  101390.000000  \n",
      "mean       37.829053     -93.018793  \n",
      "std         5.742854      17.529915  \n",
      "min       -14.348924    -176.640331  \n",
      "25%        33.950597    -101.852437  \n",
      "50%        38.744732     -89.603342  \n",
      "75%        41.670558     -81.262800  \n",
      "max        71.300337     145.784430  \n",
      "\n",
      "[8 rows x 57 columns]\n"
     ]
    }
   ],
   "source": [
    "print(school_df.describe())\n"
   ]
  },
  {
   "cell_type": "code",
   "execution_count": 19,
   "id": "700a9b37-200b-407f-bab3-d107761e6509",
   "metadata": {},
   "outputs": [
    {
     "ename": "NameError",
     "evalue": "name 'df' is not defined",
     "output_type": "error",
     "traceback": [
      "\u001b[0;31m---------------------------------------------------------------------------\u001b[0m",
      "\u001b[0;31mNameError\u001b[0m                                 Traceback (most recent call last)",
      "Cell \u001b[0;32mIn[19], line 1\u001b[0m\n\u001b[0;32m----> 1\u001b[0m \u001b[38;5;28mprint\u001b[39m(\u001b[43mdf\u001b[49m\u001b[38;5;241m.\u001b[39misnull()\u001b[38;5;241m.\u001b[39msum())\n",
      "\u001b[0;31mNameError\u001b[0m: name 'df' is not defined"
     ]
    }
   ],
   "source": [
    "print(df.isnull().sum())\n"
   ]
  },
  {
   "cell_type": "code",
   "execution_count": 20,
   "id": "049e7886-2e24-4aba-b296-028bdb3f7baa",
   "metadata": {},
   "outputs": [
    {
     "name": "stdout",
     "output_type": "stream",
     "text": [
      "X              0\n",
      "Y              0\n",
      "OBJECTID       0\n",
      "NCESSCH        0\n",
      "SURVYEAR       0\n",
      "            ... \n",
      "WHALM       2481\n",
      "WHALF       2481\n",
      "WH          2480\n",
      "LATCOD         0\n",
      "LONCOD         0\n",
      "Length: 77, dtype: int64\n"
     ]
    }
   ],
   "source": [
    "print(school_df.isnull().sum())\n"
   ]
  },
  {
   "cell_type": "code",
   "execution_count": null,
   "id": "f3340115-0ffc-4cd9-8228-86bfe888feff",
   "metadata": {},
   "outputs": [],
   "source": [
    "for col in school_df.columns:\n",
    "    print(f\"Column: {col}\")\n",
    "    print(school_df[col].value_counts(), \"\\n\")"
   ]
  },
  {
   "cell_type": "code",
   "execution_count": null,
   "id": "f3410698-0a3a-430d-ace2-f52dda63dfc3",
   "metadata": {},
   "outputs": [],
   "source": []
  },
  {
   "cell_type": "code",
   "execution_count": 45,
   "id": "c6fdc53f-c961-455d-8007-7e240bd57134",
   "metadata": {},
   "outputs": [
    {
     "ename": "TypeError",
     "evalue": "can only concatenate str (not \"int\") to str",
     "output_type": "error",
     "traceback": [
      "\u001b[0;31m---------------------------------------------------------------------------\u001b[0m",
      "\u001b[0;31mTypeError\u001b[0m                                 Traceback (most recent call last)",
      "Cell \u001b[0;32mIn[45], line 1\u001b[0m\n\u001b[0;32m----> 1\u001b[0m df\u001b[38;5;241m.\u001b[39mfillna(\u001b[43mdf\u001b[49m\u001b[38;5;241;43m.\u001b[39;49m\u001b[43mmean\u001b[49m\u001b[43m(\u001b[49m\u001b[43m)\u001b[49m, inplace\u001b[38;5;241m=\u001b[39m\u001b[38;5;28;01mTrue\u001b[39;00m)\n",
      "File \u001b[0;32m~/MachineLearning/env3/lib/python3.10/site-packages/pandas/core/frame.py:11693\u001b[0m, in \u001b[0;36mDataFrame.mean\u001b[0;34m(self, axis, skipna, numeric_only, **kwargs)\u001b[0m\n\u001b[1;32m  11685\u001b[0m \u001b[38;5;129m@doc\u001b[39m(make_doc(\u001b[38;5;124m\"\u001b[39m\u001b[38;5;124mmean\u001b[39m\u001b[38;5;124m\"\u001b[39m, ndim\u001b[38;5;241m=\u001b[39m\u001b[38;5;241m2\u001b[39m))\n\u001b[1;32m  11686\u001b[0m \u001b[38;5;28;01mdef\u001b[39;00m \u001b[38;5;21mmean\u001b[39m(\n\u001b[1;32m  11687\u001b[0m     \u001b[38;5;28mself\u001b[39m,\n\u001b[0;32m   (...)\u001b[0m\n\u001b[1;32m  11691\u001b[0m     \u001b[38;5;241m*\u001b[39m\u001b[38;5;241m*\u001b[39mkwargs,\n\u001b[1;32m  11692\u001b[0m ):\n\u001b[0;32m> 11693\u001b[0m     result \u001b[38;5;241m=\u001b[39m \u001b[38;5;28;43msuper\u001b[39;49m\u001b[43m(\u001b[49m\u001b[43m)\u001b[49m\u001b[38;5;241;43m.\u001b[39;49m\u001b[43mmean\u001b[49m\u001b[43m(\u001b[49m\u001b[43maxis\u001b[49m\u001b[43m,\u001b[49m\u001b[43m \u001b[49m\u001b[43mskipna\u001b[49m\u001b[43m,\u001b[49m\u001b[43m \u001b[49m\u001b[43mnumeric_only\u001b[49m\u001b[43m,\u001b[49m\u001b[43m \u001b[49m\u001b[38;5;241;43m*\u001b[39;49m\u001b[38;5;241;43m*\u001b[39;49m\u001b[43mkwargs\u001b[49m\u001b[43m)\u001b[49m\n\u001b[1;32m  11694\u001b[0m     \u001b[38;5;28;01mif\u001b[39;00m \u001b[38;5;28misinstance\u001b[39m(result, Series):\n\u001b[1;32m  11695\u001b[0m         result \u001b[38;5;241m=\u001b[39m result\u001b[38;5;241m.\u001b[39m__finalize__(\u001b[38;5;28mself\u001b[39m, method\u001b[38;5;241m=\u001b[39m\u001b[38;5;124m\"\u001b[39m\u001b[38;5;124mmean\u001b[39m\u001b[38;5;124m\"\u001b[39m)\n",
      "File \u001b[0;32m~/MachineLearning/env3/lib/python3.10/site-packages/pandas/core/generic.py:12420\u001b[0m, in \u001b[0;36mNDFrame.mean\u001b[0;34m(self, axis, skipna, numeric_only, **kwargs)\u001b[0m\n\u001b[1;32m  12413\u001b[0m \u001b[38;5;28;01mdef\u001b[39;00m \u001b[38;5;21mmean\u001b[39m(\n\u001b[1;32m  12414\u001b[0m     \u001b[38;5;28mself\u001b[39m,\n\u001b[1;32m  12415\u001b[0m     axis: Axis \u001b[38;5;241m|\u001b[39m \u001b[38;5;28;01mNone\u001b[39;00m \u001b[38;5;241m=\u001b[39m \u001b[38;5;241m0\u001b[39m,\n\u001b[0;32m   (...)\u001b[0m\n\u001b[1;32m  12418\u001b[0m     \u001b[38;5;241m*\u001b[39m\u001b[38;5;241m*\u001b[39mkwargs,\n\u001b[1;32m  12419\u001b[0m ) \u001b[38;5;241m-\u001b[39m\u001b[38;5;241m>\u001b[39m Series \u001b[38;5;241m|\u001b[39m \u001b[38;5;28mfloat\u001b[39m:\n\u001b[0;32m> 12420\u001b[0m     \u001b[38;5;28;01mreturn\u001b[39;00m \u001b[38;5;28;43mself\u001b[39;49m\u001b[38;5;241;43m.\u001b[39;49m\u001b[43m_stat_function\u001b[49m\u001b[43m(\u001b[49m\n\u001b[1;32m  12421\u001b[0m \u001b[43m        \u001b[49m\u001b[38;5;124;43m\"\u001b[39;49m\u001b[38;5;124;43mmean\u001b[39;49m\u001b[38;5;124;43m\"\u001b[39;49m\u001b[43m,\u001b[49m\u001b[43m \u001b[49m\u001b[43mnanops\u001b[49m\u001b[38;5;241;43m.\u001b[39;49m\u001b[43mnanmean\u001b[49m\u001b[43m,\u001b[49m\u001b[43m \u001b[49m\u001b[43maxis\u001b[49m\u001b[43m,\u001b[49m\u001b[43m \u001b[49m\u001b[43mskipna\u001b[49m\u001b[43m,\u001b[49m\u001b[43m \u001b[49m\u001b[43mnumeric_only\u001b[49m\u001b[43m,\u001b[49m\u001b[43m \u001b[49m\u001b[38;5;241;43m*\u001b[39;49m\u001b[38;5;241;43m*\u001b[39;49m\u001b[43mkwargs\u001b[49m\n\u001b[1;32m  12422\u001b[0m \u001b[43m    \u001b[49m\u001b[43m)\u001b[49m\n",
      "File \u001b[0;32m~/MachineLearning/env3/lib/python3.10/site-packages/pandas/core/generic.py:12377\u001b[0m, in \u001b[0;36mNDFrame._stat_function\u001b[0;34m(self, name, func, axis, skipna, numeric_only, **kwargs)\u001b[0m\n\u001b[1;32m  12373\u001b[0m nv\u001b[38;5;241m.\u001b[39mvalidate_func(name, (), kwargs)\n\u001b[1;32m  12375\u001b[0m validate_bool_kwarg(skipna, \u001b[38;5;124m\"\u001b[39m\u001b[38;5;124mskipna\u001b[39m\u001b[38;5;124m\"\u001b[39m, none_allowed\u001b[38;5;241m=\u001b[39m\u001b[38;5;28;01mFalse\u001b[39;00m)\n\u001b[0;32m> 12377\u001b[0m \u001b[38;5;28;01mreturn\u001b[39;00m \u001b[38;5;28;43mself\u001b[39;49m\u001b[38;5;241;43m.\u001b[39;49m\u001b[43m_reduce\u001b[49m\u001b[43m(\u001b[49m\n\u001b[1;32m  12378\u001b[0m \u001b[43m    \u001b[49m\u001b[43mfunc\u001b[49m\u001b[43m,\u001b[49m\u001b[43m \u001b[49m\u001b[43mname\u001b[49m\u001b[38;5;241;43m=\u001b[39;49m\u001b[43mname\u001b[49m\u001b[43m,\u001b[49m\u001b[43m \u001b[49m\u001b[43maxis\u001b[49m\u001b[38;5;241;43m=\u001b[39;49m\u001b[43maxis\u001b[49m\u001b[43m,\u001b[49m\u001b[43m \u001b[49m\u001b[43mskipna\u001b[49m\u001b[38;5;241;43m=\u001b[39;49m\u001b[43mskipna\u001b[49m\u001b[43m,\u001b[49m\u001b[43m \u001b[49m\u001b[43mnumeric_only\u001b[49m\u001b[38;5;241;43m=\u001b[39;49m\u001b[43mnumeric_only\u001b[49m\n\u001b[1;32m  12379\u001b[0m \u001b[43m\u001b[49m\u001b[43m)\u001b[49m\n",
      "File \u001b[0;32m~/MachineLearning/env3/lib/python3.10/site-packages/pandas/core/frame.py:11562\u001b[0m, in \u001b[0;36mDataFrame._reduce\u001b[0;34m(self, op, name, axis, skipna, numeric_only, filter_type, **kwds)\u001b[0m\n\u001b[1;32m  11558\u001b[0m     df \u001b[38;5;241m=\u001b[39m df\u001b[38;5;241m.\u001b[39mT\n\u001b[1;32m  11560\u001b[0m \u001b[38;5;66;03m# After possibly _get_data and transposing, we are now in the\u001b[39;00m\n\u001b[1;32m  11561\u001b[0m \u001b[38;5;66;03m#  simple case where we can use BlockManager.reduce\u001b[39;00m\n\u001b[0;32m> 11562\u001b[0m res \u001b[38;5;241m=\u001b[39m \u001b[43mdf\u001b[49m\u001b[38;5;241;43m.\u001b[39;49m\u001b[43m_mgr\u001b[49m\u001b[38;5;241;43m.\u001b[39;49m\u001b[43mreduce\u001b[49m\u001b[43m(\u001b[49m\u001b[43mblk_func\u001b[49m\u001b[43m)\u001b[49m\n\u001b[1;32m  11563\u001b[0m out \u001b[38;5;241m=\u001b[39m df\u001b[38;5;241m.\u001b[39m_constructor_from_mgr(res, axes\u001b[38;5;241m=\u001b[39mres\u001b[38;5;241m.\u001b[39maxes)\u001b[38;5;241m.\u001b[39miloc[\u001b[38;5;241m0\u001b[39m]\n\u001b[1;32m  11564\u001b[0m \u001b[38;5;28;01mif\u001b[39;00m out_dtype \u001b[38;5;129;01mis\u001b[39;00m \u001b[38;5;129;01mnot\u001b[39;00m \u001b[38;5;28;01mNone\u001b[39;00m \u001b[38;5;129;01mand\u001b[39;00m out\u001b[38;5;241m.\u001b[39mdtype \u001b[38;5;241m!=\u001b[39m \u001b[38;5;124m\"\u001b[39m\u001b[38;5;124mboolean\u001b[39m\u001b[38;5;124m\"\u001b[39m:\n",
      "File \u001b[0;32m~/MachineLearning/env3/lib/python3.10/site-packages/pandas/core/internals/managers.py:1500\u001b[0m, in \u001b[0;36mBlockManager.reduce\u001b[0;34m(self, func)\u001b[0m\n\u001b[1;32m   1498\u001b[0m res_blocks: \u001b[38;5;28mlist\u001b[39m[Block] \u001b[38;5;241m=\u001b[39m []\n\u001b[1;32m   1499\u001b[0m \u001b[38;5;28;01mfor\u001b[39;00m blk \u001b[38;5;129;01min\u001b[39;00m \u001b[38;5;28mself\u001b[39m\u001b[38;5;241m.\u001b[39mblocks:\n\u001b[0;32m-> 1500\u001b[0m     nbs \u001b[38;5;241m=\u001b[39m \u001b[43mblk\u001b[49m\u001b[38;5;241;43m.\u001b[39;49m\u001b[43mreduce\u001b[49m\u001b[43m(\u001b[49m\u001b[43mfunc\u001b[49m\u001b[43m)\u001b[49m\n\u001b[1;32m   1501\u001b[0m     res_blocks\u001b[38;5;241m.\u001b[39mextend(nbs)\n\u001b[1;32m   1503\u001b[0m index \u001b[38;5;241m=\u001b[39m Index([\u001b[38;5;28;01mNone\u001b[39;00m])  \u001b[38;5;66;03m# placeholder\u001b[39;00m\n",
      "File \u001b[0;32m~/MachineLearning/env3/lib/python3.10/site-packages/pandas/core/internals/blocks.py:404\u001b[0m, in \u001b[0;36mBlock.reduce\u001b[0;34m(self, func)\u001b[0m\n\u001b[1;32m    398\u001b[0m \u001b[38;5;129m@final\u001b[39m\n\u001b[1;32m    399\u001b[0m \u001b[38;5;28;01mdef\u001b[39;00m \u001b[38;5;21mreduce\u001b[39m(\u001b[38;5;28mself\u001b[39m, func) \u001b[38;5;241m-\u001b[39m\u001b[38;5;241m>\u001b[39m \u001b[38;5;28mlist\u001b[39m[Block]:\n\u001b[1;32m    400\u001b[0m     \u001b[38;5;66;03m# We will apply the function and reshape the result into a single-row\u001b[39;00m\n\u001b[1;32m    401\u001b[0m     \u001b[38;5;66;03m#  Block with the same mgr_locs; squeezing will be done at a higher level\u001b[39;00m\n\u001b[1;32m    402\u001b[0m     \u001b[38;5;28;01massert\u001b[39;00m \u001b[38;5;28mself\u001b[39m\u001b[38;5;241m.\u001b[39mndim \u001b[38;5;241m==\u001b[39m \u001b[38;5;241m2\u001b[39m\n\u001b[0;32m--> 404\u001b[0m     result \u001b[38;5;241m=\u001b[39m \u001b[43mfunc\u001b[49m\u001b[43m(\u001b[49m\u001b[38;5;28;43mself\u001b[39;49m\u001b[38;5;241;43m.\u001b[39;49m\u001b[43mvalues\u001b[49m\u001b[43m)\u001b[49m\n\u001b[1;32m    406\u001b[0m     \u001b[38;5;28;01mif\u001b[39;00m \u001b[38;5;28mself\u001b[39m\u001b[38;5;241m.\u001b[39mvalues\u001b[38;5;241m.\u001b[39mndim \u001b[38;5;241m==\u001b[39m \u001b[38;5;241m1\u001b[39m:\n\u001b[1;32m    407\u001b[0m         res_values \u001b[38;5;241m=\u001b[39m result\n",
      "File \u001b[0;32m~/MachineLearning/env3/lib/python3.10/site-packages/pandas/core/frame.py:11481\u001b[0m, in \u001b[0;36mDataFrame._reduce.<locals>.blk_func\u001b[0;34m(values, axis)\u001b[0m\n\u001b[1;32m  11479\u001b[0m         \u001b[38;5;28;01mreturn\u001b[39;00m np\u001b[38;5;241m.\u001b[39marray([result])\n\u001b[1;32m  11480\u001b[0m \u001b[38;5;28;01melse\u001b[39;00m:\n\u001b[0;32m> 11481\u001b[0m     \u001b[38;5;28;01mreturn\u001b[39;00m \u001b[43mop\u001b[49m\u001b[43m(\u001b[49m\u001b[43mvalues\u001b[49m\u001b[43m,\u001b[49m\u001b[43m \u001b[49m\u001b[43maxis\u001b[49m\u001b[38;5;241;43m=\u001b[39;49m\u001b[43maxis\u001b[49m\u001b[43m,\u001b[49m\u001b[43m \u001b[49m\u001b[43mskipna\u001b[49m\u001b[38;5;241;43m=\u001b[39;49m\u001b[43mskipna\u001b[49m\u001b[43m,\u001b[49m\u001b[43m \u001b[49m\u001b[38;5;241;43m*\u001b[39;49m\u001b[38;5;241;43m*\u001b[39;49m\u001b[43mkwds\u001b[49m\u001b[43m)\u001b[49m\n",
      "File \u001b[0;32m~/MachineLearning/env3/lib/python3.10/site-packages/pandas/core/nanops.py:147\u001b[0m, in \u001b[0;36mbottleneck_switch.__call__.<locals>.f\u001b[0;34m(values, axis, skipna, **kwds)\u001b[0m\n\u001b[1;32m    145\u001b[0m         result \u001b[38;5;241m=\u001b[39m alt(values, axis\u001b[38;5;241m=\u001b[39maxis, skipna\u001b[38;5;241m=\u001b[39mskipna, \u001b[38;5;241m*\u001b[39m\u001b[38;5;241m*\u001b[39mkwds)\n\u001b[1;32m    146\u001b[0m \u001b[38;5;28;01melse\u001b[39;00m:\n\u001b[0;32m--> 147\u001b[0m     result \u001b[38;5;241m=\u001b[39m \u001b[43malt\u001b[49m\u001b[43m(\u001b[49m\u001b[43mvalues\u001b[49m\u001b[43m,\u001b[49m\u001b[43m \u001b[49m\u001b[43maxis\u001b[49m\u001b[38;5;241;43m=\u001b[39;49m\u001b[43maxis\u001b[49m\u001b[43m,\u001b[49m\u001b[43m \u001b[49m\u001b[43mskipna\u001b[49m\u001b[38;5;241;43m=\u001b[39;49m\u001b[43mskipna\u001b[49m\u001b[43m,\u001b[49m\u001b[43m \u001b[49m\u001b[38;5;241;43m*\u001b[39;49m\u001b[38;5;241;43m*\u001b[39;49m\u001b[43mkwds\u001b[49m\u001b[43m)\u001b[49m\n\u001b[1;32m    149\u001b[0m \u001b[38;5;28;01mreturn\u001b[39;00m result\n",
      "File \u001b[0;32m~/MachineLearning/env3/lib/python3.10/site-packages/pandas/core/nanops.py:404\u001b[0m, in \u001b[0;36m_datetimelike_compat.<locals>.new_func\u001b[0;34m(values, axis, skipna, mask, **kwargs)\u001b[0m\n\u001b[1;32m    401\u001b[0m \u001b[38;5;28;01mif\u001b[39;00m datetimelike \u001b[38;5;129;01mand\u001b[39;00m mask \u001b[38;5;129;01mis\u001b[39;00m \u001b[38;5;28;01mNone\u001b[39;00m:\n\u001b[1;32m    402\u001b[0m     mask \u001b[38;5;241m=\u001b[39m isna(values)\n\u001b[0;32m--> 404\u001b[0m result \u001b[38;5;241m=\u001b[39m \u001b[43mfunc\u001b[49m\u001b[43m(\u001b[49m\u001b[43mvalues\u001b[49m\u001b[43m,\u001b[49m\u001b[43m \u001b[49m\u001b[43maxis\u001b[49m\u001b[38;5;241;43m=\u001b[39;49m\u001b[43maxis\u001b[49m\u001b[43m,\u001b[49m\u001b[43m \u001b[49m\u001b[43mskipna\u001b[49m\u001b[38;5;241;43m=\u001b[39;49m\u001b[43mskipna\u001b[49m\u001b[43m,\u001b[49m\u001b[43m \u001b[49m\u001b[43mmask\u001b[49m\u001b[38;5;241;43m=\u001b[39;49m\u001b[43mmask\u001b[49m\u001b[43m,\u001b[49m\u001b[43m \u001b[49m\u001b[38;5;241;43m*\u001b[39;49m\u001b[38;5;241;43m*\u001b[39;49m\u001b[43mkwargs\u001b[49m\u001b[43m)\u001b[49m\n\u001b[1;32m    406\u001b[0m \u001b[38;5;28;01mif\u001b[39;00m datetimelike:\n\u001b[1;32m    407\u001b[0m     result \u001b[38;5;241m=\u001b[39m _wrap_results(result, orig_values\u001b[38;5;241m.\u001b[39mdtype, fill_value\u001b[38;5;241m=\u001b[39miNaT)\n",
      "File \u001b[0;32m~/MachineLearning/env3/lib/python3.10/site-packages/pandas/core/nanops.py:719\u001b[0m, in \u001b[0;36mnanmean\u001b[0;34m(values, axis, skipna, mask)\u001b[0m\n\u001b[1;32m    716\u001b[0m     dtype_count \u001b[38;5;241m=\u001b[39m dtype\n\u001b[1;32m    718\u001b[0m count \u001b[38;5;241m=\u001b[39m _get_counts(values\u001b[38;5;241m.\u001b[39mshape, mask, axis, dtype\u001b[38;5;241m=\u001b[39mdtype_count)\n\u001b[0;32m--> 719\u001b[0m the_sum \u001b[38;5;241m=\u001b[39m \u001b[43mvalues\u001b[49m\u001b[38;5;241;43m.\u001b[39;49m\u001b[43msum\u001b[49m\u001b[43m(\u001b[49m\u001b[43maxis\u001b[49m\u001b[43m,\u001b[49m\u001b[43m \u001b[49m\u001b[43mdtype\u001b[49m\u001b[38;5;241;43m=\u001b[39;49m\u001b[43mdtype_sum\u001b[49m\u001b[43m)\u001b[49m\n\u001b[1;32m    720\u001b[0m the_sum \u001b[38;5;241m=\u001b[39m _ensure_numeric(the_sum)\n\u001b[1;32m    722\u001b[0m \u001b[38;5;28;01mif\u001b[39;00m axis \u001b[38;5;129;01mis\u001b[39;00m \u001b[38;5;129;01mnot\u001b[39;00m \u001b[38;5;28;01mNone\u001b[39;00m \u001b[38;5;129;01mand\u001b[39;00m \u001b[38;5;28mgetattr\u001b[39m(the_sum, \u001b[38;5;124m\"\u001b[39m\u001b[38;5;124mndim\u001b[39m\u001b[38;5;124m\"\u001b[39m, \u001b[38;5;28;01mFalse\u001b[39;00m):\n",
      "File \u001b[0;32m~/MachineLearning/env3/lib/python3.10/site-packages/numpy/_core/_methods.py:52\u001b[0m, in \u001b[0;36m_sum\u001b[0;34m(a, axis, dtype, out, keepdims, initial, where)\u001b[0m\n\u001b[1;32m     50\u001b[0m \u001b[38;5;28;01mdef\u001b[39;00m \u001b[38;5;21m_sum\u001b[39m(a, axis\u001b[38;5;241m=\u001b[39m\u001b[38;5;28;01mNone\u001b[39;00m, dtype\u001b[38;5;241m=\u001b[39m\u001b[38;5;28;01mNone\u001b[39;00m, out\u001b[38;5;241m=\u001b[39m\u001b[38;5;28;01mNone\u001b[39;00m, keepdims\u001b[38;5;241m=\u001b[39m\u001b[38;5;28;01mFalse\u001b[39;00m,\n\u001b[1;32m     51\u001b[0m          initial\u001b[38;5;241m=\u001b[39m_NoValue, where\u001b[38;5;241m=\u001b[39m\u001b[38;5;28;01mTrue\u001b[39;00m):\n\u001b[0;32m---> 52\u001b[0m     \u001b[38;5;28;01mreturn\u001b[39;00m \u001b[43mumr_sum\u001b[49m\u001b[43m(\u001b[49m\u001b[43ma\u001b[49m\u001b[43m,\u001b[49m\u001b[43m \u001b[49m\u001b[43maxis\u001b[49m\u001b[43m,\u001b[49m\u001b[43m \u001b[49m\u001b[43mdtype\u001b[49m\u001b[43m,\u001b[49m\u001b[43m \u001b[49m\u001b[43mout\u001b[49m\u001b[43m,\u001b[49m\u001b[43m \u001b[49m\u001b[43mkeepdims\u001b[49m\u001b[43m,\u001b[49m\u001b[43m \u001b[49m\u001b[43minitial\u001b[49m\u001b[43m,\u001b[49m\u001b[43m \u001b[49m\u001b[43mwhere\u001b[49m\u001b[43m)\u001b[49m\n",
      "\u001b[0;31mTypeError\u001b[0m: can only concatenate str (not \"int\") to str"
     ]
    }
   ],
   "source": [
    "df.fillna(df.mean(), inplace=True)\n"
   ]
  },
  {
   "cell_type": "code",
   "execution_count": null,
   "id": "46de5318-ab61-4d3e-a4d2-5779be289ec6",
   "metadata": {},
   "outputs": [],
   "source": [
    "school_df.fillna(school_df.mean(), inplace=True)\n"
   ]
  },
  {
   "cell_type": "code",
   "execution_count": null,
   "id": "362677e7-f362-41ac-bdcb-b86cdf43308f",
   "metadata": {},
   "outputs": [],
   "source": [
    "school_df = pd.read_csv('/home/student/Downloads/school_data_set.csv', dtype={11: str})\n"
   ]
  },
  {
   "cell_type": "code",
   "execution_count": 11,
   "id": "6ae412bf-8835-4568-9646-32d18be1e965",
   "metadata": {},
   "outputs": [
    {
     "ename": "TypeError",
     "evalue": "can only concatenate str (not \"int\") to str",
     "output_type": "error",
     "traceback": [
      "\u001b[0;31m---------------------------------------------------------------------------\u001b[0m",
      "\u001b[0;31mTypeError\u001b[0m                                 Traceback (most recent call last)",
      "Cell \u001b[0;32mIn[11], line 1\u001b[0m\n\u001b[0;32m----> 1\u001b[0m school_df\u001b[38;5;241m.\u001b[39mfillna(\u001b[43mschool_df\u001b[49m\u001b[38;5;241;43m.\u001b[39;49m\u001b[43mmean\u001b[49m\u001b[43m(\u001b[49m\u001b[43m)\u001b[49m, inplace\u001b[38;5;241m=\u001b[39m\u001b[38;5;28;01mTrue\u001b[39;00m)\n",
      "File \u001b[0;32m~/MachineLearning/env3/lib/python3.10/site-packages/pandas/core/frame.py:11693\u001b[0m, in \u001b[0;36mDataFrame.mean\u001b[0;34m(self, axis, skipna, numeric_only, **kwargs)\u001b[0m\n\u001b[1;32m  11685\u001b[0m \u001b[38;5;129m@doc\u001b[39m(make_doc(\u001b[38;5;124m\"\u001b[39m\u001b[38;5;124mmean\u001b[39m\u001b[38;5;124m\"\u001b[39m, ndim\u001b[38;5;241m=\u001b[39m\u001b[38;5;241m2\u001b[39m))\n\u001b[1;32m  11686\u001b[0m \u001b[38;5;28;01mdef\u001b[39;00m \u001b[38;5;21mmean\u001b[39m(\n\u001b[1;32m  11687\u001b[0m     \u001b[38;5;28mself\u001b[39m,\n\u001b[0;32m   (...)\u001b[0m\n\u001b[1;32m  11691\u001b[0m     \u001b[38;5;241m*\u001b[39m\u001b[38;5;241m*\u001b[39mkwargs,\n\u001b[1;32m  11692\u001b[0m ):\n\u001b[0;32m> 11693\u001b[0m     result \u001b[38;5;241m=\u001b[39m \u001b[38;5;28;43msuper\u001b[39;49m\u001b[43m(\u001b[49m\u001b[43m)\u001b[49m\u001b[38;5;241;43m.\u001b[39;49m\u001b[43mmean\u001b[49m\u001b[43m(\u001b[49m\u001b[43maxis\u001b[49m\u001b[43m,\u001b[49m\u001b[43m \u001b[49m\u001b[43mskipna\u001b[49m\u001b[43m,\u001b[49m\u001b[43m \u001b[49m\u001b[43mnumeric_only\u001b[49m\u001b[43m,\u001b[49m\u001b[43m \u001b[49m\u001b[38;5;241;43m*\u001b[39;49m\u001b[38;5;241;43m*\u001b[39;49m\u001b[43mkwargs\u001b[49m\u001b[43m)\u001b[49m\n\u001b[1;32m  11694\u001b[0m     \u001b[38;5;28;01mif\u001b[39;00m \u001b[38;5;28misinstance\u001b[39m(result, Series):\n\u001b[1;32m  11695\u001b[0m         result \u001b[38;5;241m=\u001b[39m result\u001b[38;5;241m.\u001b[39m__finalize__(\u001b[38;5;28mself\u001b[39m, method\u001b[38;5;241m=\u001b[39m\u001b[38;5;124m\"\u001b[39m\u001b[38;5;124mmean\u001b[39m\u001b[38;5;124m\"\u001b[39m)\n",
      "File \u001b[0;32m~/MachineLearning/env3/lib/python3.10/site-packages/pandas/core/generic.py:12420\u001b[0m, in \u001b[0;36mNDFrame.mean\u001b[0;34m(self, axis, skipna, numeric_only, **kwargs)\u001b[0m\n\u001b[1;32m  12413\u001b[0m \u001b[38;5;28;01mdef\u001b[39;00m \u001b[38;5;21mmean\u001b[39m(\n\u001b[1;32m  12414\u001b[0m     \u001b[38;5;28mself\u001b[39m,\n\u001b[1;32m  12415\u001b[0m     axis: Axis \u001b[38;5;241m|\u001b[39m \u001b[38;5;28;01mNone\u001b[39;00m \u001b[38;5;241m=\u001b[39m \u001b[38;5;241m0\u001b[39m,\n\u001b[0;32m   (...)\u001b[0m\n\u001b[1;32m  12418\u001b[0m     \u001b[38;5;241m*\u001b[39m\u001b[38;5;241m*\u001b[39mkwargs,\n\u001b[1;32m  12419\u001b[0m ) \u001b[38;5;241m-\u001b[39m\u001b[38;5;241m>\u001b[39m Series \u001b[38;5;241m|\u001b[39m \u001b[38;5;28mfloat\u001b[39m:\n\u001b[0;32m> 12420\u001b[0m     \u001b[38;5;28;01mreturn\u001b[39;00m \u001b[38;5;28;43mself\u001b[39;49m\u001b[38;5;241;43m.\u001b[39;49m\u001b[43m_stat_function\u001b[49m\u001b[43m(\u001b[49m\n\u001b[1;32m  12421\u001b[0m \u001b[43m        \u001b[49m\u001b[38;5;124;43m\"\u001b[39;49m\u001b[38;5;124;43mmean\u001b[39;49m\u001b[38;5;124;43m\"\u001b[39;49m\u001b[43m,\u001b[49m\u001b[43m \u001b[49m\u001b[43mnanops\u001b[49m\u001b[38;5;241;43m.\u001b[39;49m\u001b[43mnanmean\u001b[49m\u001b[43m,\u001b[49m\u001b[43m \u001b[49m\u001b[43maxis\u001b[49m\u001b[43m,\u001b[49m\u001b[43m \u001b[49m\u001b[43mskipna\u001b[49m\u001b[43m,\u001b[49m\u001b[43m \u001b[49m\u001b[43mnumeric_only\u001b[49m\u001b[43m,\u001b[49m\u001b[43m \u001b[49m\u001b[38;5;241;43m*\u001b[39;49m\u001b[38;5;241;43m*\u001b[39;49m\u001b[43mkwargs\u001b[49m\n\u001b[1;32m  12422\u001b[0m \u001b[43m    \u001b[49m\u001b[43m)\u001b[49m\n",
      "File \u001b[0;32m~/MachineLearning/env3/lib/python3.10/site-packages/pandas/core/generic.py:12377\u001b[0m, in \u001b[0;36mNDFrame._stat_function\u001b[0;34m(self, name, func, axis, skipna, numeric_only, **kwargs)\u001b[0m\n\u001b[1;32m  12373\u001b[0m nv\u001b[38;5;241m.\u001b[39mvalidate_func(name, (), kwargs)\n\u001b[1;32m  12375\u001b[0m validate_bool_kwarg(skipna, \u001b[38;5;124m\"\u001b[39m\u001b[38;5;124mskipna\u001b[39m\u001b[38;5;124m\"\u001b[39m, none_allowed\u001b[38;5;241m=\u001b[39m\u001b[38;5;28;01mFalse\u001b[39;00m)\n\u001b[0;32m> 12377\u001b[0m \u001b[38;5;28;01mreturn\u001b[39;00m \u001b[38;5;28;43mself\u001b[39;49m\u001b[38;5;241;43m.\u001b[39;49m\u001b[43m_reduce\u001b[49m\u001b[43m(\u001b[49m\n\u001b[1;32m  12378\u001b[0m \u001b[43m    \u001b[49m\u001b[43mfunc\u001b[49m\u001b[43m,\u001b[49m\u001b[43m \u001b[49m\u001b[43mname\u001b[49m\u001b[38;5;241;43m=\u001b[39;49m\u001b[43mname\u001b[49m\u001b[43m,\u001b[49m\u001b[43m \u001b[49m\u001b[43maxis\u001b[49m\u001b[38;5;241;43m=\u001b[39;49m\u001b[43maxis\u001b[49m\u001b[43m,\u001b[49m\u001b[43m \u001b[49m\u001b[43mskipna\u001b[49m\u001b[38;5;241;43m=\u001b[39;49m\u001b[43mskipna\u001b[49m\u001b[43m,\u001b[49m\u001b[43m \u001b[49m\u001b[43mnumeric_only\u001b[49m\u001b[38;5;241;43m=\u001b[39;49m\u001b[43mnumeric_only\u001b[49m\n\u001b[1;32m  12379\u001b[0m \u001b[43m\u001b[49m\u001b[43m)\u001b[49m\n",
      "File \u001b[0;32m~/MachineLearning/env3/lib/python3.10/site-packages/pandas/core/frame.py:11562\u001b[0m, in \u001b[0;36mDataFrame._reduce\u001b[0;34m(self, op, name, axis, skipna, numeric_only, filter_type, **kwds)\u001b[0m\n\u001b[1;32m  11558\u001b[0m     df \u001b[38;5;241m=\u001b[39m df\u001b[38;5;241m.\u001b[39mT\n\u001b[1;32m  11560\u001b[0m \u001b[38;5;66;03m# After possibly _get_data and transposing, we are now in the\u001b[39;00m\n\u001b[1;32m  11561\u001b[0m \u001b[38;5;66;03m#  simple case where we can use BlockManager.reduce\u001b[39;00m\n\u001b[0;32m> 11562\u001b[0m res \u001b[38;5;241m=\u001b[39m \u001b[43mdf\u001b[49m\u001b[38;5;241;43m.\u001b[39;49m\u001b[43m_mgr\u001b[49m\u001b[38;5;241;43m.\u001b[39;49m\u001b[43mreduce\u001b[49m\u001b[43m(\u001b[49m\u001b[43mblk_func\u001b[49m\u001b[43m)\u001b[49m\n\u001b[1;32m  11563\u001b[0m out \u001b[38;5;241m=\u001b[39m df\u001b[38;5;241m.\u001b[39m_constructor_from_mgr(res, axes\u001b[38;5;241m=\u001b[39mres\u001b[38;5;241m.\u001b[39maxes)\u001b[38;5;241m.\u001b[39miloc[\u001b[38;5;241m0\u001b[39m]\n\u001b[1;32m  11564\u001b[0m \u001b[38;5;28;01mif\u001b[39;00m out_dtype \u001b[38;5;129;01mis\u001b[39;00m \u001b[38;5;129;01mnot\u001b[39;00m \u001b[38;5;28;01mNone\u001b[39;00m \u001b[38;5;129;01mand\u001b[39;00m out\u001b[38;5;241m.\u001b[39mdtype \u001b[38;5;241m!=\u001b[39m \u001b[38;5;124m\"\u001b[39m\u001b[38;5;124mboolean\u001b[39m\u001b[38;5;124m\"\u001b[39m:\n",
      "File \u001b[0;32m~/MachineLearning/env3/lib/python3.10/site-packages/pandas/core/internals/managers.py:1500\u001b[0m, in \u001b[0;36mBlockManager.reduce\u001b[0;34m(self, func)\u001b[0m\n\u001b[1;32m   1498\u001b[0m res_blocks: \u001b[38;5;28mlist\u001b[39m[Block] \u001b[38;5;241m=\u001b[39m []\n\u001b[1;32m   1499\u001b[0m \u001b[38;5;28;01mfor\u001b[39;00m blk \u001b[38;5;129;01min\u001b[39;00m \u001b[38;5;28mself\u001b[39m\u001b[38;5;241m.\u001b[39mblocks:\n\u001b[0;32m-> 1500\u001b[0m     nbs \u001b[38;5;241m=\u001b[39m \u001b[43mblk\u001b[49m\u001b[38;5;241;43m.\u001b[39;49m\u001b[43mreduce\u001b[49m\u001b[43m(\u001b[49m\u001b[43mfunc\u001b[49m\u001b[43m)\u001b[49m\n\u001b[1;32m   1501\u001b[0m     res_blocks\u001b[38;5;241m.\u001b[39mextend(nbs)\n\u001b[1;32m   1503\u001b[0m index \u001b[38;5;241m=\u001b[39m Index([\u001b[38;5;28;01mNone\u001b[39;00m])  \u001b[38;5;66;03m# placeholder\u001b[39;00m\n",
      "File \u001b[0;32m~/MachineLearning/env3/lib/python3.10/site-packages/pandas/core/internals/blocks.py:404\u001b[0m, in \u001b[0;36mBlock.reduce\u001b[0;34m(self, func)\u001b[0m\n\u001b[1;32m    398\u001b[0m \u001b[38;5;129m@final\u001b[39m\n\u001b[1;32m    399\u001b[0m \u001b[38;5;28;01mdef\u001b[39;00m \u001b[38;5;21mreduce\u001b[39m(\u001b[38;5;28mself\u001b[39m, func) \u001b[38;5;241m-\u001b[39m\u001b[38;5;241m>\u001b[39m \u001b[38;5;28mlist\u001b[39m[Block]:\n\u001b[1;32m    400\u001b[0m     \u001b[38;5;66;03m# We will apply the function and reshape the result into a single-row\u001b[39;00m\n\u001b[1;32m    401\u001b[0m     \u001b[38;5;66;03m#  Block with the same mgr_locs; squeezing will be done at a higher level\u001b[39;00m\n\u001b[1;32m    402\u001b[0m     \u001b[38;5;28;01massert\u001b[39;00m \u001b[38;5;28mself\u001b[39m\u001b[38;5;241m.\u001b[39mndim \u001b[38;5;241m==\u001b[39m \u001b[38;5;241m2\u001b[39m\n\u001b[0;32m--> 404\u001b[0m     result \u001b[38;5;241m=\u001b[39m \u001b[43mfunc\u001b[49m\u001b[43m(\u001b[49m\u001b[38;5;28;43mself\u001b[39;49m\u001b[38;5;241;43m.\u001b[39;49m\u001b[43mvalues\u001b[49m\u001b[43m)\u001b[49m\n\u001b[1;32m    406\u001b[0m     \u001b[38;5;28;01mif\u001b[39;00m \u001b[38;5;28mself\u001b[39m\u001b[38;5;241m.\u001b[39mvalues\u001b[38;5;241m.\u001b[39mndim \u001b[38;5;241m==\u001b[39m \u001b[38;5;241m1\u001b[39m:\n\u001b[1;32m    407\u001b[0m         res_values \u001b[38;5;241m=\u001b[39m result\n",
      "File \u001b[0;32m~/MachineLearning/env3/lib/python3.10/site-packages/pandas/core/frame.py:11481\u001b[0m, in \u001b[0;36mDataFrame._reduce.<locals>.blk_func\u001b[0;34m(values, axis)\u001b[0m\n\u001b[1;32m  11479\u001b[0m         \u001b[38;5;28;01mreturn\u001b[39;00m np\u001b[38;5;241m.\u001b[39marray([result])\n\u001b[1;32m  11480\u001b[0m \u001b[38;5;28;01melse\u001b[39;00m:\n\u001b[0;32m> 11481\u001b[0m     \u001b[38;5;28;01mreturn\u001b[39;00m \u001b[43mop\u001b[49m\u001b[43m(\u001b[49m\u001b[43mvalues\u001b[49m\u001b[43m,\u001b[49m\u001b[43m \u001b[49m\u001b[43maxis\u001b[49m\u001b[38;5;241;43m=\u001b[39;49m\u001b[43maxis\u001b[49m\u001b[43m,\u001b[49m\u001b[43m \u001b[49m\u001b[43mskipna\u001b[49m\u001b[38;5;241;43m=\u001b[39;49m\u001b[43mskipna\u001b[49m\u001b[43m,\u001b[49m\u001b[43m \u001b[49m\u001b[38;5;241;43m*\u001b[39;49m\u001b[38;5;241;43m*\u001b[39;49m\u001b[43mkwds\u001b[49m\u001b[43m)\u001b[49m\n",
      "File \u001b[0;32m~/MachineLearning/env3/lib/python3.10/site-packages/pandas/core/nanops.py:147\u001b[0m, in \u001b[0;36mbottleneck_switch.__call__.<locals>.f\u001b[0;34m(values, axis, skipna, **kwds)\u001b[0m\n\u001b[1;32m    145\u001b[0m         result \u001b[38;5;241m=\u001b[39m alt(values, axis\u001b[38;5;241m=\u001b[39maxis, skipna\u001b[38;5;241m=\u001b[39mskipna, \u001b[38;5;241m*\u001b[39m\u001b[38;5;241m*\u001b[39mkwds)\n\u001b[1;32m    146\u001b[0m \u001b[38;5;28;01melse\u001b[39;00m:\n\u001b[0;32m--> 147\u001b[0m     result \u001b[38;5;241m=\u001b[39m \u001b[43malt\u001b[49m\u001b[43m(\u001b[49m\u001b[43mvalues\u001b[49m\u001b[43m,\u001b[49m\u001b[43m \u001b[49m\u001b[43maxis\u001b[49m\u001b[38;5;241;43m=\u001b[39;49m\u001b[43maxis\u001b[49m\u001b[43m,\u001b[49m\u001b[43m \u001b[49m\u001b[43mskipna\u001b[49m\u001b[38;5;241;43m=\u001b[39;49m\u001b[43mskipna\u001b[49m\u001b[43m,\u001b[49m\u001b[43m \u001b[49m\u001b[38;5;241;43m*\u001b[39;49m\u001b[38;5;241;43m*\u001b[39;49m\u001b[43mkwds\u001b[49m\u001b[43m)\u001b[49m\n\u001b[1;32m    149\u001b[0m \u001b[38;5;28;01mreturn\u001b[39;00m result\n",
      "File \u001b[0;32m~/MachineLearning/env3/lib/python3.10/site-packages/pandas/core/nanops.py:404\u001b[0m, in \u001b[0;36m_datetimelike_compat.<locals>.new_func\u001b[0;34m(values, axis, skipna, mask, **kwargs)\u001b[0m\n\u001b[1;32m    401\u001b[0m \u001b[38;5;28;01mif\u001b[39;00m datetimelike \u001b[38;5;129;01mand\u001b[39;00m mask \u001b[38;5;129;01mis\u001b[39;00m \u001b[38;5;28;01mNone\u001b[39;00m:\n\u001b[1;32m    402\u001b[0m     mask \u001b[38;5;241m=\u001b[39m isna(values)\n\u001b[0;32m--> 404\u001b[0m result \u001b[38;5;241m=\u001b[39m \u001b[43mfunc\u001b[49m\u001b[43m(\u001b[49m\u001b[43mvalues\u001b[49m\u001b[43m,\u001b[49m\u001b[43m \u001b[49m\u001b[43maxis\u001b[49m\u001b[38;5;241;43m=\u001b[39;49m\u001b[43maxis\u001b[49m\u001b[43m,\u001b[49m\u001b[43m \u001b[49m\u001b[43mskipna\u001b[49m\u001b[38;5;241;43m=\u001b[39;49m\u001b[43mskipna\u001b[49m\u001b[43m,\u001b[49m\u001b[43m \u001b[49m\u001b[43mmask\u001b[49m\u001b[38;5;241;43m=\u001b[39;49m\u001b[43mmask\u001b[49m\u001b[43m,\u001b[49m\u001b[43m \u001b[49m\u001b[38;5;241;43m*\u001b[39;49m\u001b[38;5;241;43m*\u001b[39;49m\u001b[43mkwargs\u001b[49m\u001b[43m)\u001b[49m\n\u001b[1;32m    406\u001b[0m \u001b[38;5;28;01mif\u001b[39;00m datetimelike:\n\u001b[1;32m    407\u001b[0m     result \u001b[38;5;241m=\u001b[39m _wrap_results(result, orig_values\u001b[38;5;241m.\u001b[39mdtype, fill_value\u001b[38;5;241m=\u001b[39miNaT)\n",
      "File \u001b[0;32m~/MachineLearning/env3/lib/python3.10/site-packages/pandas/core/nanops.py:719\u001b[0m, in \u001b[0;36mnanmean\u001b[0;34m(values, axis, skipna, mask)\u001b[0m\n\u001b[1;32m    716\u001b[0m     dtype_count \u001b[38;5;241m=\u001b[39m dtype\n\u001b[1;32m    718\u001b[0m count \u001b[38;5;241m=\u001b[39m _get_counts(values\u001b[38;5;241m.\u001b[39mshape, mask, axis, dtype\u001b[38;5;241m=\u001b[39mdtype_count)\n\u001b[0;32m--> 719\u001b[0m the_sum \u001b[38;5;241m=\u001b[39m \u001b[43mvalues\u001b[49m\u001b[38;5;241;43m.\u001b[39;49m\u001b[43msum\u001b[49m\u001b[43m(\u001b[49m\u001b[43maxis\u001b[49m\u001b[43m,\u001b[49m\u001b[43m \u001b[49m\u001b[43mdtype\u001b[49m\u001b[38;5;241;43m=\u001b[39;49m\u001b[43mdtype_sum\u001b[49m\u001b[43m)\u001b[49m\n\u001b[1;32m    720\u001b[0m the_sum \u001b[38;5;241m=\u001b[39m _ensure_numeric(the_sum)\n\u001b[1;32m    722\u001b[0m \u001b[38;5;28;01mif\u001b[39;00m axis \u001b[38;5;129;01mis\u001b[39;00m \u001b[38;5;129;01mnot\u001b[39;00m \u001b[38;5;28;01mNone\u001b[39;00m \u001b[38;5;129;01mand\u001b[39;00m \u001b[38;5;28mgetattr\u001b[39m(the_sum, \u001b[38;5;124m\"\u001b[39m\u001b[38;5;124mndim\u001b[39m\u001b[38;5;124m\"\u001b[39m, \u001b[38;5;28;01mFalse\u001b[39;00m):\n",
      "File \u001b[0;32m~/MachineLearning/env3/lib/python3.10/site-packages/numpy/_core/_methods.py:52\u001b[0m, in \u001b[0;36m_sum\u001b[0;34m(a, axis, dtype, out, keepdims, initial, where)\u001b[0m\n\u001b[1;32m     50\u001b[0m \u001b[38;5;28;01mdef\u001b[39;00m \u001b[38;5;21m_sum\u001b[39m(a, axis\u001b[38;5;241m=\u001b[39m\u001b[38;5;28;01mNone\u001b[39;00m, dtype\u001b[38;5;241m=\u001b[39m\u001b[38;5;28;01mNone\u001b[39;00m, out\u001b[38;5;241m=\u001b[39m\u001b[38;5;28;01mNone\u001b[39;00m, keepdims\u001b[38;5;241m=\u001b[39m\u001b[38;5;28;01mFalse\u001b[39;00m,\n\u001b[1;32m     51\u001b[0m          initial\u001b[38;5;241m=\u001b[39m_NoValue, where\u001b[38;5;241m=\u001b[39m\u001b[38;5;28;01mTrue\u001b[39;00m):\n\u001b[0;32m---> 52\u001b[0m     \u001b[38;5;28;01mreturn\u001b[39;00m \u001b[43mumr_sum\u001b[49m\u001b[43m(\u001b[49m\u001b[43ma\u001b[49m\u001b[43m,\u001b[49m\u001b[43m \u001b[49m\u001b[43maxis\u001b[49m\u001b[43m,\u001b[49m\u001b[43m \u001b[49m\u001b[43mdtype\u001b[49m\u001b[43m,\u001b[49m\u001b[43m \u001b[49m\u001b[43mout\u001b[49m\u001b[43m,\u001b[49m\u001b[43m \u001b[49m\u001b[43mkeepdims\u001b[49m\u001b[43m,\u001b[49m\u001b[43m \u001b[49m\u001b[43minitial\u001b[49m\u001b[43m,\u001b[49m\u001b[43m \u001b[49m\u001b[43mwhere\u001b[49m\u001b[43m)\u001b[49m\n",
      "\u001b[0;31mTypeError\u001b[0m: can only concatenate str (not \"int\") to str"
     ]
    }
   ],
   "source": [
    "school_df.fillna(school_df.mean(), inplace=True)\n"
   ]
  },
  {
   "cell_type": "code",
   "execution_count": 14,
   "id": "563f9c02-8530-4232-a90a-615e3631003c",
   "metadata": {},
   "outputs": [
    {
     "ename": "TypeError",
     "evalue": "can only concatenate str (not \"int\") to str",
     "output_type": "error",
     "traceback": [
      "\u001b[0;31m---------------------------------------------------------------------------\u001b[0m",
      "\u001b[0;31mTypeError\u001b[0m                                 Traceback (most recent call last)",
      "Cell \u001b[0;32mIn[14], line 1\u001b[0m\n\u001b[0;32m----> 1\u001b[0m school_df\u001b[38;5;241m.\u001b[39mfillna(\u001b[43mschool_df\u001b[49m\u001b[38;5;241;43m.\u001b[39;49m\u001b[43mmean\u001b[49m\u001b[43m(\u001b[49m\u001b[43m)\u001b[49m, inplace\u001b[38;5;241m=\u001b[39m\u001b[38;5;28;01mTrue\u001b[39;00m)\n",
      "File \u001b[0;32m~/MachineLearning/env3/lib/python3.10/site-packages/pandas/core/frame.py:11693\u001b[0m, in \u001b[0;36mDataFrame.mean\u001b[0;34m(self, axis, skipna, numeric_only, **kwargs)\u001b[0m\n\u001b[1;32m  11685\u001b[0m \u001b[38;5;129m@doc\u001b[39m(make_doc(\u001b[38;5;124m\"\u001b[39m\u001b[38;5;124mmean\u001b[39m\u001b[38;5;124m\"\u001b[39m, ndim\u001b[38;5;241m=\u001b[39m\u001b[38;5;241m2\u001b[39m))\n\u001b[1;32m  11686\u001b[0m \u001b[38;5;28;01mdef\u001b[39;00m \u001b[38;5;21mmean\u001b[39m(\n\u001b[1;32m  11687\u001b[0m     \u001b[38;5;28mself\u001b[39m,\n\u001b[0;32m   (...)\u001b[0m\n\u001b[1;32m  11691\u001b[0m     \u001b[38;5;241m*\u001b[39m\u001b[38;5;241m*\u001b[39mkwargs,\n\u001b[1;32m  11692\u001b[0m ):\n\u001b[0;32m> 11693\u001b[0m     result \u001b[38;5;241m=\u001b[39m \u001b[38;5;28;43msuper\u001b[39;49m\u001b[43m(\u001b[49m\u001b[43m)\u001b[49m\u001b[38;5;241;43m.\u001b[39;49m\u001b[43mmean\u001b[49m\u001b[43m(\u001b[49m\u001b[43maxis\u001b[49m\u001b[43m,\u001b[49m\u001b[43m \u001b[49m\u001b[43mskipna\u001b[49m\u001b[43m,\u001b[49m\u001b[43m \u001b[49m\u001b[43mnumeric_only\u001b[49m\u001b[43m,\u001b[49m\u001b[43m \u001b[49m\u001b[38;5;241;43m*\u001b[39;49m\u001b[38;5;241;43m*\u001b[39;49m\u001b[43mkwargs\u001b[49m\u001b[43m)\u001b[49m\n\u001b[1;32m  11694\u001b[0m     \u001b[38;5;28;01mif\u001b[39;00m \u001b[38;5;28misinstance\u001b[39m(result, Series):\n\u001b[1;32m  11695\u001b[0m         result \u001b[38;5;241m=\u001b[39m result\u001b[38;5;241m.\u001b[39m__finalize__(\u001b[38;5;28mself\u001b[39m, method\u001b[38;5;241m=\u001b[39m\u001b[38;5;124m\"\u001b[39m\u001b[38;5;124mmean\u001b[39m\u001b[38;5;124m\"\u001b[39m)\n",
      "File \u001b[0;32m~/MachineLearning/env3/lib/python3.10/site-packages/pandas/core/generic.py:12420\u001b[0m, in \u001b[0;36mNDFrame.mean\u001b[0;34m(self, axis, skipna, numeric_only, **kwargs)\u001b[0m\n\u001b[1;32m  12413\u001b[0m \u001b[38;5;28;01mdef\u001b[39;00m \u001b[38;5;21mmean\u001b[39m(\n\u001b[1;32m  12414\u001b[0m     \u001b[38;5;28mself\u001b[39m,\n\u001b[1;32m  12415\u001b[0m     axis: Axis \u001b[38;5;241m|\u001b[39m \u001b[38;5;28;01mNone\u001b[39;00m \u001b[38;5;241m=\u001b[39m \u001b[38;5;241m0\u001b[39m,\n\u001b[0;32m   (...)\u001b[0m\n\u001b[1;32m  12418\u001b[0m     \u001b[38;5;241m*\u001b[39m\u001b[38;5;241m*\u001b[39mkwargs,\n\u001b[1;32m  12419\u001b[0m ) \u001b[38;5;241m-\u001b[39m\u001b[38;5;241m>\u001b[39m Series \u001b[38;5;241m|\u001b[39m \u001b[38;5;28mfloat\u001b[39m:\n\u001b[0;32m> 12420\u001b[0m     \u001b[38;5;28;01mreturn\u001b[39;00m \u001b[38;5;28;43mself\u001b[39;49m\u001b[38;5;241;43m.\u001b[39;49m\u001b[43m_stat_function\u001b[49m\u001b[43m(\u001b[49m\n\u001b[1;32m  12421\u001b[0m \u001b[43m        \u001b[49m\u001b[38;5;124;43m\"\u001b[39;49m\u001b[38;5;124;43mmean\u001b[39;49m\u001b[38;5;124;43m\"\u001b[39;49m\u001b[43m,\u001b[49m\u001b[43m \u001b[49m\u001b[43mnanops\u001b[49m\u001b[38;5;241;43m.\u001b[39;49m\u001b[43mnanmean\u001b[49m\u001b[43m,\u001b[49m\u001b[43m \u001b[49m\u001b[43maxis\u001b[49m\u001b[43m,\u001b[49m\u001b[43m \u001b[49m\u001b[43mskipna\u001b[49m\u001b[43m,\u001b[49m\u001b[43m \u001b[49m\u001b[43mnumeric_only\u001b[49m\u001b[43m,\u001b[49m\u001b[43m \u001b[49m\u001b[38;5;241;43m*\u001b[39;49m\u001b[38;5;241;43m*\u001b[39;49m\u001b[43mkwargs\u001b[49m\n\u001b[1;32m  12422\u001b[0m \u001b[43m    \u001b[49m\u001b[43m)\u001b[49m\n",
      "File \u001b[0;32m~/MachineLearning/env3/lib/python3.10/site-packages/pandas/core/generic.py:12377\u001b[0m, in \u001b[0;36mNDFrame._stat_function\u001b[0;34m(self, name, func, axis, skipna, numeric_only, **kwargs)\u001b[0m\n\u001b[1;32m  12373\u001b[0m nv\u001b[38;5;241m.\u001b[39mvalidate_func(name, (), kwargs)\n\u001b[1;32m  12375\u001b[0m validate_bool_kwarg(skipna, \u001b[38;5;124m\"\u001b[39m\u001b[38;5;124mskipna\u001b[39m\u001b[38;5;124m\"\u001b[39m, none_allowed\u001b[38;5;241m=\u001b[39m\u001b[38;5;28;01mFalse\u001b[39;00m)\n\u001b[0;32m> 12377\u001b[0m \u001b[38;5;28;01mreturn\u001b[39;00m \u001b[38;5;28;43mself\u001b[39;49m\u001b[38;5;241;43m.\u001b[39;49m\u001b[43m_reduce\u001b[49m\u001b[43m(\u001b[49m\n\u001b[1;32m  12378\u001b[0m \u001b[43m    \u001b[49m\u001b[43mfunc\u001b[49m\u001b[43m,\u001b[49m\u001b[43m \u001b[49m\u001b[43mname\u001b[49m\u001b[38;5;241;43m=\u001b[39;49m\u001b[43mname\u001b[49m\u001b[43m,\u001b[49m\u001b[43m \u001b[49m\u001b[43maxis\u001b[49m\u001b[38;5;241;43m=\u001b[39;49m\u001b[43maxis\u001b[49m\u001b[43m,\u001b[49m\u001b[43m \u001b[49m\u001b[43mskipna\u001b[49m\u001b[38;5;241;43m=\u001b[39;49m\u001b[43mskipna\u001b[49m\u001b[43m,\u001b[49m\u001b[43m \u001b[49m\u001b[43mnumeric_only\u001b[49m\u001b[38;5;241;43m=\u001b[39;49m\u001b[43mnumeric_only\u001b[49m\n\u001b[1;32m  12379\u001b[0m \u001b[43m\u001b[49m\u001b[43m)\u001b[49m\n",
      "File \u001b[0;32m~/MachineLearning/env3/lib/python3.10/site-packages/pandas/core/frame.py:11562\u001b[0m, in \u001b[0;36mDataFrame._reduce\u001b[0;34m(self, op, name, axis, skipna, numeric_only, filter_type, **kwds)\u001b[0m\n\u001b[1;32m  11558\u001b[0m     df \u001b[38;5;241m=\u001b[39m df\u001b[38;5;241m.\u001b[39mT\n\u001b[1;32m  11560\u001b[0m \u001b[38;5;66;03m# After possibly _get_data and transposing, we are now in the\u001b[39;00m\n\u001b[1;32m  11561\u001b[0m \u001b[38;5;66;03m#  simple case where we can use BlockManager.reduce\u001b[39;00m\n\u001b[0;32m> 11562\u001b[0m res \u001b[38;5;241m=\u001b[39m \u001b[43mdf\u001b[49m\u001b[38;5;241;43m.\u001b[39;49m\u001b[43m_mgr\u001b[49m\u001b[38;5;241;43m.\u001b[39;49m\u001b[43mreduce\u001b[49m\u001b[43m(\u001b[49m\u001b[43mblk_func\u001b[49m\u001b[43m)\u001b[49m\n\u001b[1;32m  11563\u001b[0m out \u001b[38;5;241m=\u001b[39m df\u001b[38;5;241m.\u001b[39m_constructor_from_mgr(res, axes\u001b[38;5;241m=\u001b[39mres\u001b[38;5;241m.\u001b[39maxes)\u001b[38;5;241m.\u001b[39miloc[\u001b[38;5;241m0\u001b[39m]\n\u001b[1;32m  11564\u001b[0m \u001b[38;5;28;01mif\u001b[39;00m out_dtype \u001b[38;5;129;01mis\u001b[39;00m \u001b[38;5;129;01mnot\u001b[39;00m \u001b[38;5;28;01mNone\u001b[39;00m \u001b[38;5;129;01mand\u001b[39;00m out\u001b[38;5;241m.\u001b[39mdtype \u001b[38;5;241m!=\u001b[39m \u001b[38;5;124m\"\u001b[39m\u001b[38;5;124mboolean\u001b[39m\u001b[38;5;124m\"\u001b[39m:\n",
      "File \u001b[0;32m~/MachineLearning/env3/lib/python3.10/site-packages/pandas/core/internals/managers.py:1500\u001b[0m, in \u001b[0;36mBlockManager.reduce\u001b[0;34m(self, func)\u001b[0m\n\u001b[1;32m   1498\u001b[0m res_blocks: \u001b[38;5;28mlist\u001b[39m[Block] \u001b[38;5;241m=\u001b[39m []\n\u001b[1;32m   1499\u001b[0m \u001b[38;5;28;01mfor\u001b[39;00m blk \u001b[38;5;129;01min\u001b[39;00m \u001b[38;5;28mself\u001b[39m\u001b[38;5;241m.\u001b[39mblocks:\n\u001b[0;32m-> 1500\u001b[0m     nbs \u001b[38;5;241m=\u001b[39m \u001b[43mblk\u001b[49m\u001b[38;5;241;43m.\u001b[39;49m\u001b[43mreduce\u001b[49m\u001b[43m(\u001b[49m\u001b[43mfunc\u001b[49m\u001b[43m)\u001b[49m\n\u001b[1;32m   1501\u001b[0m     res_blocks\u001b[38;5;241m.\u001b[39mextend(nbs)\n\u001b[1;32m   1503\u001b[0m index \u001b[38;5;241m=\u001b[39m Index([\u001b[38;5;28;01mNone\u001b[39;00m])  \u001b[38;5;66;03m# placeholder\u001b[39;00m\n",
      "File \u001b[0;32m~/MachineLearning/env3/lib/python3.10/site-packages/pandas/core/internals/blocks.py:404\u001b[0m, in \u001b[0;36mBlock.reduce\u001b[0;34m(self, func)\u001b[0m\n\u001b[1;32m    398\u001b[0m \u001b[38;5;129m@final\u001b[39m\n\u001b[1;32m    399\u001b[0m \u001b[38;5;28;01mdef\u001b[39;00m \u001b[38;5;21mreduce\u001b[39m(\u001b[38;5;28mself\u001b[39m, func) \u001b[38;5;241m-\u001b[39m\u001b[38;5;241m>\u001b[39m \u001b[38;5;28mlist\u001b[39m[Block]:\n\u001b[1;32m    400\u001b[0m     \u001b[38;5;66;03m# We will apply the function and reshape the result into a single-row\u001b[39;00m\n\u001b[1;32m    401\u001b[0m     \u001b[38;5;66;03m#  Block with the same mgr_locs; squeezing will be done at a higher level\u001b[39;00m\n\u001b[1;32m    402\u001b[0m     \u001b[38;5;28;01massert\u001b[39;00m \u001b[38;5;28mself\u001b[39m\u001b[38;5;241m.\u001b[39mndim \u001b[38;5;241m==\u001b[39m \u001b[38;5;241m2\u001b[39m\n\u001b[0;32m--> 404\u001b[0m     result \u001b[38;5;241m=\u001b[39m \u001b[43mfunc\u001b[49m\u001b[43m(\u001b[49m\u001b[38;5;28;43mself\u001b[39;49m\u001b[38;5;241;43m.\u001b[39;49m\u001b[43mvalues\u001b[49m\u001b[43m)\u001b[49m\n\u001b[1;32m    406\u001b[0m     \u001b[38;5;28;01mif\u001b[39;00m \u001b[38;5;28mself\u001b[39m\u001b[38;5;241m.\u001b[39mvalues\u001b[38;5;241m.\u001b[39mndim \u001b[38;5;241m==\u001b[39m \u001b[38;5;241m1\u001b[39m:\n\u001b[1;32m    407\u001b[0m         res_values \u001b[38;5;241m=\u001b[39m result\n",
      "File \u001b[0;32m~/MachineLearning/env3/lib/python3.10/site-packages/pandas/core/frame.py:11481\u001b[0m, in \u001b[0;36mDataFrame._reduce.<locals>.blk_func\u001b[0;34m(values, axis)\u001b[0m\n\u001b[1;32m  11479\u001b[0m         \u001b[38;5;28;01mreturn\u001b[39;00m np\u001b[38;5;241m.\u001b[39marray([result])\n\u001b[1;32m  11480\u001b[0m \u001b[38;5;28;01melse\u001b[39;00m:\n\u001b[0;32m> 11481\u001b[0m     \u001b[38;5;28;01mreturn\u001b[39;00m \u001b[43mop\u001b[49m\u001b[43m(\u001b[49m\u001b[43mvalues\u001b[49m\u001b[43m,\u001b[49m\u001b[43m \u001b[49m\u001b[43maxis\u001b[49m\u001b[38;5;241;43m=\u001b[39;49m\u001b[43maxis\u001b[49m\u001b[43m,\u001b[49m\u001b[43m \u001b[49m\u001b[43mskipna\u001b[49m\u001b[38;5;241;43m=\u001b[39;49m\u001b[43mskipna\u001b[49m\u001b[43m,\u001b[49m\u001b[43m \u001b[49m\u001b[38;5;241;43m*\u001b[39;49m\u001b[38;5;241;43m*\u001b[39;49m\u001b[43mkwds\u001b[49m\u001b[43m)\u001b[49m\n",
      "File \u001b[0;32m~/MachineLearning/env3/lib/python3.10/site-packages/pandas/core/nanops.py:147\u001b[0m, in \u001b[0;36mbottleneck_switch.__call__.<locals>.f\u001b[0;34m(values, axis, skipna, **kwds)\u001b[0m\n\u001b[1;32m    145\u001b[0m         result \u001b[38;5;241m=\u001b[39m alt(values, axis\u001b[38;5;241m=\u001b[39maxis, skipna\u001b[38;5;241m=\u001b[39mskipna, \u001b[38;5;241m*\u001b[39m\u001b[38;5;241m*\u001b[39mkwds)\n\u001b[1;32m    146\u001b[0m \u001b[38;5;28;01melse\u001b[39;00m:\n\u001b[0;32m--> 147\u001b[0m     result \u001b[38;5;241m=\u001b[39m \u001b[43malt\u001b[49m\u001b[43m(\u001b[49m\u001b[43mvalues\u001b[49m\u001b[43m,\u001b[49m\u001b[43m \u001b[49m\u001b[43maxis\u001b[49m\u001b[38;5;241;43m=\u001b[39;49m\u001b[43maxis\u001b[49m\u001b[43m,\u001b[49m\u001b[43m \u001b[49m\u001b[43mskipna\u001b[49m\u001b[38;5;241;43m=\u001b[39;49m\u001b[43mskipna\u001b[49m\u001b[43m,\u001b[49m\u001b[43m \u001b[49m\u001b[38;5;241;43m*\u001b[39;49m\u001b[38;5;241;43m*\u001b[39;49m\u001b[43mkwds\u001b[49m\u001b[43m)\u001b[49m\n\u001b[1;32m    149\u001b[0m \u001b[38;5;28;01mreturn\u001b[39;00m result\n",
      "File \u001b[0;32m~/MachineLearning/env3/lib/python3.10/site-packages/pandas/core/nanops.py:404\u001b[0m, in \u001b[0;36m_datetimelike_compat.<locals>.new_func\u001b[0;34m(values, axis, skipna, mask, **kwargs)\u001b[0m\n\u001b[1;32m    401\u001b[0m \u001b[38;5;28;01mif\u001b[39;00m datetimelike \u001b[38;5;129;01mand\u001b[39;00m mask \u001b[38;5;129;01mis\u001b[39;00m \u001b[38;5;28;01mNone\u001b[39;00m:\n\u001b[1;32m    402\u001b[0m     mask \u001b[38;5;241m=\u001b[39m isna(values)\n\u001b[0;32m--> 404\u001b[0m result \u001b[38;5;241m=\u001b[39m \u001b[43mfunc\u001b[49m\u001b[43m(\u001b[49m\u001b[43mvalues\u001b[49m\u001b[43m,\u001b[49m\u001b[43m \u001b[49m\u001b[43maxis\u001b[49m\u001b[38;5;241;43m=\u001b[39;49m\u001b[43maxis\u001b[49m\u001b[43m,\u001b[49m\u001b[43m \u001b[49m\u001b[43mskipna\u001b[49m\u001b[38;5;241;43m=\u001b[39;49m\u001b[43mskipna\u001b[49m\u001b[43m,\u001b[49m\u001b[43m \u001b[49m\u001b[43mmask\u001b[49m\u001b[38;5;241;43m=\u001b[39;49m\u001b[43mmask\u001b[49m\u001b[43m,\u001b[49m\u001b[43m \u001b[49m\u001b[38;5;241;43m*\u001b[39;49m\u001b[38;5;241;43m*\u001b[39;49m\u001b[43mkwargs\u001b[49m\u001b[43m)\u001b[49m\n\u001b[1;32m    406\u001b[0m \u001b[38;5;28;01mif\u001b[39;00m datetimelike:\n\u001b[1;32m    407\u001b[0m     result \u001b[38;5;241m=\u001b[39m _wrap_results(result, orig_values\u001b[38;5;241m.\u001b[39mdtype, fill_value\u001b[38;5;241m=\u001b[39miNaT)\n",
      "File \u001b[0;32m~/MachineLearning/env3/lib/python3.10/site-packages/pandas/core/nanops.py:719\u001b[0m, in \u001b[0;36mnanmean\u001b[0;34m(values, axis, skipna, mask)\u001b[0m\n\u001b[1;32m    716\u001b[0m     dtype_count \u001b[38;5;241m=\u001b[39m dtype\n\u001b[1;32m    718\u001b[0m count \u001b[38;5;241m=\u001b[39m _get_counts(values\u001b[38;5;241m.\u001b[39mshape, mask, axis, dtype\u001b[38;5;241m=\u001b[39mdtype_count)\n\u001b[0;32m--> 719\u001b[0m the_sum \u001b[38;5;241m=\u001b[39m \u001b[43mvalues\u001b[49m\u001b[38;5;241;43m.\u001b[39;49m\u001b[43msum\u001b[49m\u001b[43m(\u001b[49m\u001b[43maxis\u001b[49m\u001b[43m,\u001b[49m\u001b[43m \u001b[49m\u001b[43mdtype\u001b[49m\u001b[38;5;241;43m=\u001b[39;49m\u001b[43mdtype_sum\u001b[49m\u001b[43m)\u001b[49m\n\u001b[1;32m    720\u001b[0m the_sum \u001b[38;5;241m=\u001b[39m _ensure_numeric(the_sum)\n\u001b[1;32m    722\u001b[0m \u001b[38;5;28;01mif\u001b[39;00m axis \u001b[38;5;129;01mis\u001b[39;00m \u001b[38;5;129;01mnot\u001b[39;00m \u001b[38;5;28;01mNone\u001b[39;00m \u001b[38;5;129;01mand\u001b[39;00m \u001b[38;5;28mgetattr\u001b[39m(the_sum, \u001b[38;5;124m\"\u001b[39m\u001b[38;5;124mndim\u001b[39m\u001b[38;5;124m\"\u001b[39m, \u001b[38;5;28;01mFalse\u001b[39;00m):\n",
      "File \u001b[0;32m~/MachineLearning/env3/lib/python3.10/site-packages/numpy/_core/_methods.py:52\u001b[0m, in \u001b[0;36m_sum\u001b[0;34m(a, axis, dtype, out, keepdims, initial, where)\u001b[0m\n\u001b[1;32m     50\u001b[0m \u001b[38;5;28;01mdef\u001b[39;00m \u001b[38;5;21m_sum\u001b[39m(a, axis\u001b[38;5;241m=\u001b[39m\u001b[38;5;28;01mNone\u001b[39;00m, dtype\u001b[38;5;241m=\u001b[39m\u001b[38;5;28;01mNone\u001b[39;00m, out\u001b[38;5;241m=\u001b[39m\u001b[38;5;28;01mNone\u001b[39;00m, keepdims\u001b[38;5;241m=\u001b[39m\u001b[38;5;28;01mFalse\u001b[39;00m,\n\u001b[1;32m     51\u001b[0m          initial\u001b[38;5;241m=\u001b[39m_NoValue, where\u001b[38;5;241m=\u001b[39m\u001b[38;5;28;01mTrue\u001b[39;00m):\n\u001b[0;32m---> 52\u001b[0m     \u001b[38;5;28;01mreturn\u001b[39;00m \u001b[43mumr_sum\u001b[49m\u001b[43m(\u001b[49m\u001b[43ma\u001b[49m\u001b[43m,\u001b[49m\u001b[43m \u001b[49m\u001b[43maxis\u001b[49m\u001b[43m,\u001b[49m\u001b[43m \u001b[49m\u001b[43mdtype\u001b[49m\u001b[43m,\u001b[49m\u001b[43m \u001b[49m\u001b[43mout\u001b[49m\u001b[43m,\u001b[49m\u001b[43m \u001b[49m\u001b[43mkeepdims\u001b[49m\u001b[43m,\u001b[49m\u001b[43m \u001b[49m\u001b[43minitial\u001b[49m\u001b[43m,\u001b[49m\u001b[43m \u001b[49m\u001b[43mwhere\u001b[49m\u001b[43m)\u001b[49m\n",
      "\u001b[0;31mTypeError\u001b[0m: can only concatenate str (not \"int\") to str"
     ]
    }
   ],
   "source": [
    "school_df.fillna(school_df.mean(), inplace=True)\n"
   ]
  },
  {
   "cell_type": "code",
   "execution_count": 13,
   "id": "af249f4d-67f6-496f-9249-e88cd2b8d966",
   "metadata": {},
   "outputs": [
    {
     "name": "stdout",
     "output_type": "stream",
     "text": [
      "              X             Y  OBJECTID      NCESSCH   SURVYEAR STABR   LEAID  \\\n",
      "0 -9.596431e+06  4.063795e+06         1  10000500870  2022-2023    AL  100005   \n",
      "1 -9.596286e+06  4.064065e+06         2  10000500871  2022-2023    AL  100005   \n",
      "2 -9.597978e+06  4.065560e+06         3  10000500879  2022-2023    AL  100005   \n",
      "3 -9.598168e+06  4.062785e+06         4  10000500889  2022-2023    AL  100005   \n",
      "4 -9.594995e+06  4.067783e+06         5  10000501616  2022-2023    AL  100005   \n",
      "\n",
      "  ST_LEAID          LEA_NAME                           SCH_NAME  ...  HIALF  \\\n",
      "0   AL-101  Albertville City          Albertville Middle School  ...  251.0   \n",
      "1   AL-101  Albertville City            Albertville High School  ...  468.0   \n",
      "2   AL-101  Albertville City    Albertville Intermediate School  ...  241.0   \n",
      "3   AL-101  Albertville City      Albertville Elementary School  ...  236.0   \n",
      "4   AL-101  Albertville City  Albertville Kindergarten and PreK  ...  152.0   \n",
      "\n",
      "      HI TRALM TRALF    TR  WHALM  WHALF     WH   LATCOD     LONCOD  \n",
      "0  502.0  17.0  15.0  32.0  168.0  147.0  315.0  34.2602 -86.206200  \n",
      "1  958.0  26.0  19.0  45.0  325.0  316.0  641.0  34.2622 -86.204900  \n",
      "2  504.0   7.0   6.0  13.0  154.0  144.0  298.0  34.2733 -86.220100  \n",
      "3  497.0  11.0  16.0  27.0  168.0  136.0  304.0  34.2527 -86.221806  \n",
      "4  319.0   4.0   4.0   8.0  104.0  120.0  224.0  34.2898 -86.193300  \n",
      "\n",
      "[5 rows x 77 columns]\n"
     ]
    }
   ],
   "source": [
    "print(school_df.head())\n"
   ]
  },
  {
   "cell_type": "code",
   "execution_count": 15,
   "id": "e9499f05-d3fb-43b1-a829-538463662801",
   "metadata": {},
   "outputs": [
    {
     "ename": "TypeError",
     "evalue": "can only concatenate str (not \"int\") to str",
     "output_type": "error",
     "traceback": [
      "\u001b[0;31m---------------------------------------------------------------------------\u001b[0m",
      "\u001b[0;31mTypeError\u001b[0m                                 Traceback (most recent call last)",
      "Cell \u001b[0;32mIn[15], line 1\u001b[0m\n\u001b[0;32m----> 1\u001b[0m school_df\u001b[38;5;241m.\u001b[39mfillna(\u001b[43mschool_df\u001b[49m\u001b[38;5;241;43m.\u001b[39;49m\u001b[43mmean\u001b[49m\u001b[43m(\u001b[49m\u001b[43m)\u001b[49m, inplace\u001b[38;5;241m=\u001b[39m\u001b[38;5;28;01mTrue\u001b[39;00m)\n",
      "File \u001b[0;32m~/MachineLearning/env3/lib/python3.10/site-packages/pandas/core/frame.py:11693\u001b[0m, in \u001b[0;36mDataFrame.mean\u001b[0;34m(self, axis, skipna, numeric_only, **kwargs)\u001b[0m\n\u001b[1;32m  11685\u001b[0m \u001b[38;5;129m@doc\u001b[39m(make_doc(\u001b[38;5;124m\"\u001b[39m\u001b[38;5;124mmean\u001b[39m\u001b[38;5;124m\"\u001b[39m, ndim\u001b[38;5;241m=\u001b[39m\u001b[38;5;241m2\u001b[39m))\n\u001b[1;32m  11686\u001b[0m \u001b[38;5;28;01mdef\u001b[39;00m \u001b[38;5;21mmean\u001b[39m(\n\u001b[1;32m  11687\u001b[0m     \u001b[38;5;28mself\u001b[39m,\n\u001b[0;32m   (...)\u001b[0m\n\u001b[1;32m  11691\u001b[0m     \u001b[38;5;241m*\u001b[39m\u001b[38;5;241m*\u001b[39mkwargs,\n\u001b[1;32m  11692\u001b[0m ):\n\u001b[0;32m> 11693\u001b[0m     result \u001b[38;5;241m=\u001b[39m \u001b[38;5;28;43msuper\u001b[39;49m\u001b[43m(\u001b[49m\u001b[43m)\u001b[49m\u001b[38;5;241;43m.\u001b[39;49m\u001b[43mmean\u001b[49m\u001b[43m(\u001b[49m\u001b[43maxis\u001b[49m\u001b[43m,\u001b[49m\u001b[43m \u001b[49m\u001b[43mskipna\u001b[49m\u001b[43m,\u001b[49m\u001b[43m \u001b[49m\u001b[43mnumeric_only\u001b[49m\u001b[43m,\u001b[49m\u001b[43m \u001b[49m\u001b[38;5;241;43m*\u001b[39;49m\u001b[38;5;241;43m*\u001b[39;49m\u001b[43mkwargs\u001b[49m\u001b[43m)\u001b[49m\n\u001b[1;32m  11694\u001b[0m     \u001b[38;5;28;01mif\u001b[39;00m \u001b[38;5;28misinstance\u001b[39m(result, Series):\n\u001b[1;32m  11695\u001b[0m         result \u001b[38;5;241m=\u001b[39m result\u001b[38;5;241m.\u001b[39m__finalize__(\u001b[38;5;28mself\u001b[39m, method\u001b[38;5;241m=\u001b[39m\u001b[38;5;124m\"\u001b[39m\u001b[38;5;124mmean\u001b[39m\u001b[38;5;124m\"\u001b[39m)\n",
      "File \u001b[0;32m~/MachineLearning/env3/lib/python3.10/site-packages/pandas/core/generic.py:12420\u001b[0m, in \u001b[0;36mNDFrame.mean\u001b[0;34m(self, axis, skipna, numeric_only, **kwargs)\u001b[0m\n\u001b[1;32m  12413\u001b[0m \u001b[38;5;28;01mdef\u001b[39;00m \u001b[38;5;21mmean\u001b[39m(\n\u001b[1;32m  12414\u001b[0m     \u001b[38;5;28mself\u001b[39m,\n\u001b[1;32m  12415\u001b[0m     axis: Axis \u001b[38;5;241m|\u001b[39m \u001b[38;5;28;01mNone\u001b[39;00m \u001b[38;5;241m=\u001b[39m \u001b[38;5;241m0\u001b[39m,\n\u001b[0;32m   (...)\u001b[0m\n\u001b[1;32m  12418\u001b[0m     \u001b[38;5;241m*\u001b[39m\u001b[38;5;241m*\u001b[39mkwargs,\n\u001b[1;32m  12419\u001b[0m ) \u001b[38;5;241m-\u001b[39m\u001b[38;5;241m>\u001b[39m Series \u001b[38;5;241m|\u001b[39m \u001b[38;5;28mfloat\u001b[39m:\n\u001b[0;32m> 12420\u001b[0m     \u001b[38;5;28;01mreturn\u001b[39;00m \u001b[38;5;28;43mself\u001b[39;49m\u001b[38;5;241;43m.\u001b[39;49m\u001b[43m_stat_function\u001b[49m\u001b[43m(\u001b[49m\n\u001b[1;32m  12421\u001b[0m \u001b[43m        \u001b[49m\u001b[38;5;124;43m\"\u001b[39;49m\u001b[38;5;124;43mmean\u001b[39;49m\u001b[38;5;124;43m\"\u001b[39;49m\u001b[43m,\u001b[49m\u001b[43m \u001b[49m\u001b[43mnanops\u001b[49m\u001b[38;5;241;43m.\u001b[39;49m\u001b[43mnanmean\u001b[49m\u001b[43m,\u001b[49m\u001b[43m \u001b[49m\u001b[43maxis\u001b[49m\u001b[43m,\u001b[49m\u001b[43m \u001b[49m\u001b[43mskipna\u001b[49m\u001b[43m,\u001b[49m\u001b[43m \u001b[49m\u001b[43mnumeric_only\u001b[49m\u001b[43m,\u001b[49m\u001b[43m \u001b[49m\u001b[38;5;241;43m*\u001b[39;49m\u001b[38;5;241;43m*\u001b[39;49m\u001b[43mkwargs\u001b[49m\n\u001b[1;32m  12422\u001b[0m \u001b[43m    \u001b[49m\u001b[43m)\u001b[49m\n",
      "File \u001b[0;32m~/MachineLearning/env3/lib/python3.10/site-packages/pandas/core/generic.py:12377\u001b[0m, in \u001b[0;36mNDFrame._stat_function\u001b[0;34m(self, name, func, axis, skipna, numeric_only, **kwargs)\u001b[0m\n\u001b[1;32m  12373\u001b[0m nv\u001b[38;5;241m.\u001b[39mvalidate_func(name, (), kwargs)\n\u001b[1;32m  12375\u001b[0m validate_bool_kwarg(skipna, \u001b[38;5;124m\"\u001b[39m\u001b[38;5;124mskipna\u001b[39m\u001b[38;5;124m\"\u001b[39m, none_allowed\u001b[38;5;241m=\u001b[39m\u001b[38;5;28;01mFalse\u001b[39;00m)\n\u001b[0;32m> 12377\u001b[0m \u001b[38;5;28;01mreturn\u001b[39;00m \u001b[38;5;28;43mself\u001b[39;49m\u001b[38;5;241;43m.\u001b[39;49m\u001b[43m_reduce\u001b[49m\u001b[43m(\u001b[49m\n\u001b[1;32m  12378\u001b[0m \u001b[43m    \u001b[49m\u001b[43mfunc\u001b[49m\u001b[43m,\u001b[49m\u001b[43m \u001b[49m\u001b[43mname\u001b[49m\u001b[38;5;241;43m=\u001b[39;49m\u001b[43mname\u001b[49m\u001b[43m,\u001b[49m\u001b[43m \u001b[49m\u001b[43maxis\u001b[49m\u001b[38;5;241;43m=\u001b[39;49m\u001b[43maxis\u001b[49m\u001b[43m,\u001b[49m\u001b[43m \u001b[49m\u001b[43mskipna\u001b[49m\u001b[38;5;241;43m=\u001b[39;49m\u001b[43mskipna\u001b[49m\u001b[43m,\u001b[49m\u001b[43m \u001b[49m\u001b[43mnumeric_only\u001b[49m\u001b[38;5;241;43m=\u001b[39;49m\u001b[43mnumeric_only\u001b[49m\n\u001b[1;32m  12379\u001b[0m \u001b[43m\u001b[49m\u001b[43m)\u001b[49m\n",
      "File \u001b[0;32m~/MachineLearning/env3/lib/python3.10/site-packages/pandas/core/frame.py:11562\u001b[0m, in \u001b[0;36mDataFrame._reduce\u001b[0;34m(self, op, name, axis, skipna, numeric_only, filter_type, **kwds)\u001b[0m\n\u001b[1;32m  11558\u001b[0m     df \u001b[38;5;241m=\u001b[39m df\u001b[38;5;241m.\u001b[39mT\n\u001b[1;32m  11560\u001b[0m \u001b[38;5;66;03m# After possibly _get_data and transposing, we are now in the\u001b[39;00m\n\u001b[1;32m  11561\u001b[0m \u001b[38;5;66;03m#  simple case where we can use BlockManager.reduce\u001b[39;00m\n\u001b[0;32m> 11562\u001b[0m res \u001b[38;5;241m=\u001b[39m \u001b[43mdf\u001b[49m\u001b[38;5;241;43m.\u001b[39;49m\u001b[43m_mgr\u001b[49m\u001b[38;5;241;43m.\u001b[39;49m\u001b[43mreduce\u001b[49m\u001b[43m(\u001b[49m\u001b[43mblk_func\u001b[49m\u001b[43m)\u001b[49m\n\u001b[1;32m  11563\u001b[0m out \u001b[38;5;241m=\u001b[39m df\u001b[38;5;241m.\u001b[39m_constructor_from_mgr(res, axes\u001b[38;5;241m=\u001b[39mres\u001b[38;5;241m.\u001b[39maxes)\u001b[38;5;241m.\u001b[39miloc[\u001b[38;5;241m0\u001b[39m]\n\u001b[1;32m  11564\u001b[0m \u001b[38;5;28;01mif\u001b[39;00m out_dtype \u001b[38;5;129;01mis\u001b[39;00m \u001b[38;5;129;01mnot\u001b[39;00m \u001b[38;5;28;01mNone\u001b[39;00m \u001b[38;5;129;01mand\u001b[39;00m out\u001b[38;5;241m.\u001b[39mdtype \u001b[38;5;241m!=\u001b[39m \u001b[38;5;124m\"\u001b[39m\u001b[38;5;124mboolean\u001b[39m\u001b[38;5;124m\"\u001b[39m:\n",
      "File \u001b[0;32m~/MachineLearning/env3/lib/python3.10/site-packages/pandas/core/internals/managers.py:1500\u001b[0m, in \u001b[0;36mBlockManager.reduce\u001b[0;34m(self, func)\u001b[0m\n\u001b[1;32m   1498\u001b[0m res_blocks: \u001b[38;5;28mlist\u001b[39m[Block] \u001b[38;5;241m=\u001b[39m []\n\u001b[1;32m   1499\u001b[0m \u001b[38;5;28;01mfor\u001b[39;00m blk \u001b[38;5;129;01min\u001b[39;00m \u001b[38;5;28mself\u001b[39m\u001b[38;5;241m.\u001b[39mblocks:\n\u001b[0;32m-> 1500\u001b[0m     nbs \u001b[38;5;241m=\u001b[39m \u001b[43mblk\u001b[49m\u001b[38;5;241;43m.\u001b[39;49m\u001b[43mreduce\u001b[49m\u001b[43m(\u001b[49m\u001b[43mfunc\u001b[49m\u001b[43m)\u001b[49m\n\u001b[1;32m   1501\u001b[0m     res_blocks\u001b[38;5;241m.\u001b[39mextend(nbs)\n\u001b[1;32m   1503\u001b[0m index \u001b[38;5;241m=\u001b[39m Index([\u001b[38;5;28;01mNone\u001b[39;00m])  \u001b[38;5;66;03m# placeholder\u001b[39;00m\n",
      "File \u001b[0;32m~/MachineLearning/env3/lib/python3.10/site-packages/pandas/core/internals/blocks.py:404\u001b[0m, in \u001b[0;36mBlock.reduce\u001b[0;34m(self, func)\u001b[0m\n\u001b[1;32m    398\u001b[0m \u001b[38;5;129m@final\u001b[39m\n\u001b[1;32m    399\u001b[0m \u001b[38;5;28;01mdef\u001b[39;00m \u001b[38;5;21mreduce\u001b[39m(\u001b[38;5;28mself\u001b[39m, func) \u001b[38;5;241m-\u001b[39m\u001b[38;5;241m>\u001b[39m \u001b[38;5;28mlist\u001b[39m[Block]:\n\u001b[1;32m    400\u001b[0m     \u001b[38;5;66;03m# We will apply the function and reshape the result into a single-row\u001b[39;00m\n\u001b[1;32m    401\u001b[0m     \u001b[38;5;66;03m#  Block with the same mgr_locs; squeezing will be done at a higher level\u001b[39;00m\n\u001b[1;32m    402\u001b[0m     \u001b[38;5;28;01massert\u001b[39;00m \u001b[38;5;28mself\u001b[39m\u001b[38;5;241m.\u001b[39mndim \u001b[38;5;241m==\u001b[39m \u001b[38;5;241m2\u001b[39m\n\u001b[0;32m--> 404\u001b[0m     result \u001b[38;5;241m=\u001b[39m \u001b[43mfunc\u001b[49m\u001b[43m(\u001b[49m\u001b[38;5;28;43mself\u001b[39;49m\u001b[38;5;241;43m.\u001b[39;49m\u001b[43mvalues\u001b[49m\u001b[43m)\u001b[49m\n\u001b[1;32m    406\u001b[0m     \u001b[38;5;28;01mif\u001b[39;00m \u001b[38;5;28mself\u001b[39m\u001b[38;5;241m.\u001b[39mvalues\u001b[38;5;241m.\u001b[39mndim \u001b[38;5;241m==\u001b[39m \u001b[38;5;241m1\u001b[39m:\n\u001b[1;32m    407\u001b[0m         res_values \u001b[38;5;241m=\u001b[39m result\n",
      "File \u001b[0;32m~/MachineLearning/env3/lib/python3.10/site-packages/pandas/core/frame.py:11481\u001b[0m, in \u001b[0;36mDataFrame._reduce.<locals>.blk_func\u001b[0;34m(values, axis)\u001b[0m\n\u001b[1;32m  11479\u001b[0m         \u001b[38;5;28;01mreturn\u001b[39;00m np\u001b[38;5;241m.\u001b[39marray([result])\n\u001b[1;32m  11480\u001b[0m \u001b[38;5;28;01melse\u001b[39;00m:\n\u001b[0;32m> 11481\u001b[0m     \u001b[38;5;28;01mreturn\u001b[39;00m \u001b[43mop\u001b[49m\u001b[43m(\u001b[49m\u001b[43mvalues\u001b[49m\u001b[43m,\u001b[49m\u001b[43m \u001b[49m\u001b[43maxis\u001b[49m\u001b[38;5;241;43m=\u001b[39;49m\u001b[43maxis\u001b[49m\u001b[43m,\u001b[49m\u001b[43m \u001b[49m\u001b[43mskipna\u001b[49m\u001b[38;5;241;43m=\u001b[39;49m\u001b[43mskipna\u001b[49m\u001b[43m,\u001b[49m\u001b[43m \u001b[49m\u001b[38;5;241;43m*\u001b[39;49m\u001b[38;5;241;43m*\u001b[39;49m\u001b[43mkwds\u001b[49m\u001b[43m)\u001b[49m\n",
      "File \u001b[0;32m~/MachineLearning/env3/lib/python3.10/site-packages/pandas/core/nanops.py:147\u001b[0m, in \u001b[0;36mbottleneck_switch.__call__.<locals>.f\u001b[0;34m(values, axis, skipna, **kwds)\u001b[0m\n\u001b[1;32m    145\u001b[0m         result \u001b[38;5;241m=\u001b[39m alt(values, axis\u001b[38;5;241m=\u001b[39maxis, skipna\u001b[38;5;241m=\u001b[39mskipna, \u001b[38;5;241m*\u001b[39m\u001b[38;5;241m*\u001b[39mkwds)\n\u001b[1;32m    146\u001b[0m \u001b[38;5;28;01melse\u001b[39;00m:\n\u001b[0;32m--> 147\u001b[0m     result \u001b[38;5;241m=\u001b[39m \u001b[43malt\u001b[49m\u001b[43m(\u001b[49m\u001b[43mvalues\u001b[49m\u001b[43m,\u001b[49m\u001b[43m \u001b[49m\u001b[43maxis\u001b[49m\u001b[38;5;241;43m=\u001b[39;49m\u001b[43maxis\u001b[49m\u001b[43m,\u001b[49m\u001b[43m \u001b[49m\u001b[43mskipna\u001b[49m\u001b[38;5;241;43m=\u001b[39;49m\u001b[43mskipna\u001b[49m\u001b[43m,\u001b[49m\u001b[43m \u001b[49m\u001b[38;5;241;43m*\u001b[39;49m\u001b[38;5;241;43m*\u001b[39;49m\u001b[43mkwds\u001b[49m\u001b[43m)\u001b[49m\n\u001b[1;32m    149\u001b[0m \u001b[38;5;28;01mreturn\u001b[39;00m result\n",
      "File \u001b[0;32m~/MachineLearning/env3/lib/python3.10/site-packages/pandas/core/nanops.py:404\u001b[0m, in \u001b[0;36m_datetimelike_compat.<locals>.new_func\u001b[0;34m(values, axis, skipna, mask, **kwargs)\u001b[0m\n\u001b[1;32m    401\u001b[0m \u001b[38;5;28;01mif\u001b[39;00m datetimelike \u001b[38;5;129;01mand\u001b[39;00m mask \u001b[38;5;129;01mis\u001b[39;00m \u001b[38;5;28;01mNone\u001b[39;00m:\n\u001b[1;32m    402\u001b[0m     mask \u001b[38;5;241m=\u001b[39m isna(values)\n\u001b[0;32m--> 404\u001b[0m result \u001b[38;5;241m=\u001b[39m \u001b[43mfunc\u001b[49m\u001b[43m(\u001b[49m\u001b[43mvalues\u001b[49m\u001b[43m,\u001b[49m\u001b[43m \u001b[49m\u001b[43maxis\u001b[49m\u001b[38;5;241;43m=\u001b[39;49m\u001b[43maxis\u001b[49m\u001b[43m,\u001b[49m\u001b[43m \u001b[49m\u001b[43mskipna\u001b[49m\u001b[38;5;241;43m=\u001b[39;49m\u001b[43mskipna\u001b[49m\u001b[43m,\u001b[49m\u001b[43m \u001b[49m\u001b[43mmask\u001b[49m\u001b[38;5;241;43m=\u001b[39;49m\u001b[43mmask\u001b[49m\u001b[43m,\u001b[49m\u001b[43m \u001b[49m\u001b[38;5;241;43m*\u001b[39;49m\u001b[38;5;241;43m*\u001b[39;49m\u001b[43mkwargs\u001b[49m\u001b[43m)\u001b[49m\n\u001b[1;32m    406\u001b[0m \u001b[38;5;28;01mif\u001b[39;00m datetimelike:\n\u001b[1;32m    407\u001b[0m     result \u001b[38;5;241m=\u001b[39m _wrap_results(result, orig_values\u001b[38;5;241m.\u001b[39mdtype, fill_value\u001b[38;5;241m=\u001b[39miNaT)\n",
      "File \u001b[0;32m~/MachineLearning/env3/lib/python3.10/site-packages/pandas/core/nanops.py:719\u001b[0m, in \u001b[0;36mnanmean\u001b[0;34m(values, axis, skipna, mask)\u001b[0m\n\u001b[1;32m    716\u001b[0m     dtype_count \u001b[38;5;241m=\u001b[39m dtype\n\u001b[1;32m    718\u001b[0m count \u001b[38;5;241m=\u001b[39m _get_counts(values\u001b[38;5;241m.\u001b[39mshape, mask, axis, dtype\u001b[38;5;241m=\u001b[39mdtype_count)\n\u001b[0;32m--> 719\u001b[0m the_sum \u001b[38;5;241m=\u001b[39m \u001b[43mvalues\u001b[49m\u001b[38;5;241;43m.\u001b[39;49m\u001b[43msum\u001b[49m\u001b[43m(\u001b[49m\u001b[43maxis\u001b[49m\u001b[43m,\u001b[49m\u001b[43m \u001b[49m\u001b[43mdtype\u001b[49m\u001b[38;5;241;43m=\u001b[39;49m\u001b[43mdtype_sum\u001b[49m\u001b[43m)\u001b[49m\n\u001b[1;32m    720\u001b[0m the_sum \u001b[38;5;241m=\u001b[39m _ensure_numeric(the_sum)\n\u001b[1;32m    722\u001b[0m \u001b[38;5;28;01mif\u001b[39;00m axis \u001b[38;5;129;01mis\u001b[39;00m \u001b[38;5;129;01mnot\u001b[39;00m \u001b[38;5;28;01mNone\u001b[39;00m \u001b[38;5;129;01mand\u001b[39;00m \u001b[38;5;28mgetattr\u001b[39m(the_sum, \u001b[38;5;124m\"\u001b[39m\u001b[38;5;124mndim\u001b[39m\u001b[38;5;124m\"\u001b[39m, \u001b[38;5;28;01mFalse\u001b[39;00m):\n",
      "File \u001b[0;32m~/MachineLearning/env3/lib/python3.10/site-packages/numpy/_core/_methods.py:52\u001b[0m, in \u001b[0;36m_sum\u001b[0;34m(a, axis, dtype, out, keepdims, initial, where)\u001b[0m\n\u001b[1;32m     50\u001b[0m \u001b[38;5;28;01mdef\u001b[39;00m \u001b[38;5;21m_sum\u001b[39m(a, axis\u001b[38;5;241m=\u001b[39m\u001b[38;5;28;01mNone\u001b[39;00m, dtype\u001b[38;5;241m=\u001b[39m\u001b[38;5;28;01mNone\u001b[39;00m, out\u001b[38;5;241m=\u001b[39m\u001b[38;5;28;01mNone\u001b[39;00m, keepdims\u001b[38;5;241m=\u001b[39m\u001b[38;5;28;01mFalse\u001b[39;00m,\n\u001b[1;32m     51\u001b[0m          initial\u001b[38;5;241m=\u001b[39m_NoValue, where\u001b[38;5;241m=\u001b[39m\u001b[38;5;28;01mTrue\u001b[39;00m):\n\u001b[0;32m---> 52\u001b[0m     \u001b[38;5;28;01mreturn\u001b[39;00m \u001b[43mumr_sum\u001b[49m\u001b[43m(\u001b[49m\u001b[43ma\u001b[49m\u001b[43m,\u001b[49m\u001b[43m \u001b[49m\u001b[43maxis\u001b[49m\u001b[43m,\u001b[49m\u001b[43m \u001b[49m\u001b[43mdtype\u001b[49m\u001b[43m,\u001b[49m\u001b[43m \u001b[49m\u001b[43mout\u001b[49m\u001b[43m,\u001b[49m\u001b[43m \u001b[49m\u001b[43mkeepdims\u001b[49m\u001b[43m,\u001b[49m\u001b[43m \u001b[49m\u001b[43minitial\u001b[49m\u001b[43m,\u001b[49m\u001b[43m \u001b[49m\u001b[43mwhere\u001b[49m\u001b[43m)\u001b[49m\n",
      "\u001b[0;31mTypeError\u001b[0m: can only concatenate str (not \"int\") to str"
     ]
    }
   ],
   "source": [
    "school_df.fillna(school_df.mean(), inplace=True)\n"
   ]
  },
  {
   "cell_type": "code",
   "execution_count": 16,
   "id": "f55f0427-0d52-4ab5-aa72-476a0341a5e1",
   "metadata": {},
   "outputs": [
    {
     "ename": "NameError",
     "evalue": "name 'np' is not defined",
     "output_type": "error",
     "traceback": [
      "\u001b[0;31m---------------------------------------------------------------------------\u001b[0m",
      "\u001b[0;31mNameError\u001b[0m                                 Traceback (most recent call last)",
      "Cell \u001b[0;32mIn[16], line 1\u001b[0m\n\u001b[0;32m----> 1\u001b[0m numeric_columns \u001b[38;5;241m=\u001b[39m school_df\u001b[38;5;241m.\u001b[39mselect_dtypes(include\u001b[38;5;241m=\u001b[39m[\u001b[43mnp\u001b[49m\u001b[38;5;241m.\u001b[39mnumber])\u001b[38;5;241m.\u001b[39mcolumns\n",
      "\u001b[0;31mNameError\u001b[0m: name 'np' is not defined"
     ]
    }
   ],
   "source": [
    "numeric_columns = school_df.select_dtypes(include=[np.number]).columns\n"
   ]
  },
  {
   "cell_type": "code",
   "execution_count": 18,
   "id": "77a602d3-89f5-4df2-8b76-34abc9906df8",
   "metadata": {},
   "outputs": [],
   "source": [
    "import numpy as np\n"
   ]
  },
  {
   "cell_type": "code",
   "execution_count": 22,
   "id": "681ef311-c89a-4c8d-9727-da165290c2df",
   "metadata": {},
   "outputs": [],
   "source": [
    "numeric_columns = school_df.select_dtypes(include=[np.number]).columns\n"
   ]
  },
  {
   "cell_type": "code",
   "execution_count": 23,
   "id": "edddb975-cc9d-4efa-9c6a-7ef0d52dfdb9",
   "metadata": {},
   "outputs": [],
   "source": [
    "mean_values = school_df[numeric_columns].mean()\n"
   ]
  },
  {
   "cell_type": "code",
   "execution_count": 24,
   "id": "8a503468-92de-4736-b148-124d6ec5dc6f",
   "metadata": {},
   "outputs": [],
   "source": [
    "school_df.fillna(mean_values, inplace=True)\n"
   ]
  },
  {
   "cell_type": "code",
   "execution_count": 38,
   "id": "cea869c8-b665-4f0b-8edb-f7002a979272",
   "metadata": {},
   "outputs": [],
   "source": [
    "\n",
    "\n",
    "numeric_columns = school_df.select_dtypes(include=[np.number]).columns\n",
    "\n",
    "mean_values = school_df[numeric_columns].mean()\n",
    "\n",
    "school_df.fillna(mean_values, inplace=True)\n"
   ]
  },
  {
   "cell_type": "code",
   "execution_count": 39,
   "id": "337d1522-d8e1-47a6-8da1-a47b5d76f6ce",
   "metadata": {},
   "outputs": [],
   "source": [
    "mean_values = school_df[numeric_columns].mean()\n"
   ]
  },
  {
   "cell_type": "code",
   "execution_count": 40,
   "id": "a857ce99-6f5e-433d-9506-30890af35bf3",
   "metadata": {},
   "outputs": [],
   "source": [
    "school_df.fillna(mean_values, inplace=True)\n"
   ]
  },
  {
   "cell_type": "code",
   "execution_count": 41,
   "id": "ebc42b98-eec7-441b-b32b-204a383878fd",
   "metadata": {},
   "outputs": [
    {
     "name": "stdout",
     "output_type": "stream",
     "text": [
      "                   X             Y  OBJECTID       NCESSCH   SURVYEAR STABR  \\\n",
      "0      -9.596431e+06  4.063795e+06         1   10000500870  2022-2023    AL   \n",
      "1      -9.596286e+06  4.064065e+06         2   10000500871  2022-2023    AL   \n",
      "2      -9.597978e+06  4.065560e+06         3   10000500879  2022-2023    AL   \n",
      "3      -9.598168e+06  4.062785e+06         4   10000500889  2022-2023    AL   \n",
      "4      -9.594995e+06  4.067783e+06         5   10000501616  2022-2023    AL   \n",
      "...              ...           ...       ...           ...        ...   ...   \n",
      "101385 -7.226594e+06  2.077613e+06    101386  780003000024  2022-2023    VI   \n",
      "101386 -7.230477e+06  2.077236e+06    101387  780003000026  2022-2023    VI   \n",
      "101387 -7.224526e+06  2.079118e+06    101388  780003000027  2022-2023    VI   \n",
      "101388 -7.229749e+06  2.076992e+06    101389  780003000033  2022-2023    VI   \n",
      "101389 -7.223556e+06  2.074831e+06    101390  780003000034  2022-2023    VI   \n",
      "\n",
      "          LEAID ST_LEAID                                   LEA_NAME  \\\n",
      "0        100005   AL-101                           Albertville City   \n",
      "1        100005   AL-101                           Albertville City   \n",
      "2        100005   AL-101                           Albertville City   \n",
      "3        100005   AL-101                           Albertville City   \n",
      "4        100005   AL-101                           Albertville City   \n",
      "...         ...      ...                                        ...   \n",
      "101385  7800030   VI-001  Saint Thomas - Saint John School District   \n",
      "101386  7800030   VI-001  Saint Thomas - Saint John School District   \n",
      "101387  7800030   VI-001  Saint Thomas - Saint John School District   \n",
      "101388  7800030   VI-001  Saint Thomas - Saint John School District   \n",
      "101389  7800030   VI-001  Saint Thomas - Saint John School District   \n",
      "\n",
      "                                 SCH_NAME  ...  HIALF     HI TRALM TRALF  \\\n",
      "0               Albertville Middle School  ...  251.0  502.0  17.0  15.0   \n",
      "1                 Albertville High School  ...  468.0  958.0  26.0  19.0   \n",
      "2         Albertville Intermediate School  ...  241.0  504.0   7.0   6.0   \n",
      "3           Albertville Elementary School  ...  236.0  497.0  11.0  16.0   \n",
      "4       Albertville Kindergarten and PreK  ...  152.0  319.0   4.0   4.0   \n",
      "...                                   ...  ...    ...    ...   ...   ...   \n",
      "101385         LOCKHART ELEMENTARY SCHOOL  ...   30.0   63.0   1.0   2.0   \n",
      "101386    ULLA F MULLER ELEMENTARY SCHOOL  ...   27.0   54.0   2.0   0.0   \n",
      "101387    YVONNE BOWSKY ELEMENTARY SCHOOL  ...   22.0   59.0   0.0   1.0   \n",
      "101388         CANCRYN JUNIOR HIGH SCHOOL  ...   62.0  136.0   0.0   1.0   \n",
      "101389       BERTHA BOSCHULTE JUNIOR HIGH  ...   21.0   48.0   0.0   0.0   \n",
      "\n",
      "          TR  WHALM  WHALF     WH     LATCOD     LONCOD  \n",
      "0       32.0  168.0  147.0  315.0  34.260200 -86.206200  \n",
      "1       45.0  325.0  316.0  641.0  34.262200 -86.204900  \n",
      "2       13.0  154.0  144.0  298.0  34.273300 -86.220100  \n",
      "3       27.0  168.0  136.0  304.0  34.252700 -86.221806  \n",
      "4        8.0  104.0  120.0  224.0  34.289800 -86.193300  \n",
      "...      ...    ...    ...    ...        ...        ...  \n",
      "101385   3.0    1.0    0.0    1.0  18.341950 -64.917602  \n",
      "101386   2.0    2.0    5.0    7.0  18.338742 -64.952483  \n",
      "101387   1.0    8.0    4.0   12.0  18.354782 -64.899024  \n",
      "101388   1.0    6.0   10.0   16.0  18.336658 -64.945940  \n",
      "101389   0.0    0.0    2.0    2.0  18.318230 -64.890311  \n",
      "\n",
      "[101390 rows x 77 columns]\n"
     ]
    }
   ],
   "source": [
    "print(school_df)\n"
   ]
  },
  {
   "cell_type": "code",
   "execution_count": 42,
   "id": "b15641cd-ad0a-4302-b341-83c43821944b",
   "metadata": {},
   "outputs": [
    {
     "data": {
      "text/plain": [
       "0         True\n",
       "1         True\n",
       "2         True\n",
       "3         True\n",
       "4         True\n",
       "          ... \n",
       "101385    True\n",
       "101386    True\n",
       "101387    True\n",
       "101388    True\n",
       "101389    True\n",
       "Name: LSTREET2, Length: 101390, dtype: bool"
      ]
     },
     "execution_count": 42,
     "metadata": {},
     "output_type": "execute_result"
    }
   ],
   "source": [
    "school_df['LSTREET2'].isnull()"
   ]
  },
  {
   "cell_type": "code",
   "execution_count": 43,
   "id": "8ff96dd6-3b8a-459f-af3d-0445dead4ca2",
   "metadata": {},
   "outputs": [
    {
     "name": "stdout",
     "output_type": "stream",
     "text": [
      "X           0\n",
      "Y           0\n",
      "OBJECTID    0\n",
      "NCESSCH     0\n",
      "SURVYEAR    0\n",
      "           ..\n",
      "WHALM       0\n",
      "WHALF       0\n",
      "WH          0\n",
      "LATCOD      0\n",
      "LONCOD      0\n",
      "Length: 77, dtype: int64\n"
     ]
    }
   ],
   "source": [
    "print(school_df.isnull().sum())\n"
   ]
  },
  {
   "cell_type": "code",
   "execution_count": null,
   "id": "f4f98471-5db3-4f7a-8808-57d08728a6e8",
   "metadata": {},
   "outputs": [],
   "source": [
    "# Save the original DataFrame\n",
    "original_df = school_df.copy()\n",
    "\n",
    "# Perform the fill operation\n",
    "school_df.fillna(school_df.mean(), inplace=True)\n",
    "\n",
    "# Compare the original and modified DataFrames\n",
    "comparison = original_df.compare(school_df)\n",
    "print(comparison)\n"
   ]
  },
  {
   "cell_type": "code",
   "execution_count": null,
   "id": "e8997a70-0b1c-40ea-80a6-ac9d6d832c30",
   "metadata": {},
   "outputs": [],
   "source": [
    "print(school_df.head())"
   ]
  },
  {
   "cell_type": "code",
   "execution_count": 45,
   "id": "5b77b13a-eeb4-4192-9c33-91220c95f0c4",
   "metadata": {},
   "outputs": [
    {
     "name": "stdout",
     "output_type": "stream",
     "text": [
      "              X             Y  OBJECTID      NCESSCH   SURVYEAR STABR   LEAID  \\\n",
      "0 -9.596431e+06  4.063795e+06         1  10000500870  2022-2023    AL  100005   \n",
      "1 -9.596286e+06  4.064065e+06         2  10000500871  2022-2023    AL  100005   \n",
      "2 -9.597978e+06  4.065560e+06         3  10000500879  2022-2023    AL  100005   \n",
      "3 -9.598168e+06  4.062785e+06         4  10000500889  2022-2023    AL  100005   \n",
      "4 -9.594995e+06  4.067783e+06         5  10000501616  2022-2023    AL  100005   \n",
      "\n",
      "  ST_LEAID          LEA_NAME                           SCH_NAME  ...  HIALF  \\\n",
      "0   AL-101  Albertville City          Albertville Middle School  ...  251.0   \n",
      "1   AL-101  Albertville City            Albertville High School  ...  468.0   \n",
      "2   AL-101  Albertville City    Albertville Intermediate School  ...  241.0   \n",
      "3   AL-101  Albertville City      Albertville Elementary School  ...  236.0   \n",
      "4   AL-101  Albertville City  Albertville Kindergarten and PreK  ...  152.0   \n",
      "\n",
      "      HI TRALM TRALF    TR  WHALM  WHALF     WH   LATCOD     LONCOD  \n",
      "0  502.0  17.0  15.0  32.0  168.0  147.0  315.0  34.2602 -86.206200  \n",
      "1  958.0  26.0  19.0  45.0  325.0  316.0  641.0  34.2622 -86.204900  \n",
      "2  504.0   7.0   6.0  13.0  154.0  144.0  298.0  34.2733 -86.220100  \n",
      "3  497.0  11.0  16.0  27.0  168.0  136.0  304.0  34.2527 -86.221806  \n",
      "4  319.0   4.0   4.0   8.0  104.0  120.0  224.0  34.2898 -86.193300  \n",
      "\n",
      "[5 rows x 77 columns]\n"
     ]
    }
   ],
   "source": [
    "print(school_df.head())\n"
   ]
  },
  {
   "cell_type": "code",
   "execution_count": 1,
   "id": "1b6c2711-9221-45a2-9825-9efafb7eae53",
   "metadata": {},
   "outputs": [
    {
     "ename": "NameError",
     "evalue": "name 'school_df' is not defined",
     "output_type": "error",
     "traceback": [
      "\u001b[0;31m---------------------------------------------------------------------------\u001b[0m",
      "\u001b[0;31mNameError\u001b[0m                                 Traceback (most recent call last)",
      "Cell \u001b[0;32mIn[1], line 1\u001b[0m\n\u001b[0;32m----> 1\u001b[0m \u001b[38;5;28mprint\u001b[39m(\u001b[43mschool_df\u001b[49m\u001b[38;5;241m.\u001b[39misnull()\u001b[38;5;241m.\u001b[39msum())\n",
      "\u001b[0;31mNameError\u001b[0m: name 'school_df' is not defined"
     ]
    }
   ],
   "source": [
    "print(school_df.isnull().sum())\n"
   ]
  },
  {
   "cell_type": "code",
   "execution_count": 2,
   "id": "bfca0b56-24de-4ef8-89de-d96c5aaf5d84",
   "metadata": {},
   "outputs": [
    {
     "ename": "NameError",
     "evalue": "name 'pd' is not defined",
     "output_type": "error",
     "traceback": [
      "\u001b[0;31m---------------------------------------------------------------------------\u001b[0m",
      "\u001b[0;31mNameError\u001b[0m                                 Traceback (most recent call last)",
      "Cell \u001b[0;32mIn[2], line 1\u001b[0m\n\u001b[0;32m----> 1\u001b[0m school_df \u001b[38;5;241m=\u001b[39m \u001b[43mpd\u001b[49m\u001b[38;5;241m.\u001b[39mread_csv(\u001b[38;5;124m'\u001b[39m\u001b[38;5;124m/home/student/Downloads/school_data_set.csv\u001b[39m\u001b[38;5;124m'\u001b[39m)\n",
      "\u001b[0;31mNameError\u001b[0m: name 'pd' is not defined"
     ]
    }
   ],
   "source": [
    "school_df = pd.read_csv('/home/student/Downloads/school_data_set.csv')"
   ]
  },
  {
   "cell_type": "code",
   "execution_count": 3,
   "id": "fff09fe6-e137-4937-a633-ebdec01236eb",
   "metadata": {},
   "outputs": [
    {
     "ename": "NameError",
     "evalue": "name 'pd' is not defined",
     "output_type": "error",
     "traceback": [
      "\u001b[0;31m---------------------------------------------------------------------------\u001b[0m",
      "\u001b[0;31mNameError\u001b[0m                                 Traceback (most recent call last)",
      "Cell \u001b[0;32mIn[3], line 1\u001b[0m\n\u001b[0;32m----> 1\u001b[0m school_df \u001b[38;5;241m=\u001b[39m \u001b[43mpd\u001b[49m\u001b[38;5;241m.\u001b[39mread_csv(\u001b[38;5;124m'\u001b[39m\u001b[38;5;124m/home/student/Downloads/school_data_set.csv\u001b[39m\u001b[38;5;124m'\u001b[39m, dtype\u001b[38;5;241m=\u001b[39m{\u001b[38;5;241m11\u001b[39m: \u001b[38;5;28mstr\u001b[39m})\n",
      "\u001b[0;31mNameError\u001b[0m: name 'pd' is not defined"
     ]
    }
   ],
   "source": [
    "school_df = pd.read_csv('/home/student/Downloads/school_data_set.csv', dtype={11: str})\n"
   ]
  },
  {
   "cell_type": "code",
   "execution_count": 4,
   "id": "bf95292d-c399-4070-a94a-96ab2ef3c306",
   "metadata": {},
   "outputs": [],
   "source": [
    "import pandas as pd\n"
   ]
  },
  {
   "cell_type": "code",
   "execution_count": 1,
   "id": "49b08bf4-3b5c-4fa2-94e7-adcfb4e81458",
   "metadata": {},
   "outputs": [
    {
     "ename": "NameError",
     "evalue": "name 'pd' is not defined",
     "output_type": "error",
     "traceback": [
      "\u001b[0;31m---------------------------------------------------------------------------\u001b[0m",
      "\u001b[0;31mNameError\u001b[0m                                 Traceback (most recent call last)",
      "Cell \u001b[0;32mIn[1], line 1\u001b[0m\n\u001b[0;32m----> 1\u001b[0m school_df \u001b[38;5;241m=\u001b[39m \u001b[43mpd\u001b[49m\u001b[38;5;241m.\u001b[39mread_csv(\u001b[38;5;124m'\u001b[39m\u001b[38;5;124m/home/student/Downloads/school_data_set.csv\u001b[39m\u001b[38;5;124m'\u001b[39m, dtype\u001b[38;5;241m=\u001b[39m{\u001b[38;5;241m11\u001b[39m: \u001b[38;5;28mstr\u001b[39m})\n",
      "\u001b[0;31mNameError\u001b[0m: name 'pd' is not defined"
     ]
    }
   ],
   "source": [
    "school_df = pd.read_csv('/home/student/Downloads/school_data_set.csv', dtype={11: str})\n"
   ]
  },
  {
   "cell_type": "code",
   "execution_count": 3,
   "id": "3b2dd2c5-9485-4318-ac93-3be108b10ede",
   "metadata": {},
   "outputs": [],
   "source": [
    "import pandas as pd\n"
   ]
  },
  {
   "cell_type": "code",
   "execution_count": 5,
   "id": "50d4e9ba-ed41-48b5-ab99-38591f7f13b0",
   "metadata": {},
   "outputs": [],
   "source": [
    "school_df = pd.read_csv('/home/student/Downloads/school_data_set.csv', dtype={11: str})\n"
   ]
  },
  {
   "cell_type": "code",
   "execution_count": 6,
   "id": "fd0a2054-5f2d-4aea-a1ed-2821daca7ae3",
   "metadata": {},
   "outputs": [
    {
     "name": "stdout",
     "output_type": "stream",
     "text": [
      "              X             Y  OBJECTID      NCESSCH   SURVYEAR STABR   LEAID  \\\n",
      "0 -9.596431e+06  4.063795e+06         1  10000500870  2022-2023    AL  100005   \n",
      "1 -9.596286e+06  4.064065e+06         2  10000500871  2022-2023    AL  100005   \n",
      "2 -9.597978e+06  4.065560e+06         3  10000500879  2022-2023    AL  100005   \n",
      "3 -9.598168e+06  4.062785e+06         4  10000500889  2022-2023    AL  100005   \n",
      "4 -9.594995e+06  4.067783e+06         5  10000501616  2022-2023    AL  100005   \n",
      "\n",
      "  ST_LEAID          LEA_NAME                           SCH_NAME  ...  HIALF  \\\n",
      "0   AL-101  Albertville City          Albertville Middle School  ...  251.0   \n",
      "1   AL-101  Albertville City            Albertville High School  ...  468.0   \n",
      "2   AL-101  Albertville City    Albertville Intermediate School  ...  241.0   \n",
      "3   AL-101  Albertville City      Albertville Elementary School  ...  236.0   \n",
      "4   AL-101  Albertville City  Albertville Kindergarten and PreK  ...  152.0   \n",
      "\n",
      "      HI TRALM TRALF    TR  WHALM  WHALF     WH   LATCOD     LONCOD  \n",
      "0  502.0  17.0  15.0  32.0  168.0  147.0  315.0  34.2602 -86.206200  \n",
      "1  958.0  26.0  19.0  45.0  325.0  316.0  641.0  34.2622 -86.204900  \n",
      "2  504.0   7.0   6.0  13.0  154.0  144.0  298.0  34.2733 -86.220100  \n",
      "3  497.0  11.0  16.0  27.0  168.0  136.0  304.0  34.2527 -86.221806  \n",
      "4  319.0   4.0   4.0   8.0  104.0  120.0  224.0  34.2898 -86.193300  \n",
      "\n",
      "[5 rows x 77 columns]\n"
     ]
    }
   ],
   "source": [
    "print(school_df.head())"
   ]
  },
  {
   "cell_type": "code",
   "execution_count": 7,
   "id": "f8a4f933-71bc-480c-a4dc-9f91b9bc0890",
   "metadata": {},
   "outputs": [
    {
     "ename": "NameError",
     "evalue": "name 'df' is not defined",
     "output_type": "error",
     "traceback": [
      "\u001b[0;31m---------------------------------------------------------------------------\u001b[0m",
      "\u001b[0;31mNameError\u001b[0m                                 Traceback (most recent call last)",
      "Cell \u001b[0;32mIn[7], line 1\u001b[0m\n\u001b[0;32m----> 1\u001b[0m \u001b[38;5;28mprint\u001b[39m(\u001b[43mdf\u001b[49m\u001b[38;5;241m.\u001b[39misnull()\u001b[38;5;241m.\u001b[39msum())\n",
      "\u001b[0;31mNameError\u001b[0m: name 'df' is not defined"
     ]
    }
   ],
   "source": [
    "print(df.isnull().sum())\n"
   ]
  },
  {
   "cell_type": "code",
   "execution_count": 8,
   "id": "76f1e92e-968f-4555-949c-036a51d6217e",
   "metadata": {},
   "outputs": [
    {
     "name": "stdout",
     "output_type": "stream",
     "text": [
      "X              0\n",
      "Y              0\n",
      "OBJECTID       0\n",
      "NCESSCH        0\n",
      "SURVYEAR       0\n",
      "            ... \n",
      "WHALM       2481\n",
      "WHALF       2481\n",
      "WH          2480\n",
      "LATCOD         0\n",
      "LONCOD         0\n",
      "Length: 77, dtype: int64\n"
     ]
    }
   ],
   "source": [
    "print(school_df.isnull().sum())\n"
   ]
  },
  {
   "cell_type": "code",
   "execution_count": 10,
   "id": "c64d5be1-780f-42db-84b8-189bcf70eb00",
   "metadata": {},
   "outputs": [],
   "source": [
    "school_df_filled = school_df.fillna(0)\n"
   ]
  },
  {
   "cell_type": "code",
   "execution_count": 11,
   "id": "f1733c0b-34c2-4771-9cb9-20f958fd7603",
   "metadata": {},
   "outputs": [
    {
     "data": {
      "text/html": [
       "<div>\n",
       "<style scoped>\n",
       "    .dataframe tbody tr th:only-of-type {\n",
       "        vertical-align: middle;\n",
       "    }\n",
       "\n",
       "    .dataframe tbody tr th {\n",
       "        vertical-align: top;\n",
       "    }\n",
       "\n",
       "    .dataframe thead th {\n",
       "        text-align: right;\n",
       "    }\n",
       "</style>\n",
       "<table border=\"1\" class=\"dataframe\">\n",
       "  <thead>\n",
       "    <tr style=\"text-align: right;\">\n",
       "      <th></th>\n",
       "      <th>X</th>\n",
       "      <th>Y</th>\n",
       "      <th>OBJECTID</th>\n",
       "      <th>NCESSCH</th>\n",
       "      <th>SURVYEAR</th>\n",
       "      <th>STABR</th>\n",
       "      <th>LEAID</th>\n",
       "      <th>ST_LEAID</th>\n",
       "      <th>LEA_NAME</th>\n",
       "      <th>SCH_NAME</th>\n",
       "      <th>...</th>\n",
       "      <th>HIALF</th>\n",
       "      <th>HI</th>\n",
       "      <th>TRALM</th>\n",
       "      <th>TRALF</th>\n",
       "      <th>TR</th>\n",
       "      <th>WHALM</th>\n",
       "      <th>WHALF</th>\n",
       "      <th>WH</th>\n",
       "      <th>LATCOD</th>\n",
       "      <th>LONCOD</th>\n",
       "    </tr>\n",
       "  </thead>\n",
       "  <tbody>\n",
       "    <tr>\n",
       "      <th>0</th>\n",
       "      <td>-9.596431e+06</td>\n",
       "      <td>4.063795e+06</td>\n",
       "      <td>1</td>\n",
       "      <td>10000500870</td>\n",
       "      <td>2022-2023</td>\n",
       "      <td>AL</td>\n",
       "      <td>100005</td>\n",
       "      <td>AL-101</td>\n",
       "      <td>Albertville City</td>\n",
       "      <td>Albertville Middle School</td>\n",
       "      <td>...</td>\n",
       "      <td>251.0</td>\n",
       "      <td>502.0</td>\n",
       "      <td>17.0</td>\n",
       "      <td>15.0</td>\n",
       "      <td>32.0</td>\n",
       "      <td>168.0</td>\n",
       "      <td>147.0</td>\n",
       "      <td>315.0</td>\n",
       "      <td>34.260200</td>\n",
       "      <td>-86.206200</td>\n",
       "    </tr>\n",
       "    <tr>\n",
       "      <th>1</th>\n",
       "      <td>-9.596286e+06</td>\n",
       "      <td>4.064065e+06</td>\n",
       "      <td>2</td>\n",
       "      <td>10000500871</td>\n",
       "      <td>2022-2023</td>\n",
       "      <td>AL</td>\n",
       "      <td>100005</td>\n",
       "      <td>AL-101</td>\n",
       "      <td>Albertville City</td>\n",
       "      <td>Albertville High School</td>\n",
       "      <td>...</td>\n",
       "      <td>468.0</td>\n",
       "      <td>958.0</td>\n",
       "      <td>26.0</td>\n",
       "      <td>19.0</td>\n",
       "      <td>45.0</td>\n",
       "      <td>325.0</td>\n",
       "      <td>316.0</td>\n",
       "      <td>641.0</td>\n",
       "      <td>34.262200</td>\n",
       "      <td>-86.204900</td>\n",
       "    </tr>\n",
       "    <tr>\n",
       "      <th>2</th>\n",
       "      <td>-9.597978e+06</td>\n",
       "      <td>4.065560e+06</td>\n",
       "      <td>3</td>\n",
       "      <td>10000500879</td>\n",
       "      <td>2022-2023</td>\n",
       "      <td>AL</td>\n",
       "      <td>100005</td>\n",
       "      <td>AL-101</td>\n",
       "      <td>Albertville City</td>\n",
       "      <td>Albertville Intermediate School</td>\n",
       "      <td>...</td>\n",
       "      <td>241.0</td>\n",
       "      <td>504.0</td>\n",
       "      <td>7.0</td>\n",
       "      <td>6.0</td>\n",
       "      <td>13.0</td>\n",
       "      <td>154.0</td>\n",
       "      <td>144.0</td>\n",
       "      <td>298.0</td>\n",
       "      <td>34.273300</td>\n",
       "      <td>-86.220100</td>\n",
       "    </tr>\n",
       "    <tr>\n",
       "      <th>3</th>\n",
       "      <td>-9.598168e+06</td>\n",
       "      <td>4.062785e+06</td>\n",
       "      <td>4</td>\n",
       "      <td>10000500889</td>\n",
       "      <td>2022-2023</td>\n",
       "      <td>AL</td>\n",
       "      <td>100005</td>\n",
       "      <td>AL-101</td>\n",
       "      <td>Albertville City</td>\n",
       "      <td>Albertville Elementary School</td>\n",
       "      <td>...</td>\n",
       "      <td>236.0</td>\n",
       "      <td>497.0</td>\n",
       "      <td>11.0</td>\n",
       "      <td>16.0</td>\n",
       "      <td>27.0</td>\n",
       "      <td>168.0</td>\n",
       "      <td>136.0</td>\n",
       "      <td>304.0</td>\n",
       "      <td>34.252700</td>\n",
       "      <td>-86.221806</td>\n",
       "    </tr>\n",
       "    <tr>\n",
       "      <th>4</th>\n",
       "      <td>-9.594995e+06</td>\n",
       "      <td>4.067783e+06</td>\n",
       "      <td>5</td>\n",
       "      <td>10000501616</td>\n",
       "      <td>2022-2023</td>\n",
       "      <td>AL</td>\n",
       "      <td>100005</td>\n",
       "      <td>AL-101</td>\n",
       "      <td>Albertville City</td>\n",
       "      <td>Albertville Kindergarten and PreK</td>\n",
       "      <td>...</td>\n",
       "      <td>152.0</td>\n",
       "      <td>319.0</td>\n",
       "      <td>4.0</td>\n",
       "      <td>4.0</td>\n",
       "      <td>8.0</td>\n",
       "      <td>104.0</td>\n",
       "      <td>120.0</td>\n",
       "      <td>224.0</td>\n",
       "      <td>34.289800</td>\n",
       "      <td>-86.193300</td>\n",
       "    </tr>\n",
       "    <tr>\n",
       "      <th>...</th>\n",
       "      <td>...</td>\n",
       "      <td>...</td>\n",
       "      <td>...</td>\n",
       "      <td>...</td>\n",
       "      <td>...</td>\n",
       "      <td>...</td>\n",
       "      <td>...</td>\n",
       "      <td>...</td>\n",
       "      <td>...</td>\n",
       "      <td>...</td>\n",
       "      <td>...</td>\n",
       "      <td>...</td>\n",
       "      <td>...</td>\n",
       "      <td>...</td>\n",
       "      <td>...</td>\n",
       "      <td>...</td>\n",
       "      <td>...</td>\n",
       "      <td>...</td>\n",
       "      <td>...</td>\n",
       "      <td>...</td>\n",
       "      <td>...</td>\n",
       "    </tr>\n",
       "    <tr>\n",
       "      <th>101385</th>\n",
       "      <td>-7.226594e+06</td>\n",
       "      <td>2.077613e+06</td>\n",
       "      <td>101386</td>\n",
       "      <td>780003000024</td>\n",
       "      <td>2022-2023</td>\n",
       "      <td>VI</td>\n",
       "      <td>7800030</td>\n",
       "      <td>VI-001</td>\n",
       "      <td>Saint Thomas - Saint John School District</td>\n",
       "      <td>LOCKHART ELEMENTARY SCHOOL</td>\n",
       "      <td>...</td>\n",
       "      <td>30.0</td>\n",
       "      <td>63.0</td>\n",
       "      <td>1.0</td>\n",
       "      <td>2.0</td>\n",
       "      <td>3.0</td>\n",
       "      <td>1.0</td>\n",
       "      <td>0.0</td>\n",
       "      <td>1.0</td>\n",
       "      <td>18.341950</td>\n",
       "      <td>-64.917602</td>\n",
       "    </tr>\n",
       "    <tr>\n",
       "      <th>101386</th>\n",
       "      <td>-7.230477e+06</td>\n",
       "      <td>2.077236e+06</td>\n",
       "      <td>101387</td>\n",
       "      <td>780003000026</td>\n",
       "      <td>2022-2023</td>\n",
       "      <td>VI</td>\n",
       "      <td>7800030</td>\n",
       "      <td>VI-001</td>\n",
       "      <td>Saint Thomas - Saint John School District</td>\n",
       "      <td>ULLA F MULLER ELEMENTARY SCHOOL</td>\n",
       "      <td>...</td>\n",
       "      <td>27.0</td>\n",
       "      <td>54.0</td>\n",
       "      <td>2.0</td>\n",
       "      <td>0.0</td>\n",
       "      <td>2.0</td>\n",
       "      <td>2.0</td>\n",
       "      <td>5.0</td>\n",
       "      <td>7.0</td>\n",
       "      <td>18.338742</td>\n",
       "      <td>-64.952483</td>\n",
       "    </tr>\n",
       "    <tr>\n",
       "      <th>101387</th>\n",
       "      <td>-7.224526e+06</td>\n",
       "      <td>2.079118e+06</td>\n",
       "      <td>101388</td>\n",
       "      <td>780003000027</td>\n",
       "      <td>2022-2023</td>\n",
       "      <td>VI</td>\n",
       "      <td>7800030</td>\n",
       "      <td>VI-001</td>\n",
       "      <td>Saint Thomas - Saint John School District</td>\n",
       "      <td>YVONNE BOWSKY ELEMENTARY SCHOOL</td>\n",
       "      <td>...</td>\n",
       "      <td>22.0</td>\n",
       "      <td>59.0</td>\n",
       "      <td>0.0</td>\n",
       "      <td>1.0</td>\n",
       "      <td>1.0</td>\n",
       "      <td>8.0</td>\n",
       "      <td>4.0</td>\n",
       "      <td>12.0</td>\n",
       "      <td>18.354782</td>\n",
       "      <td>-64.899024</td>\n",
       "    </tr>\n",
       "    <tr>\n",
       "      <th>101388</th>\n",
       "      <td>-7.229749e+06</td>\n",
       "      <td>2.076992e+06</td>\n",
       "      <td>101389</td>\n",
       "      <td>780003000033</td>\n",
       "      <td>2022-2023</td>\n",
       "      <td>VI</td>\n",
       "      <td>7800030</td>\n",
       "      <td>VI-001</td>\n",
       "      <td>Saint Thomas - Saint John School District</td>\n",
       "      <td>CANCRYN JUNIOR HIGH SCHOOL</td>\n",
       "      <td>...</td>\n",
       "      <td>62.0</td>\n",
       "      <td>136.0</td>\n",
       "      <td>0.0</td>\n",
       "      <td>1.0</td>\n",
       "      <td>1.0</td>\n",
       "      <td>6.0</td>\n",
       "      <td>10.0</td>\n",
       "      <td>16.0</td>\n",
       "      <td>18.336658</td>\n",
       "      <td>-64.945940</td>\n",
       "    </tr>\n",
       "    <tr>\n",
       "      <th>101389</th>\n",
       "      <td>-7.223556e+06</td>\n",
       "      <td>2.074831e+06</td>\n",
       "      <td>101390</td>\n",
       "      <td>780003000034</td>\n",
       "      <td>2022-2023</td>\n",
       "      <td>VI</td>\n",
       "      <td>7800030</td>\n",
       "      <td>VI-001</td>\n",
       "      <td>Saint Thomas - Saint John School District</td>\n",
       "      <td>BERTHA BOSCHULTE JUNIOR HIGH</td>\n",
       "      <td>...</td>\n",
       "      <td>21.0</td>\n",
       "      <td>48.0</td>\n",
       "      <td>0.0</td>\n",
       "      <td>0.0</td>\n",
       "      <td>0.0</td>\n",
       "      <td>0.0</td>\n",
       "      <td>2.0</td>\n",
       "      <td>2.0</td>\n",
       "      <td>18.318230</td>\n",
       "      <td>-64.890311</td>\n",
       "    </tr>\n",
       "  </tbody>\n",
       "</table>\n",
       "<p>101390 rows × 77 columns</p>\n",
       "</div>"
      ],
      "text/plain": [
       "                   X             Y  OBJECTID       NCESSCH   SURVYEAR STABR  \\\n",
       "0      -9.596431e+06  4.063795e+06         1   10000500870  2022-2023    AL   \n",
       "1      -9.596286e+06  4.064065e+06         2   10000500871  2022-2023    AL   \n",
       "2      -9.597978e+06  4.065560e+06         3   10000500879  2022-2023    AL   \n",
       "3      -9.598168e+06  4.062785e+06         4   10000500889  2022-2023    AL   \n",
       "4      -9.594995e+06  4.067783e+06         5   10000501616  2022-2023    AL   \n",
       "...              ...           ...       ...           ...        ...   ...   \n",
       "101385 -7.226594e+06  2.077613e+06    101386  780003000024  2022-2023    VI   \n",
       "101386 -7.230477e+06  2.077236e+06    101387  780003000026  2022-2023    VI   \n",
       "101387 -7.224526e+06  2.079118e+06    101388  780003000027  2022-2023    VI   \n",
       "101388 -7.229749e+06  2.076992e+06    101389  780003000033  2022-2023    VI   \n",
       "101389 -7.223556e+06  2.074831e+06    101390  780003000034  2022-2023    VI   \n",
       "\n",
       "          LEAID ST_LEAID                                   LEA_NAME  \\\n",
       "0        100005   AL-101                           Albertville City   \n",
       "1        100005   AL-101                           Albertville City   \n",
       "2        100005   AL-101                           Albertville City   \n",
       "3        100005   AL-101                           Albertville City   \n",
       "4        100005   AL-101                           Albertville City   \n",
       "...         ...      ...                                        ...   \n",
       "101385  7800030   VI-001  Saint Thomas - Saint John School District   \n",
       "101386  7800030   VI-001  Saint Thomas - Saint John School District   \n",
       "101387  7800030   VI-001  Saint Thomas - Saint John School District   \n",
       "101388  7800030   VI-001  Saint Thomas - Saint John School District   \n",
       "101389  7800030   VI-001  Saint Thomas - Saint John School District   \n",
       "\n",
       "                                 SCH_NAME  ...  HIALF     HI TRALM TRALF  \\\n",
       "0               Albertville Middle School  ...  251.0  502.0  17.0  15.0   \n",
       "1                 Albertville High School  ...  468.0  958.0  26.0  19.0   \n",
       "2         Albertville Intermediate School  ...  241.0  504.0   7.0   6.0   \n",
       "3           Albertville Elementary School  ...  236.0  497.0  11.0  16.0   \n",
       "4       Albertville Kindergarten and PreK  ...  152.0  319.0   4.0   4.0   \n",
       "...                                   ...  ...    ...    ...   ...   ...   \n",
       "101385         LOCKHART ELEMENTARY SCHOOL  ...   30.0   63.0   1.0   2.0   \n",
       "101386    ULLA F MULLER ELEMENTARY SCHOOL  ...   27.0   54.0   2.0   0.0   \n",
       "101387    YVONNE BOWSKY ELEMENTARY SCHOOL  ...   22.0   59.0   0.0   1.0   \n",
       "101388         CANCRYN JUNIOR HIGH SCHOOL  ...   62.0  136.0   0.0   1.0   \n",
       "101389       BERTHA BOSCHULTE JUNIOR HIGH  ...   21.0   48.0   0.0   0.0   \n",
       "\n",
       "          TR  WHALM  WHALF     WH     LATCOD     LONCOD  \n",
       "0       32.0  168.0  147.0  315.0  34.260200 -86.206200  \n",
       "1       45.0  325.0  316.0  641.0  34.262200 -86.204900  \n",
       "2       13.0  154.0  144.0  298.0  34.273300 -86.220100  \n",
       "3       27.0  168.0  136.0  304.0  34.252700 -86.221806  \n",
       "4        8.0  104.0  120.0  224.0  34.289800 -86.193300  \n",
       "...      ...    ...    ...    ...        ...        ...  \n",
       "101385   3.0    1.0    0.0    1.0  18.341950 -64.917602  \n",
       "101386   2.0    2.0    5.0    7.0  18.338742 -64.952483  \n",
       "101387   1.0    8.0    4.0   12.0  18.354782 -64.899024  \n",
       "101388   1.0    6.0   10.0   16.0  18.336658 -64.945940  \n",
       "101389   0.0    0.0    2.0    2.0  18.318230 -64.890311  \n",
       "\n",
       "[101390 rows x 77 columns]"
      ]
     },
     "execution_count": 11,
     "metadata": {},
     "output_type": "execute_result"
    }
   ],
   "source": [
    " school_df_filled"
   ]
  },
  {
   "cell_type": "code",
   "execution_count": 12,
   "id": "2d49241e-2dab-4179-a06f-da361ff024a8",
   "metadata": {},
   "outputs": [],
   "source": [
    "import pandas as pd\n",
    "\n",
    "# Assuming school_df is your original DataFrame\n",
    "school_df_filled = school_df.copy()\n",
    "school_df_filled = school_df_filled.fillna(0)\n"
   ]
  },
  {
   "cell_type": "code",
   "execution_count": 13,
   "id": "f1fa1bdb-2596-4662-8a15-99157c62d29c",
   "metadata": {},
   "outputs": [
    {
     "name": "stdout",
     "output_type": "stream",
     "text": [
      "       LSTREET1       LSTREET2         PK         KG        G01        ...  \\\n",
      "           self other     self other self other self other self other  ...   \n",
      "0           NaN   NaN      NaN     0  NaN   0.0  NaN   0.0  NaN   0.0  ...   \n",
      "1           NaN   NaN      NaN     0  NaN   0.0  NaN   0.0  NaN   0.0  ...   \n",
      "2           NaN   NaN      NaN     0  NaN   0.0  NaN   0.0  NaN   0.0  ...   \n",
      "3           NaN   NaN      NaN     0  NaN   0.0  NaN   0.0  NaN   0.0  ...   \n",
      "4           NaN   NaN      NaN     0  NaN   NaN  NaN   NaN  NaN   0.0  ...   \n",
      "...         ...   ...      ...   ...  ...   ...  ...   ...  ...   ...  ...   \n",
      "101385      NaN   NaN      NaN     0  NaN   0.0  NaN   NaN  NaN   NaN  ...   \n",
      "101386      NaN   NaN      NaN     0  NaN   0.0  NaN   NaN  NaN   NaN  ...   \n",
      "101387      NaN   NaN      NaN     0  NaN   NaN  NaN   NaN  NaN   NaN  ...   \n",
      "101388      NaN   NaN      NaN     0  NaN   0.0  NaN   0.0  NaN   0.0  ...   \n",
      "101389      NaN   NaN      NaN     0  NaN   0.0  NaN   0.0  NaN   0.0  ...   \n",
      "\n",
      "       TRALF         TR       WHALM       WHALF         WH        \n",
      "        self other self other  self other  self other self other  \n",
      "0        NaN   NaN  NaN   NaN   NaN   NaN   NaN   NaN  NaN   NaN  \n",
      "1        NaN   NaN  NaN   NaN   NaN   NaN   NaN   NaN  NaN   NaN  \n",
      "2        NaN   NaN  NaN   NaN   NaN   NaN   NaN   NaN  NaN   NaN  \n",
      "3        NaN   NaN  NaN   NaN   NaN   NaN   NaN   NaN  NaN   NaN  \n",
      "4        NaN   NaN  NaN   NaN   NaN   NaN   NaN   NaN  NaN   NaN  \n",
      "...      ...   ...  ...   ...   ...   ...   ...   ...  ...   ...  \n",
      "101385   NaN   NaN  NaN   NaN   NaN   NaN   NaN   NaN  NaN   NaN  \n",
      "101386   NaN   NaN  NaN   NaN   NaN   NaN   NaN   NaN  NaN   NaN  \n",
      "101387   NaN   NaN  NaN   NaN   NaN   NaN   NaN   NaN  NaN   NaN  \n",
      "101388   NaN   NaN  NaN   NaN   NaN   NaN   NaN   NaN  NaN   NaN  \n",
      "101389   NaN   NaN  NaN   NaN   NaN   NaN   NaN   NaN  NaN   NaN  \n",
      "\n",
      "[101390 rows x 92 columns]\n"
     ]
    }
   ],
   "source": [
    "comparison_df = school_df.compare(school_df_filled)\n",
    "print(comparison_df)\n"
   ]
  },
  {
   "cell_type": "code",
   "execution_count": 14,
   "id": "aec2f5a3-97aa-4aeb-bc6f-130ed93bb0d4",
   "metadata": {},
   "outputs": [
    {
     "name": "stdout",
     "output_type": "stream",
     "text": [
      "                   X             Y  OBJECTID       NCESSCH   SURVYEAR STABR  \\\n",
      "0      -9.596431e+06  4.063795e+06         1   10000500870  2022-2023    AL   \n",
      "1      -9.596286e+06  4.064065e+06         2   10000500871  2022-2023    AL   \n",
      "2      -9.597978e+06  4.065560e+06         3   10000500879  2022-2023    AL   \n",
      "3      -9.598168e+06  4.062785e+06         4   10000500889  2022-2023    AL   \n",
      "4      -9.594995e+06  4.067783e+06         5   10000501616  2022-2023    AL   \n",
      "...              ...           ...       ...           ...        ...   ...   \n",
      "101385 -7.226594e+06  2.077613e+06    101386  780003000024  2022-2023    VI   \n",
      "101386 -7.230477e+06  2.077236e+06    101387  780003000026  2022-2023    VI   \n",
      "101387 -7.224526e+06  2.079118e+06    101388  780003000027  2022-2023    VI   \n",
      "101388 -7.229749e+06  2.076992e+06    101389  780003000033  2022-2023    VI   \n",
      "101389 -7.223556e+06  2.074831e+06    101390  780003000034  2022-2023    VI   \n",
      "\n",
      "          LEAID ST_LEAID                                   LEA_NAME  \\\n",
      "0        100005   AL-101                           Albertville City   \n",
      "1        100005   AL-101                           Albertville City   \n",
      "2        100005   AL-101                           Albertville City   \n",
      "3        100005   AL-101                           Albertville City   \n",
      "4        100005   AL-101                           Albertville City   \n",
      "...         ...      ...                                        ...   \n",
      "101385  7800030   VI-001  Saint Thomas - Saint John School District   \n",
      "101386  7800030   VI-001  Saint Thomas - Saint John School District   \n",
      "101387  7800030   VI-001  Saint Thomas - Saint John School District   \n",
      "101388  7800030   VI-001  Saint Thomas - Saint John School District   \n",
      "101389  7800030   VI-001  Saint Thomas - Saint John School District   \n",
      "\n",
      "                                 SCH_NAME  ...  HIALF     HI TRALM TRALF  \\\n",
      "0               Albertville Middle School  ...  251.0  502.0  17.0  15.0   \n",
      "1                 Albertville High School  ...  468.0  958.0  26.0  19.0   \n",
      "2         Albertville Intermediate School  ...  241.0  504.0   7.0   6.0   \n",
      "3           Albertville Elementary School  ...  236.0  497.0  11.0  16.0   \n",
      "4       Albertville Kindergarten and PreK  ...  152.0  319.0   4.0   4.0   \n",
      "...                                   ...  ...    ...    ...   ...   ...   \n",
      "101385         LOCKHART ELEMENTARY SCHOOL  ...   30.0   63.0   1.0   2.0   \n",
      "101386    ULLA F MULLER ELEMENTARY SCHOOL  ...   27.0   54.0   2.0   0.0   \n",
      "101387    YVONNE BOWSKY ELEMENTARY SCHOOL  ...   22.0   59.0   0.0   1.0   \n",
      "101388         CANCRYN JUNIOR HIGH SCHOOL  ...   62.0  136.0   0.0   1.0   \n",
      "101389       BERTHA BOSCHULTE JUNIOR HIGH  ...   21.0   48.0   0.0   0.0   \n",
      "\n",
      "          TR  WHALM  WHALF     WH     LATCOD     LONCOD  \n",
      "0       32.0  168.0  147.0  315.0  34.260200 -86.206200  \n",
      "1       45.0  325.0  316.0  641.0  34.262200 -86.204900  \n",
      "2       13.0  154.0  144.0  298.0  34.273300 -86.220100  \n",
      "3       27.0  168.0  136.0  304.0  34.252700 -86.221806  \n",
      "4        8.0  104.0  120.0  224.0  34.289800 -86.193300  \n",
      "...      ...    ...    ...    ...        ...        ...  \n",
      "101385   3.0    1.0    0.0    1.0  18.341950 -64.917602  \n",
      "101386   2.0    2.0    5.0    7.0  18.338742 -64.952483  \n",
      "101387   1.0    8.0    4.0   12.0  18.354782 -64.899024  \n",
      "101388   1.0    6.0   10.0   16.0  18.336658 -64.945940  \n",
      "101389   0.0    0.0    2.0    2.0  18.318230 -64.890311  \n",
      "\n",
      "[101390 rows x 77 columns]\n"
     ]
    }
   ],
   "source": [
    "fill_df = school_df.fillna(0)\n",
    "print(fill_df)\n"
   ]
  },
  {
   "cell_type": "code",
   "execution_count": 18,
   "id": "9c5afc7b-57d2-40e5-b40e-06eec075f559",
   "metadata": {},
   "outputs": [
    {
     "data": {
      "text/plain": [
       "np.True_"
      ]
     },
     "execution_count": 18,
     "metadata": {},
     "output_type": "execute_result"
    }
   ],
   "source": [
    "null_check = school_df.isnull().sum().any()\n"
   ]
  },
  {
   "cell_type": "code",
   "execution_count": 19,
   "id": "54110c94-3efb-4260-a716-ff24224e00cd",
   "metadata": {},
   "outputs": [
    {
     "data": {
      "text/plain": [
       "np.True_"
      ]
     },
     "execution_count": 19,
     "metadata": {},
     "output_type": "execute_result"
    }
   ],
   "source": [
    "school_df.isnull().sum().any()\n"
   ]
  },
  {
   "cell_type": "code",
   "execution_count": 20,
   "id": "863f772d-2374-4382-9244-14405c5a6e78",
   "metadata": {},
   "outputs": [],
   "source": [
    "null_check = school_df.isnull().sum().any()\n"
   ]
  },
  {
   "cell_type": "code",
   "execution_count": 21,
   "id": "8c36f91a-4b2f-481e-9eab-63d3bf28fe0f",
   "metadata": {},
   "outputs": [
    {
     "ename": "NameError",
     "evalue": "name 'df' is not defined",
     "output_type": "error",
     "traceback": [
      "\u001b[0;31m---------------------------------------------------------------------------\u001b[0m",
      "\u001b[0;31mNameError\u001b[0m                                 Traceback (most recent call last)",
      "Cell \u001b[0;32mIn[21], line 4\u001b[0m\n\u001b[1;32m      1\u001b[0m \u001b[38;5;28;01mimport\u001b[39;00m \u001b[38;5;21;01mpandas\u001b[39;00m \u001b[38;5;28;01mas\u001b[39;00m \u001b[38;5;21;01mpd\u001b[39;00m\n\u001b[1;32m      3\u001b[0m \u001b[38;5;66;03m# Assuming 'df' is your DataFrame\u001b[39;00m\n\u001b[0;32m----> 4\u001b[0m no_nulls \u001b[38;5;241m=\u001b[39m \u001b[43mdf\u001b[49m\u001b[38;5;241m.\u001b[39mnotnull()\u001b[38;5;241m.\u001b[39mall()\u001b[38;5;241m.\u001b[39mall()\n\u001b[1;32m      6\u001b[0m \u001b[38;5;28;01mif\u001b[39;00m no_nulls:\n\u001b[1;32m      7\u001b[0m     \u001b[38;5;28mprint\u001b[39m(\u001b[38;5;124m\"\u001b[39m\u001b[38;5;124mYour dataset does not have any null values.\u001b[39m\u001b[38;5;124m\"\u001b[39m)\n",
      "\u001b[0;31mNameError\u001b[0m: name 'df' is not defined"
     ]
    }
   ],
   "source": [
    "import pandas as pd\n",
    "\n",
    "# Assuming 'df' is your DataFrame\n",
    "no_nulls = df.notnull().all().all()\n",
    "\n",
    "if no_nulls:\n",
    "    print(\"Your dataset does not have any null values.\")\n",
    "else:\n",
    "    print(\"Your dataset contains null values.\")\n"
   ]
  },
  {
   "cell_type": "code",
   "execution_count": 22,
   "id": "3fc31c18-0702-4753-b9c3-22f902fe18b5",
   "metadata": {},
   "outputs": [
    {
     "name": "stdout",
     "output_type": "stream",
     "text": [
      "Your dataset contains null values.\n"
     ]
    }
   ],
   "source": [
    "import pandas as pd\n",
    "\n",
    "# Assuming 'df' is your DataFrame\n",
    "no_nulls = school_df.notnull().all().all()\n",
    "\n",
    "if no_nulls:\n",
    "    print(\"Your dataset does not have any null values.\")\n",
    "else:\n",
    "    print(\"Your dataset contains null values.\")\n"
   ]
  },
  {
   "cell_type": "code",
   "execution_count": 23,
   "id": "dffb505c-85d4-4b9f-a9f6-56edd50c10c1",
   "metadata": {},
   "outputs": [
    {
     "name": "stdout",
     "output_type": "stream",
     "text": [
      "              X             Y  OBJECTID      NCESSCH   SURVYEAR STABR   LEAID  \\\n",
      "0 -9.596431e+06  4.063795e+06         1  10000500870  2022-2023    AL  100005   \n",
      "1 -9.596286e+06  4.064065e+06         2  10000500871  2022-2023    AL  100005   \n",
      "2 -9.597978e+06  4.065560e+06         3  10000500879  2022-2023    AL  100005   \n",
      "3 -9.598168e+06  4.062785e+06         4  10000500889  2022-2023    AL  100005   \n",
      "4 -9.594995e+06  4.067783e+06         5  10000501616  2022-2023    AL  100005   \n",
      "\n",
      "  ST_LEAID          LEA_NAME                           SCH_NAME  ...  HIALF  \\\n",
      "0   AL-101  Albertville City          Albertville Middle School  ...  251.0   \n",
      "1   AL-101  Albertville City            Albertville High School  ...  468.0   \n",
      "2   AL-101  Albertville City    Albertville Intermediate School  ...  241.0   \n",
      "3   AL-101  Albertville City      Albertville Elementary School  ...  236.0   \n",
      "4   AL-101  Albertville City  Albertville Kindergarten and PreK  ...  152.0   \n",
      "\n",
      "      HI TRALM TRALF    TR  WHALM  WHALF     WH   LATCOD     LONCOD  \n",
      "0  502.0  17.0  15.0  32.0  168.0  147.0  315.0  34.2602 -86.206200  \n",
      "1  958.0  26.0  19.0  45.0  325.0  316.0  641.0  34.2622 -86.204900  \n",
      "2  504.0   7.0   6.0  13.0  154.0  144.0  298.0  34.2733 -86.220100  \n",
      "3  497.0  11.0  16.0  27.0  168.0  136.0  304.0  34.2527 -86.221806  \n",
      "4  319.0   4.0   4.0   8.0  104.0  120.0  224.0  34.2898 -86.193300  \n",
      "\n",
      "[5 rows x 77 columns]\n"
     ]
    }
   ],
   "source": [
    "import pandas as pd\n",
    "\n",
    "# Assuming 'df' is your DataFrame\n",
    "df_filled = school_df.fillna(0)\n",
    "\n",
    "# Display the first few rows of the filled DataFrame\n",
    "print(df_filled.head())\n"
   ]
  },
  {
   "cell_type": "code",
   "execution_count": 24,
   "id": "acc8473d-87b8-4d6e-ab98-45e5ed183acb",
   "metadata": {},
   "outputs": [
    {
     "name": "stdout",
     "output_type": "stream",
     "text": [
      "Your dataset contains null values.\n"
     ]
    }
   ],
   "source": [
    "import pandas as pd\n",
    "\n",
    "# Assuming 'df' is your DataFrame\n",
    "no_nulls = school_df.notnull().all().all()\n",
    "\n",
    "if no_nulls:\n",
    "    print(\"Your dataset does not have any null values.\")\n",
    "else:\n",
    "    print(\"Your dataset contains null values.\")"
   ]
  },
  {
   "cell_type": "code",
   "execution_count": 25,
   "id": "0b890cad-2346-4cba-8f15-c81f88abb741",
   "metadata": {},
   "outputs": [
    {
     "ename": "NameError",
     "evalue": "name 'df' is not defined",
     "output_type": "error",
     "traceback": [
      "\u001b[0;31m---------------------------------------------------------------------------\u001b[0m",
      "\u001b[0;31mNameError\u001b[0m                                 Traceback (most recent call last)",
      "Cell \u001b[0;32mIn[25], line 4\u001b[0m\n\u001b[1;32m      1\u001b[0m \u001b[38;5;28;01mimport\u001b[39;00m \u001b[38;5;21;01mpandas\u001b[39;00m \u001b[38;5;28;01mas\u001b[39;00m \u001b[38;5;21;01mpd\u001b[39;00m\n\u001b[1;32m      3\u001b[0m \u001b[38;5;66;03m# Assuming 'df' is your DataFrame\u001b[39;00m\n\u001b[0;32m----> 4\u001b[0m df_filled \u001b[38;5;241m=\u001b[39m \u001b[43mdf\u001b[49m\u001b[38;5;241m.\u001b[39mfillna(\u001b[38;5;241m0\u001b[39m)\n\u001b[1;32m      6\u001b[0m \u001b[38;5;66;03m# Display the first few rows of the filled DataFrame\u001b[39;00m\n\u001b[1;32m      7\u001b[0m \u001b[38;5;28mprint\u001b[39m(df_filled\u001b[38;5;241m.\u001b[39mhead())\n",
      "\u001b[0;31mNameError\u001b[0m: name 'df' is not defined"
     ]
    }
   ],
   "source": [
    "import pandas as pd\n",
    "\n",
    "# Assuming 'df' is your DataFrame\n",
    "df_filled = df.fillna(0)\n",
    "\n",
    "# Display the first few rows of the filled DataFrame\n",
    "print(df_filled.head())\n"
   ]
  },
  {
   "cell_type": "code",
   "execution_count": 27,
   "id": "65ad2d98-1284-4bca-8eab-d3f2f62ef1dd",
   "metadata": {},
   "outputs": [
    {
     "name": "stdout",
     "output_type": "stream",
     "text": [
      "              X             Y  OBJECTID      NCESSCH   SURVYEAR STABR   LEAID  \\\n",
      "0 -9.596431e+06  4.063795e+06         1  10000500870  2022-2023    AL  100005   \n",
      "1 -9.596286e+06  4.064065e+06         2  10000500871  2022-2023    AL  100005   \n",
      "2 -9.597978e+06  4.065560e+06         3  10000500879  2022-2023    AL  100005   \n",
      "3 -9.598168e+06  4.062785e+06         4  10000500889  2022-2023    AL  100005   \n",
      "4 -9.594995e+06  4.067783e+06         5  10000501616  2022-2023    AL  100005   \n",
      "\n",
      "  ST_LEAID          LEA_NAME                           SCH_NAME  ...  HIALF  \\\n",
      "0   AL-101  Albertville City          Albertville Middle School  ...  251.0   \n",
      "1   AL-101  Albertville City            Albertville High School  ...  468.0   \n",
      "2   AL-101  Albertville City    Albertville Intermediate School  ...  241.0   \n",
      "3   AL-101  Albertville City      Albertville Elementary School  ...  236.0   \n",
      "4   AL-101  Albertville City  Albertville Kindergarten and PreK  ...  152.0   \n",
      "\n",
      "      HI TRALM TRALF    TR  WHALM  WHALF     WH   LATCOD     LONCOD  \n",
      "0  502.0  17.0  15.0  32.0  168.0  147.0  315.0  34.2602 -86.206200  \n",
      "1  958.0  26.0  19.0  45.0  325.0  316.0  641.0  34.2622 -86.204900  \n",
      "2  504.0   7.0   6.0  13.0  154.0  144.0  298.0  34.2733 -86.220100  \n",
      "3  497.0  11.0  16.0  27.0  168.0  136.0  304.0  34.2527 -86.221806  \n",
      "4  319.0   4.0   4.0   8.0  104.0  120.0  224.0  34.2898 -86.193300  \n",
      "\n",
      "[5 rows x 77 columns]\n"
     ]
    }
   ],
   "source": [
    "import pandas as pd\n",
    "\n",
    "df_filled = school_df.fillna(0)\n",
    "\n",
    "print(df_filled.head())\n"
   ]
  },
  {
   "cell_type": "code",
   "execution_count": 28,
   "id": "19a977a3-a41c-4c37-b15b-37a21f19183d",
   "metadata": {},
   "outputs": [
    {
     "name": "stdout",
     "output_type": "stream",
     "text": [
      "              X             Y  OBJECTID      NCESSCH   SURVYEAR STABR   LEAID  \\\n",
      "0 -9.596431e+06  4.063795e+06         1  10000500870  2022-2023    AL  100005   \n",
      "1 -9.596286e+06  4.064065e+06         2  10000500871  2022-2023    AL  100005   \n",
      "2 -9.597978e+06  4.065560e+06         3  10000500879  2022-2023    AL  100005   \n",
      "3 -9.598168e+06  4.062785e+06         4  10000500889  2022-2023    AL  100005   \n",
      "4 -9.594995e+06  4.067783e+06         5  10000501616  2022-2023    AL  100005   \n",
      "\n",
      "  ST_LEAID          LEA_NAME                           SCH_NAME  ...  HIALF  \\\n",
      "0   AL-101  Albertville City          Albertville Middle School  ...  251.0   \n",
      "1   AL-101  Albertville City            Albertville High School  ...  468.0   \n",
      "2   AL-101  Albertville City    Albertville Intermediate School  ...  241.0   \n",
      "3   AL-101  Albertville City      Albertville Elementary School  ...  236.0   \n",
      "4   AL-101  Albertville City  Albertville Kindergarten and PreK  ...  152.0   \n",
      "\n",
      "      HI TRALM TRALF    TR  WHALM  WHALF     WH   LATCOD     LONCOD  \n",
      "0  502.0  17.0  15.0  32.0  168.0  147.0  315.0  34.2602 -86.206200  \n",
      "1  958.0  26.0  19.0  45.0  325.0  316.0  641.0  34.2622 -86.204900  \n",
      "2  504.0   7.0   6.0  13.0  154.0  144.0  298.0  34.2733 -86.220100  \n",
      "3  497.0  11.0  16.0  27.0  168.0  136.0  304.0  34.2527 -86.221806  \n",
      "4  319.0   4.0   4.0   8.0  104.0  120.0  224.0  34.2898 -86.193300  \n",
      "\n",
      "[5 rows x 77 columns]\n"
     ]
    }
   ],
   "source": [
    "import pandas as pd\n",
    "\n",
    "df_no_duplicates = school_df.drop_duplicates()\n",
    "\n",
    "print(df_no_duplicates.head())\n"
   ]
  },
  {
   "cell_type": "code",
   "execution_count": 29,
   "id": "967896a6-7ab5-4ff0-9c0b-f953ccbb57bd",
   "metadata": {},
   "outputs": [
    {
     "name": "stdout",
     "output_type": "stream",
     "text": [
      "X           float64\n",
      "Y           float64\n",
      "OBJECTID      int64\n",
      "NCESSCH       int64\n",
      "SURVYEAR     object\n",
      "             ...   \n",
      "WHALM       float64\n",
      "WHALF       float64\n",
      "WH          float64\n",
      "LATCOD      float64\n",
      "LONCOD      float64\n",
      "Length: 77, dtype: object\n"
     ]
    }
   ],
   "source": [
    "import pandas as pd\n",
    "\n",
    "# Assuming 'df' is your DataFrame\n",
    "print(school_df.dtypes)\n"
   ]
  },
  {
   "cell_type": "code",
   "execution_count": 30,
   "id": "13a01986-9570-4209-818b-20184aac5e81",
   "metadata": {},
   "outputs": [
    {
     "ename": "NameError",
     "evalue": "name 'df' is not defined",
     "output_type": "error",
     "traceback": [
      "\u001b[0;31m---------------------------------------------------------------------------\u001b[0m",
      "\u001b[0;31mNameError\u001b[0m                                 Traceback (most recent call last)",
      "Cell \u001b[0;32mIn[30], line 2\u001b[0m\n\u001b[1;32m      1\u001b[0m \u001b[38;5;66;03m# Infer the best data type for each column\u001b[39;00m\n\u001b[0;32m----> 2\u001b[0m df \u001b[38;5;241m=\u001b[39m \u001b[43mdf\u001b[49m\u001b[38;5;241m.\u001b[39minfer_objects()\n",
      "\u001b[0;31mNameError\u001b[0m: name 'df' is not defined"
     ]
    }
   ],
   "source": [
    "# Infer the best data type for each column\n",
    "df = df.infer_objects()\n"
   ]
  },
  {
   "cell_type": "code",
   "execution_count": 32,
   "id": "53ca03e1-c973-4126-85f1-bc9eb502187a",
   "metadata": {},
   "outputs": [
    {
     "ename": "AttributeError",
     "evalue": "'DataFrame' object has no attribute 'show'",
     "output_type": "error",
     "traceback": [
      "\u001b[0;31m---------------------------------------------------------------------------\u001b[0m",
      "\u001b[0;31mAttributeError\u001b[0m                            Traceback (most recent call last)",
      "\u001b[0;32m/tmp/ipykernel_38488/3103995796.py\u001b[0m in \u001b[0;36m?\u001b[0;34m()\u001b[0m\n\u001b[1;32m      1\u001b[0m \u001b[0;31m# Infer the best data type for each column\u001b[0m\u001b[0;34m\u001b[0m\u001b[0;34m\u001b[0m\u001b[0m\n\u001b[1;32m      2\u001b[0m \u001b[0mdf\u001b[0m \u001b[0;34m=\u001b[0m \u001b[0mschool_df\u001b[0m\u001b[0;34m.\u001b[0m\u001b[0minfer_objects\u001b[0m\u001b[0;34m(\u001b[0m\u001b[0;34m)\u001b[0m\u001b[0;34m\u001b[0m\u001b[0;34m\u001b[0m\u001b[0m\n\u001b[0;32m----> 3\u001b[0;31m \u001b[0mprint\u001b[0m\u001b[0;34m(\u001b[0m\u001b[0mdf\u001b[0m\u001b[0;34m.\u001b[0m\u001b[0mshow\u001b[0m\u001b[0;34m(\u001b[0m\u001b[0;34m)\u001b[0m\u001b[0;34m)\u001b[0m\u001b[0;34m\u001b[0m\u001b[0;34m\u001b[0m\u001b[0m\n\u001b[0m",
      "\u001b[0;32m~/MachineLearning/env3/lib/python3.10/site-packages/pandas/core/generic.py\u001b[0m in \u001b[0;36m?\u001b[0;34m(self, name)\u001b[0m\n\u001b[1;32m   6295\u001b[0m             \u001b[0;32mand\u001b[0m \u001b[0mname\u001b[0m \u001b[0;32mnot\u001b[0m \u001b[0;32min\u001b[0m \u001b[0mself\u001b[0m\u001b[0;34m.\u001b[0m\u001b[0m_accessors\u001b[0m\u001b[0;34m\u001b[0m\u001b[0;34m\u001b[0m\u001b[0m\n\u001b[1;32m   6296\u001b[0m             \u001b[0;32mand\u001b[0m \u001b[0mself\u001b[0m\u001b[0;34m.\u001b[0m\u001b[0m_info_axis\u001b[0m\u001b[0;34m.\u001b[0m\u001b[0m_can_hold_identifiers_and_holds_name\u001b[0m\u001b[0;34m(\u001b[0m\u001b[0mname\u001b[0m\u001b[0;34m)\u001b[0m\u001b[0;34m\u001b[0m\u001b[0;34m\u001b[0m\u001b[0m\n\u001b[1;32m   6297\u001b[0m         ):\n\u001b[1;32m   6298\u001b[0m             \u001b[0;32mreturn\u001b[0m \u001b[0mself\u001b[0m\u001b[0;34m[\u001b[0m\u001b[0mname\u001b[0m\u001b[0;34m]\u001b[0m\u001b[0;34m\u001b[0m\u001b[0;34m\u001b[0m\u001b[0m\n\u001b[0;32m-> 6299\u001b[0;31m         \u001b[0;32mreturn\u001b[0m \u001b[0mobject\u001b[0m\u001b[0;34m.\u001b[0m\u001b[0m__getattribute__\u001b[0m\u001b[0;34m(\u001b[0m\u001b[0mself\u001b[0m\u001b[0;34m,\u001b[0m \u001b[0mname\u001b[0m\u001b[0;34m)\u001b[0m\u001b[0;34m\u001b[0m\u001b[0;34m\u001b[0m\u001b[0m\n\u001b[0m",
      "\u001b[0;31mAttributeError\u001b[0m: 'DataFrame' object has no attribute 'show'"
     ]
    }
   ],
   "source": [
    "# Infer the best data type for each column\n",
    "df = school_df.infer_objects()\n",
    "print(df.show())\n"
   ]
  },
  {
   "cell_type": "code",
   "execution_count": 33,
   "id": "876efc12-5010-4c2b-9596-a9ac7b833066",
   "metadata": {},
   "outputs": [
    {
     "ename": "AttributeError",
     "evalue": "'DataFrame' object has no attribute 'show'",
     "output_type": "error",
     "traceback": [
      "\u001b[0;31m---------------------------------------------------------------------------\u001b[0m",
      "\u001b[0;31mAttributeError\u001b[0m                            Traceback (most recent call last)",
      "\u001b[0;32m/tmp/ipykernel_38488/3482502727.py\u001b[0m in \u001b[0;36m?\u001b[0;34m()\u001b[0m\n\u001b[1;32m      1\u001b[0m \u001b[0mdf\u001b[0m \u001b[0;34m=\u001b[0m \u001b[0mschool_df\u001b[0m\u001b[0;34m.\u001b[0m\u001b[0minfer_objects\u001b[0m\u001b[0;34m(\u001b[0m\u001b[0;34m)\u001b[0m\u001b[0;34m\u001b[0m\u001b[0;34m\u001b[0m\u001b[0m\n\u001b[0;32m----> 2\u001b[0;31m \u001b[0mprint\u001b[0m\u001b[0;34m(\u001b[0m\u001b[0mschool_df\u001b[0m\u001b[0;34m.\u001b[0m\u001b[0mshow\u001b[0m\u001b[0;34m(\u001b[0m\u001b[0;34m)\u001b[0m\u001b[0;34m)\u001b[0m\u001b[0;34m\u001b[0m\u001b[0;34m\u001b[0m\u001b[0m\n\u001b[0m",
      "\u001b[0;32m~/MachineLearning/env3/lib/python3.10/site-packages/pandas/core/generic.py\u001b[0m in \u001b[0;36m?\u001b[0;34m(self, name)\u001b[0m\n\u001b[1;32m   6295\u001b[0m             \u001b[0;32mand\u001b[0m \u001b[0mname\u001b[0m \u001b[0;32mnot\u001b[0m \u001b[0;32min\u001b[0m \u001b[0mself\u001b[0m\u001b[0;34m.\u001b[0m\u001b[0m_accessors\u001b[0m\u001b[0;34m\u001b[0m\u001b[0;34m\u001b[0m\u001b[0m\n\u001b[1;32m   6296\u001b[0m             \u001b[0;32mand\u001b[0m \u001b[0mself\u001b[0m\u001b[0;34m.\u001b[0m\u001b[0m_info_axis\u001b[0m\u001b[0;34m.\u001b[0m\u001b[0m_can_hold_identifiers_and_holds_name\u001b[0m\u001b[0;34m(\u001b[0m\u001b[0mname\u001b[0m\u001b[0;34m)\u001b[0m\u001b[0;34m\u001b[0m\u001b[0;34m\u001b[0m\u001b[0m\n\u001b[1;32m   6297\u001b[0m         ):\n\u001b[1;32m   6298\u001b[0m             \u001b[0;32mreturn\u001b[0m \u001b[0mself\u001b[0m\u001b[0;34m[\u001b[0m\u001b[0mname\u001b[0m\u001b[0;34m]\u001b[0m\u001b[0;34m\u001b[0m\u001b[0;34m\u001b[0m\u001b[0m\n\u001b[0;32m-> 6299\u001b[0;31m         \u001b[0;32mreturn\u001b[0m \u001b[0mobject\u001b[0m\u001b[0;34m.\u001b[0m\u001b[0m__getattribute__\u001b[0m\u001b[0;34m(\u001b[0m\u001b[0mself\u001b[0m\u001b[0;34m,\u001b[0m \u001b[0mname\u001b[0m\u001b[0;34m)\u001b[0m\u001b[0;34m\u001b[0m\u001b[0;34m\u001b[0m\u001b[0m\n\u001b[0m",
      "\u001b[0;31mAttributeError\u001b[0m: 'DataFrame' object has no attribute 'show'"
     ]
    }
   ],
   "source": [
    "df = school_df.infer_objects()\n",
    "print(school_df.show())"
   ]
  },
  {
   "cell_type": "code",
   "execution_count": 34,
   "id": "dfc0ec35-66f9-41d1-8c13-adc0ec176845",
   "metadata": {},
   "outputs": [
    {
     "ename": "AttributeError",
     "evalue": "'DataFrame' object has no attribute 'show'",
     "output_type": "error",
     "traceback": [
      "\u001b[0;31m---------------------------------------------------------------------------\u001b[0m",
      "\u001b[0;31mAttributeError\u001b[0m                            Traceback (most recent call last)",
      "\u001b[0;32m/tmp/ipykernel_38488/514941337.py\u001b[0m in \u001b[0;36m?\u001b[0;34m()\u001b[0m\n\u001b[1;32m      1\u001b[0m \u001b[0mschool_df\u001b[0m \u001b[0;34m=\u001b[0m \u001b[0mschool_df\u001b[0m\u001b[0;34m.\u001b[0m\u001b[0minfer_objects\u001b[0m\u001b[0;34m(\u001b[0m\u001b[0;34m)\u001b[0m\u001b[0;34m\u001b[0m\u001b[0;34m\u001b[0m\u001b[0m\n\u001b[0;32m----> 2\u001b[0;31m \u001b[0mprint\u001b[0m\u001b[0;34m(\u001b[0m\u001b[0mschool_df\u001b[0m\u001b[0;34m.\u001b[0m\u001b[0mshow\u001b[0m\u001b[0;34m(\u001b[0m\u001b[0;34m)\u001b[0m\u001b[0;34m)\u001b[0m\u001b[0;34m\u001b[0m\u001b[0;34m\u001b[0m\u001b[0m\n\u001b[0m",
      "\u001b[0;32m~/MachineLearning/env3/lib/python3.10/site-packages/pandas/core/generic.py\u001b[0m in \u001b[0;36m?\u001b[0;34m(self, name)\u001b[0m\n\u001b[1;32m   6295\u001b[0m             \u001b[0;32mand\u001b[0m \u001b[0mname\u001b[0m \u001b[0;32mnot\u001b[0m \u001b[0;32min\u001b[0m \u001b[0mself\u001b[0m\u001b[0;34m.\u001b[0m\u001b[0m_accessors\u001b[0m\u001b[0;34m\u001b[0m\u001b[0;34m\u001b[0m\u001b[0m\n\u001b[1;32m   6296\u001b[0m             \u001b[0;32mand\u001b[0m \u001b[0mself\u001b[0m\u001b[0;34m.\u001b[0m\u001b[0m_info_axis\u001b[0m\u001b[0;34m.\u001b[0m\u001b[0m_can_hold_identifiers_and_holds_name\u001b[0m\u001b[0;34m(\u001b[0m\u001b[0mname\u001b[0m\u001b[0;34m)\u001b[0m\u001b[0;34m\u001b[0m\u001b[0;34m\u001b[0m\u001b[0m\n\u001b[1;32m   6297\u001b[0m         ):\n\u001b[1;32m   6298\u001b[0m             \u001b[0;32mreturn\u001b[0m \u001b[0mself\u001b[0m\u001b[0;34m[\u001b[0m\u001b[0mname\u001b[0m\u001b[0;34m]\u001b[0m\u001b[0;34m\u001b[0m\u001b[0;34m\u001b[0m\u001b[0m\n\u001b[0;32m-> 6299\u001b[0;31m         \u001b[0;32mreturn\u001b[0m \u001b[0mobject\u001b[0m\u001b[0;34m.\u001b[0m\u001b[0m__getattribute__\u001b[0m\u001b[0;34m(\u001b[0m\u001b[0mself\u001b[0m\u001b[0;34m,\u001b[0m \u001b[0mname\u001b[0m\u001b[0;34m)\u001b[0m\u001b[0;34m\u001b[0m\u001b[0;34m\u001b[0m\u001b[0m\n\u001b[0m",
      "\u001b[0;31mAttributeError\u001b[0m: 'DataFrame' object has no attribute 'show'"
     ]
    }
   ],
   "source": [
    "school_df = school_df.infer_objects()\n",
    "print(school_df.show())"
   ]
  },
  {
   "cell_type": "code",
   "execution_count": 38,
   "id": "042b7cad-0e38-4264-9374-a5f042f12fc7",
   "metadata": {},
   "outputs": [],
   "source": [
    "df = school_df.infer_objects()\n"
   ]
  },
  {
   "cell_type": "code",
   "execution_count": 39,
   "id": "6cfca480-9d55-467a-ba54-7947e476a659",
   "metadata": {},
   "outputs": [
    {
     "name": "stdout",
     "output_type": "stream",
     "text": [
      "               X             Y  OBJECTID      NCESSCH   SURVYEAR STABR  \\\n",
      "0  -9.596431e+06  4.063795e+06         1  10000500870  2022-2023    AL   \n",
      "1  -9.596286e+06  4.064065e+06         2  10000500871  2022-2023    AL   \n",
      "2  -9.597978e+06  4.065560e+06         3  10000500879  2022-2023    AL   \n",
      "3  -9.598168e+06  4.062785e+06         4  10000500889  2022-2023    AL   \n",
      "4  -9.594995e+06  4.067783e+06         5  10000501616  2022-2023    AL   \n",
      "5  -9.598167e+06  4.062866e+06         6  10000502150  2022-2023    AL   \n",
      "6  -9.601769e+06  4.100700e+06         7  10000600193  2022-2023    AL   \n",
      "7  -9.589284e+06  4.077582e+06         8  10000600872  2022-2023    AL   \n",
      "8  -9.603578e+06  4.083571e+06         9  10000600876  2022-2023    AL   \n",
      "9  -9.609239e+06  4.052491e+06        10  10000600877  2022-2023    AL   \n",
      "10 -9.609039e+06  4.052818e+06        11  10000600878  2022-2023    AL   \n",
      "11 -9.622691e+06  4.075155e+06        12  10000600880  2022-2023    AL   \n",
      "12 -9.601769e+06  4.100700e+06        13  10000600883  2022-2023    AL   \n",
      "13 -9.620503e+06  4.079558e+06        14  10000600887  2022-2023    AL   \n",
      "14 -9.603578e+06  4.083571e+06        15  10000600986  2022-2023    AL   \n",
      "15 -9.605303e+06  4.069885e+06        16  10000600987  2022-2023    AL   \n",
      "16 -9.609378e+06  4.052564e+06        17  10000601413  2022-2023    AL   \n",
      "17 -9.620442e+06  4.079457e+06        18  10000601585  2022-2023    AL   \n",
      "18 -9.601769e+06  4.100700e+06        19  10000601685  2022-2023    AL   \n",
      "19 -9.609199e+06  4.052667e+06        20  10000601812  2022-2023    AL   \n",
      "20 -9.589220e+06  4.077614e+06        21  10000602209  2022-2023    AL   \n",
      "21 -9.667508e+06  3.940641e+06        22  10000700091  2022-2023    AL   \n",
      "22 -9.646781e+06  3.950253e+06        23  10000700248  2022-2023    AL   \n",
      "23 -9.666729e+06  3.941108e+06        24  10000700251  2022-2023    AL   \n",
      "24 -9.654985e+06  3.947933e+06        25  10000700337  2022-2023    AL   \n",
      "25 -9.671260e+06  3.940188e+06        26  10000700342  2022-2023    AL   \n",
      "26 -9.668632e+06  3.939312e+06        27  10000701422  2022-2023    AL   \n",
      "27 -9.654606e+06  3.947546e+06        28  10000701456  2022-2023    AL   \n",
      "28 -9.670035e+06  3.943707e+06        29  10000701483  2022-2023    AL   \n",
      "29 -9.668521e+06  3.949799e+06        30  10000701738  2022-2023    AL   \n",
      "\n",
      "     LEAID ST_LEAID          LEA_NAME                              SCH_NAME  \\\n",
      "0   100005   AL-101  Albertville City             Albertville Middle School   \n",
      "1   100005   AL-101  Albertville City               Albertville High School   \n",
      "2   100005   AL-101  Albertville City       Albertville Intermediate School   \n",
      "3   100005   AL-101  Albertville City         Albertville Elementary School   \n",
      "4   100005   AL-101  Albertville City     Albertville Kindergarten and PreK   \n",
      "5   100005   AL-101  Albertville City            Albertville Primary School   \n",
      "6   100006   AL-048   Marshall County          Kate Duncan Smith DAR Middle   \n",
      "7   100006   AL-048   Marshall County                    Asbury High School   \n",
      "8   100006   AL-048   Marshall County                     Claysville School   \n",
      "9   100006   AL-048   Marshall County             Douglas Elementary School   \n",
      "10  100006   AL-048   Marshall County                   Douglas High School   \n",
      "11  100006   AL-048   Marshall County   Brindlee Mountain Elementary School   \n",
      "12  100006   AL-048   Marshall County          Kate D Smith DAR High School   \n",
      "13  100006   AL-048   Marshall County      Brindlee Mountain Primary School   \n",
      "14  100006   AL-048   Marshall County           Marshall Alternative School   \n",
      "15  100006   AL-048   Marshall County             Marshall Technical School   \n",
      "16  100006   AL-048   Marshall County               Robert D Sloman Primary   \n",
      "17  100006   AL-048   Marshall County         Brindlee Mountain High School   \n",
      "18  100006   AL-048   Marshall County    Kate D Smith DAR Elementary School   \n",
      "19  100006   AL-048   Marshall County                 Douglas Middle School   \n",
      "20  100006   AL-048   Marshall County              Asbury Elementary School   \n",
      "21  100007   AL-158       Hoover City     Trace Crossings Elementary School   \n",
      "22  100007   AL-158       Hoover City           Greystone Elementary School   \n",
      "23  100007   AL-158       Hoover City                    Hoover High School   \n",
      "24  100007   AL-158       Hoover City                   Berry Middle School   \n",
      "25  100007   AL-158       Hoover City  South Shades Crest Elementary School   \n",
      "26  100007   AL-158       Hoover City         Robert F Bumpus Middle School   \n",
      "27  100007   AL-158       Hoover City                Spain Park High School   \n",
      "28  100007   AL-158       Hoover City         Deer Valley Elementary School   \n",
      "29  100007   AL-158       Hoover City          Bluff Park Elementary School   \n",
      "\n",
      "    ...  HIALF     HI TRALM TRALF     TR  WHALM  WHALF      WH     LATCOD  \\\n",
      "0   ...  251.0  502.0  17.0  15.0   32.0  168.0  147.0   315.0  34.260200   \n",
      "1   ...  468.0  958.0  26.0  19.0   45.0  325.0  316.0   641.0  34.262200   \n",
      "2   ...  241.0  504.0   7.0   6.0   13.0  154.0  144.0   298.0  34.273300   \n",
      "3   ...  236.0  497.0  11.0  16.0   27.0  168.0  136.0   304.0  34.252700   \n",
      "4   ...  152.0  319.0   4.0   4.0    8.0  104.0  120.0   224.0  34.289800   \n",
      "5   ...  256.0  546.0   9.0  10.0   19.0  163.0  157.0   320.0  34.253300   \n",
      "6   ...    8.0   14.0   5.0   9.0   14.0  178.0  152.0   330.0  34.533750   \n",
      "7   ...  156.0  318.0   2.0   3.0    5.0  176.0  148.0   324.0  34.362500   \n",
      "8   ...    0.0    0.0   0.0   0.0    0.0    0.0    0.0     0.0  34.406900   \n",
      "9   ...  102.0  194.0   2.0   3.0    5.0  121.0  125.0   246.0  34.176234   \n",
      "10  ...  140.0  293.0   1.0   2.0    3.0  188.0  174.0   362.0  34.178658   \n",
      "11  ...    5.0    7.0   0.0   3.0    3.0  120.0   99.0   219.0  34.344500   \n",
      "12  ...    8.0   15.0   4.0   4.0    8.0  168.0  191.0   359.0  34.533750   \n",
      "13  ...    8.0   13.0   4.0   3.0    7.0  104.0  103.0   207.0  34.377151   \n",
      "14  ...    0.0    0.0   0.0   0.0    0.0    0.0    0.0     0.0  34.406900   \n",
      "15  ...    0.0    0.0   0.0   0.0    0.0    0.0    0.0     0.0  34.305400   \n",
      "16  ...  107.0  237.0   1.0   3.0    4.0  182.0  160.0   342.0  34.176774   \n",
      "17  ...   15.0   40.0   4.0   4.0    8.0  261.0  225.0   486.0  34.376400   \n",
      "18  ...   14.0   25.0   3.0   1.0    4.0  271.0  271.0   542.0  34.533750   \n",
      "19  ...  128.0  231.0   2.0   2.0    4.0  118.0  129.0   247.0  34.177536   \n",
      "20  ...  155.0  303.0   2.0   4.0    6.0  190.0  185.0   375.0  34.362734   \n",
      "21  ...   32.0   65.0  30.0  24.0   54.0  183.0  143.0   326.0  33.340900   \n",
      "22  ...    6.0   16.0  13.0  10.0   23.0  154.0  153.0   307.0  33.413000   \n",
      "23  ...  133.0  265.0  62.0  38.0  100.0  774.0  706.0  1480.0  33.344400   \n",
      "24  ...   49.0  108.0  26.0  16.0   42.0  330.0  319.0   649.0  33.395600   \n",
      "25  ...   16.0   32.0  15.0  26.0   41.0  163.0  150.0   313.0  33.337500   \n",
      "26  ...   21.0   54.0  31.0  28.0   59.0  307.0  290.0   597.0  33.330923   \n",
      "27  ...   83.0  150.0  28.0  21.0   49.0  471.0  449.0   920.0  33.392700   \n",
      "28  ...   11.0   26.0  21.0  17.0   38.0  249.0  217.0   466.0  33.363900   \n",
      "29  ...   15.0   32.0   9.0  10.0   19.0  235.0  231.0   466.0  33.409600   \n",
      "\n",
      "       LONCOD  \n",
      "0  -86.206200  \n",
      "1  -86.204900  \n",
      "2  -86.220100  \n",
      "3  -86.221806  \n",
      "4  -86.193300  \n",
      "5  -86.221800  \n",
      "6  -86.254153  \n",
      "7  -86.142000  \n",
      "8  -86.270400  \n",
      "9  -86.321259  \n",
      "10 -86.319462  \n",
      "11 -86.442100  \n",
      "12 -86.254153  \n",
      "13 -86.422446  \n",
      "14 -86.270400  \n",
      "15 -86.285900  \n",
      "16 -86.322507  \n",
      "17 -86.421900  \n",
      "18 -86.254153  \n",
      "19 -86.320895  \n",
      "20 -86.141422  \n",
      "21 -86.844700  \n",
      "22 -86.658500  \n",
      "23 -86.837700  \n",
      "24 -86.732200  \n",
      "25 -86.878400  \n",
      "26 -86.854796  \n",
      "27 -86.728800  \n",
      "28 -86.867400  \n",
      "29 -86.853800  \n",
      "\n",
      "[30 rows x 77 columns]\n"
     ]
    }
   ],
   "source": [
    "print(df.head(30))\n"
   ]
  },
  {
   "cell_type": "code",
   "execution_count": 40,
   "id": "47e651c5-c93d-431a-9094-d453e1935352",
   "metadata": {},
   "outputs": [],
   "source": [
    "import pandas as pd\n",
    "\n",
    "df = df.fillna(0)\n"
   ]
  },
  {
   "cell_type": "code",
   "execution_count": 41,
   "id": "93b29a8e-4779-4c74-8ea5-d7e171e4b5ba",
   "metadata": {},
   "outputs": [],
   "source": [
    "import pandas as pd\n",
    "\n",
    "df = school_df.drop_duplicates()\n"
   ]
  },
  {
   "cell_type": "code",
   "execution_count": 42,
   "id": "d9d79c86-a87d-42d2-b917-97ece0b79503",
   "metadata": {},
   "outputs": [],
   "source": [
    "df = school_df.infer_objects()\n"
   ]
  },
  {
   "cell_type": "code",
   "execution_count": 43,
   "id": "d23d1b58-66c4-4541-8dbf-0151fdc25e81",
   "metadata": {},
   "outputs": [
    {
     "name": "stdout",
     "output_type": "stream",
     "text": [
      "               X             Y  OBJECTID      NCESSCH   SURVYEAR STABR  \\\n",
      "0  -9.596431e+06  4.063795e+06         1  10000500870  2022-2023    AL   \n",
      "1  -9.596286e+06  4.064065e+06         2  10000500871  2022-2023    AL   \n",
      "2  -9.597978e+06  4.065560e+06         3  10000500879  2022-2023    AL   \n",
      "3  -9.598168e+06  4.062785e+06         4  10000500889  2022-2023    AL   \n",
      "4  -9.594995e+06  4.067783e+06         5  10000501616  2022-2023    AL   \n",
      "5  -9.598167e+06  4.062866e+06         6  10000502150  2022-2023    AL   \n",
      "6  -9.601769e+06  4.100700e+06         7  10000600193  2022-2023    AL   \n",
      "7  -9.589284e+06  4.077582e+06         8  10000600872  2022-2023    AL   \n",
      "8  -9.603578e+06  4.083571e+06         9  10000600876  2022-2023    AL   \n",
      "9  -9.609239e+06  4.052491e+06        10  10000600877  2022-2023    AL   \n",
      "10 -9.609039e+06  4.052818e+06        11  10000600878  2022-2023    AL   \n",
      "11 -9.622691e+06  4.075155e+06        12  10000600880  2022-2023    AL   \n",
      "12 -9.601769e+06  4.100700e+06        13  10000600883  2022-2023    AL   \n",
      "13 -9.620503e+06  4.079558e+06        14  10000600887  2022-2023    AL   \n",
      "14 -9.603578e+06  4.083571e+06        15  10000600986  2022-2023    AL   \n",
      "15 -9.605303e+06  4.069885e+06        16  10000600987  2022-2023    AL   \n",
      "16 -9.609378e+06  4.052564e+06        17  10000601413  2022-2023    AL   \n",
      "17 -9.620442e+06  4.079457e+06        18  10000601585  2022-2023    AL   \n",
      "18 -9.601769e+06  4.100700e+06        19  10000601685  2022-2023    AL   \n",
      "19 -9.609199e+06  4.052667e+06        20  10000601812  2022-2023    AL   \n",
      "20 -9.589220e+06  4.077614e+06        21  10000602209  2022-2023    AL   \n",
      "21 -9.667508e+06  3.940641e+06        22  10000700091  2022-2023    AL   \n",
      "22 -9.646781e+06  3.950253e+06        23  10000700248  2022-2023    AL   \n",
      "23 -9.666729e+06  3.941108e+06        24  10000700251  2022-2023    AL   \n",
      "24 -9.654985e+06  3.947933e+06        25  10000700337  2022-2023    AL   \n",
      "25 -9.671260e+06  3.940188e+06        26  10000700342  2022-2023    AL   \n",
      "26 -9.668632e+06  3.939312e+06        27  10000701422  2022-2023    AL   \n",
      "27 -9.654606e+06  3.947546e+06        28  10000701456  2022-2023    AL   \n",
      "28 -9.670035e+06  3.943707e+06        29  10000701483  2022-2023    AL   \n",
      "29 -9.668521e+06  3.949799e+06        30  10000701738  2022-2023    AL   \n",
      "\n",
      "     LEAID ST_LEAID          LEA_NAME                              SCH_NAME  \\\n",
      "0   100005   AL-101  Albertville City             Albertville Middle School   \n",
      "1   100005   AL-101  Albertville City               Albertville High School   \n",
      "2   100005   AL-101  Albertville City       Albertville Intermediate School   \n",
      "3   100005   AL-101  Albertville City         Albertville Elementary School   \n",
      "4   100005   AL-101  Albertville City     Albertville Kindergarten and PreK   \n",
      "5   100005   AL-101  Albertville City            Albertville Primary School   \n",
      "6   100006   AL-048   Marshall County          Kate Duncan Smith DAR Middle   \n",
      "7   100006   AL-048   Marshall County                    Asbury High School   \n",
      "8   100006   AL-048   Marshall County                     Claysville School   \n",
      "9   100006   AL-048   Marshall County             Douglas Elementary School   \n",
      "10  100006   AL-048   Marshall County                   Douglas High School   \n",
      "11  100006   AL-048   Marshall County   Brindlee Mountain Elementary School   \n",
      "12  100006   AL-048   Marshall County          Kate D Smith DAR High School   \n",
      "13  100006   AL-048   Marshall County      Brindlee Mountain Primary School   \n",
      "14  100006   AL-048   Marshall County           Marshall Alternative School   \n",
      "15  100006   AL-048   Marshall County             Marshall Technical School   \n",
      "16  100006   AL-048   Marshall County               Robert D Sloman Primary   \n",
      "17  100006   AL-048   Marshall County         Brindlee Mountain High School   \n",
      "18  100006   AL-048   Marshall County    Kate D Smith DAR Elementary School   \n",
      "19  100006   AL-048   Marshall County                 Douglas Middle School   \n",
      "20  100006   AL-048   Marshall County              Asbury Elementary School   \n",
      "21  100007   AL-158       Hoover City     Trace Crossings Elementary School   \n",
      "22  100007   AL-158       Hoover City           Greystone Elementary School   \n",
      "23  100007   AL-158       Hoover City                    Hoover High School   \n",
      "24  100007   AL-158       Hoover City                   Berry Middle School   \n",
      "25  100007   AL-158       Hoover City  South Shades Crest Elementary School   \n",
      "26  100007   AL-158       Hoover City         Robert F Bumpus Middle School   \n",
      "27  100007   AL-158       Hoover City                Spain Park High School   \n",
      "28  100007   AL-158       Hoover City         Deer Valley Elementary School   \n",
      "29  100007   AL-158       Hoover City          Bluff Park Elementary School   \n",
      "\n",
      "    ...  HIALF     HI TRALM TRALF     TR  WHALM  WHALF      WH     LATCOD  \\\n",
      "0   ...  251.0  502.0  17.0  15.0   32.0  168.0  147.0   315.0  34.260200   \n",
      "1   ...  468.0  958.0  26.0  19.0   45.0  325.0  316.0   641.0  34.262200   \n",
      "2   ...  241.0  504.0   7.0   6.0   13.0  154.0  144.0   298.0  34.273300   \n",
      "3   ...  236.0  497.0  11.0  16.0   27.0  168.0  136.0   304.0  34.252700   \n",
      "4   ...  152.0  319.0   4.0   4.0    8.0  104.0  120.0   224.0  34.289800   \n",
      "5   ...  256.0  546.0   9.0  10.0   19.0  163.0  157.0   320.0  34.253300   \n",
      "6   ...    8.0   14.0   5.0   9.0   14.0  178.0  152.0   330.0  34.533750   \n",
      "7   ...  156.0  318.0   2.0   3.0    5.0  176.0  148.0   324.0  34.362500   \n",
      "8   ...    0.0    0.0   0.0   0.0    0.0    0.0    0.0     0.0  34.406900   \n",
      "9   ...  102.0  194.0   2.0   3.0    5.0  121.0  125.0   246.0  34.176234   \n",
      "10  ...  140.0  293.0   1.0   2.0    3.0  188.0  174.0   362.0  34.178658   \n",
      "11  ...    5.0    7.0   0.0   3.0    3.0  120.0   99.0   219.0  34.344500   \n",
      "12  ...    8.0   15.0   4.0   4.0    8.0  168.0  191.0   359.0  34.533750   \n",
      "13  ...    8.0   13.0   4.0   3.0    7.0  104.0  103.0   207.0  34.377151   \n",
      "14  ...    0.0    0.0   0.0   0.0    0.0    0.0    0.0     0.0  34.406900   \n",
      "15  ...    0.0    0.0   0.0   0.0    0.0    0.0    0.0     0.0  34.305400   \n",
      "16  ...  107.0  237.0   1.0   3.0    4.0  182.0  160.0   342.0  34.176774   \n",
      "17  ...   15.0   40.0   4.0   4.0    8.0  261.0  225.0   486.0  34.376400   \n",
      "18  ...   14.0   25.0   3.0   1.0    4.0  271.0  271.0   542.0  34.533750   \n",
      "19  ...  128.0  231.0   2.0   2.0    4.0  118.0  129.0   247.0  34.177536   \n",
      "20  ...  155.0  303.0   2.0   4.0    6.0  190.0  185.0   375.0  34.362734   \n",
      "21  ...   32.0   65.0  30.0  24.0   54.0  183.0  143.0   326.0  33.340900   \n",
      "22  ...    6.0   16.0  13.0  10.0   23.0  154.0  153.0   307.0  33.413000   \n",
      "23  ...  133.0  265.0  62.0  38.0  100.0  774.0  706.0  1480.0  33.344400   \n",
      "24  ...   49.0  108.0  26.0  16.0   42.0  330.0  319.0   649.0  33.395600   \n",
      "25  ...   16.0   32.0  15.0  26.0   41.0  163.0  150.0   313.0  33.337500   \n",
      "26  ...   21.0   54.0  31.0  28.0   59.0  307.0  290.0   597.0  33.330923   \n",
      "27  ...   83.0  150.0  28.0  21.0   49.0  471.0  449.0   920.0  33.392700   \n",
      "28  ...   11.0   26.0  21.0  17.0   38.0  249.0  217.0   466.0  33.363900   \n",
      "29  ...   15.0   32.0   9.0  10.0   19.0  235.0  231.0   466.0  33.409600   \n",
      "\n",
      "       LONCOD  \n",
      "0  -86.206200  \n",
      "1  -86.204900  \n",
      "2  -86.220100  \n",
      "3  -86.221806  \n",
      "4  -86.193300  \n",
      "5  -86.221800  \n",
      "6  -86.254153  \n",
      "7  -86.142000  \n",
      "8  -86.270400  \n",
      "9  -86.321259  \n",
      "10 -86.319462  \n",
      "11 -86.442100  \n",
      "12 -86.254153  \n",
      "13 -86.422446  \n",
      "14 -86.270400  \n",
      "15 -86.285900  \n",
      "16 -86.322507  \n",
      "17 -86.421900  \n",
      "18 -86.254153  \n",
      "19 -86.320895  \n",
      "20 -86.141422  \n",
      "21 -86.844700  \n",
      "22 -86.658500  \n",
      "23 -86.837700  \n",
      "24 -86.732200  \n",
      "25 -86.878400  \n",
      "26 -86.854796  \n",
      "27 -86.728800  \n",
      "28 -86.867400  \n",
      "29 -86.853800  \n",
      "\n",
      "[30 rows x 77 columns]\n"
     ]
    }
   ],
   "source": [
    "print(df.head(30))"
   ]
  },
  {
   "cell_type": "code",
   "execution_count": 44,
   "id": "b91bc6c4-3a33-4700-99ab-d948810d45ee",
   "metadata": {},
   "outputs": [
    {
     "name": "stdout",
     "output_type": "stream",
     "text": [
      "<class 'pandas.core.frame.DataFrame'>\n",
      "RangeIndex: 101390 entries, 0 to 101389\n",
      "Data columns (total 77 columns):\n",
      " #   Column            Non-Null Count   Dtype  \n",
      "---  ------            --------------   -----  \n",
      " 0   X                 101390 non-null  float64\n",
      " 1   Y                 101390 non-null  float64\n",
      " 2   OBJECTID          101390 non-null  int64  \n",
      " 3   NCESSCH           101390 non-null  int64  \n",
      " 4   SURVYEAR          101390 non-null  object \n",
      " 5   STABR             101390 non-null  object \n",
      " 6   LEAID             101390 non-null  int64  \n",
      " 7   ST_LEAID          101390 non-null  object \n",
      " 8   LEA_NAME          101390 non-null  object \n",
      " 9   SCH_NAME          101390 non-null  object \n",
      " 10  LSTREET1          101389 non-null  object \n",
      " 11  LSTREET2          572 non-null     object \n",
      " 12  LCITY             101390 non-null  object \n",
      " 13  LSTATE            101390 non-null  object \n",
      " 14  LZIP              101390 non-null  int64  \n",
      " 15  LZIP4             101390 non-null  object \n",
      " 16  PHONE             101390 non-null  object \n",
      " 17  CHARTER_TEXT      101390 non-null  object \n",
      " 18  VIRTUAL           101390 non-null  object \n",
      " 19  GSLO              101390 non-null  object \n",
      " 20  GSHI              101390 non-null  object \n",
      " 21  SCHOOL_LEVEL      101390 non-null  object \n",
      " 22  STATUS            101390 non-null  int64  \n",
      " 23  SCHOOL_TYPE_TEXT  101390 non-null  object \n",
      " 24  SY_STATUS_TEXT    101390 non-null  object \n",
      " 25  ULOCALE           101390 non-null  object \n",
      " 26  NMCNTY            101390 non-null  object \n",
      " 27  TOTFRL            101390 non-null  int64  \n",
      " 28  FRELCH            101390 non-null  int64  \n",
      " 29  REDLCH            101390 non-null  int64  \n",
      " 30  DIRECTCERT        101390 non-null  int64  \n",
      " 31  PK                32392 non-null   float64\n",
      " 32  KG                54061 non-null   float64\n",
      " 33  G01               54412 non-null   float64\n",
      " 34  G02               54469 non-null   float64\n",
      " 35  G03               54459 non-null   float64\n",
      " 36  G04               54258 non-null   float64\n",
      " 37  G05               53014 non-null   float64\n",
      " 38  G06               38023 non-null   float64\n",
      " 39  G07               33224 non-null   float64\n",
      " 40  G08               33492 non-null   float64\n",
      " 41  G09               28101 non-null   float64\n",
      " 42  G10               27889 non-null   float64\n",
      " 43  G11               27888 non-null   float64\n",
      " 44  G12               27816 non-null   float64\n",
      " 45  G13               133 non-null     float64\n",
      " 46  UG                7889 non-null    float64\n",
      " 47  AE                183 non-null     float64\n",
      " 48  TOTMENROL         98910 non-null   float64\n",
      " 49  TOTFENROL         98910 non-null   float64\n",
      " 50  TOTAL             99719 non-null   float64\n",
      " 51  MEMBER            99719 non-null   float64\n",
      " 52  FTE               97537 non-null   float64\n",
      " 53  STUTERATIO        99576 non-null   float64\n",
      " 54  AMALM             98809 non-null   float64\n",
      " 55  AMALF             98811 non-null   float64\n",
      " 56  AM                98857 non-null   float64\n",
      " 57  ASALM             98898 non-null   float64\n",
      " 58  ASALF             98900 non-null   float64\n",
      " 59  AS_               98906 non-null   float64\n",
      " 60  BLALM             98896 non-null   float64\n",
      " 61  BLALF             98893 non-null   float64\n",
      " 62  BL                98903 non-null   float64\n",
      " 63  HPALM             98782 non-null   float64\n",
      " 64  HPALF             98783 non-null   float64\n",
      " 65  HP                98829 non-null   float64\n",
      " 66  HIALM             98909 non-null   float64\n",
      " 67  HIALF             98910 non-null   float64\n",
      " 68  HI                98910 non-null   float64\n",
      " 69  TRALM             98903 non-null   float64\n",
      " 70  TRALF             98905 non-null   float64\n",
      " 71  TR                98906 non-null   float64\n",
      " 72  WHALM             98909 non-null   float64\n",
      " 73  WHALF             98909 non-null   float64\n",
      " 74  WH                98910 non-null   float64\n",
      " 75  LATCOD            101390 non-null  float64\n",
      " 76  LONCOD            101390 non-null  float64\n",
      "dtypes: float64(48), int64(9), object(20)\n",
      "memory usage: 59.6+ MB\n",
      "None\n"
     ]
    }
   ],
   "source": [
    "print(df.info())"
   ]
  },
  {
   "cell_type": "code",
   "execution_count": 46,
   "id": "f3daac7b-ac66-4362-b3dc-e0458694c576",
   "metadata": {},
   "outputs": [
    {
     "ename": "KeyError",
     "evalue": "'Year'",
     "output_type": "error",
     "traceback": [
      "\u001b[0;31m---------------------------------------------------------------------------\u001b[0m",
      "\u001b[0;31mKeyError\u001b[0m                                  Traceback (most recent call last)",
      "File \u001b[0;32m~/MachineLearning/env3/lib/python3.10/site-packages/pandas/core/indexes/base.py:3805\u001b[0m, in \u001b[0;36mIndex.get_loc\u001b[0;34m(self, key)\u001b[0m\n\u001b[1;32m   3804\u001b[0m \u001b[38;5;28;01mtry\u001b[39;00m:\n\u001b[0;32m-> 3805\u001b[0m     \u001b[38;5;28;01mreturn\u001b[39;00m \u001b[38;5;28;43mself\u001b[39;49m\u001b[38;5;241;43m.\u001b[39;49m\u001b[43m_engine\u001b[49m\u001b[38;5;241;43m.\u001b[39;49m\u001b[43mget_loc\u001b[49m\u001b[43m(\u001b[49m\u001b[43mcasted_key\u001b[49m\u001b[43m)\u001b[49m\n\u001b[1;32m   3806\u001b[0m \u001b[38;5;28;01mexcept\u001b[39;00m \u001b[38;5;167;01mKeyError\u001b[39;00m \u001b[38;5;28;01mas\u001b[39;00m err:\n",
      "File \u001b[0;32mindex.pyx:167\u001b[0m, in \u001b[0;36mpandas._libs.index.IndexEngine.get_loc\u001b[0;34m()\u001b[0m\n",
      "File \u001b[0;32mindex.pyx:196\u001b[0m, in \u001b[0;36mpandas._libs.index.IndexEngine.get_loc\u001b[0;34m()\u001b[0m\n",
      "File \u001b[0;32mpandas/_libs/hashtable_class_helper.pxi:7081\u001b[0m, in \u001b[0;36mpandas._libs.hashtable.PyObjectHashTable.get_item\u001b[0;34m()\u001b[0m\n",
      "File \u001b[0;32mpandas/_libs/hashtable_class_helper.pxi:7089\u001b[0m, in \u001b[0;36mpandas._libs.hashtable.PyObjectHashTable.get_item\u001b[0;34m()\u001b[0m\n",
      "\u001b[0;31mKeyError\u001b[0m: 'Year'",
      "\nThe above exception was the direct cause of the following exception:\n",
      "\u001b[0;31mKeyError\u001b[0m                                  Traceback (most recent call last)",
      "Cell \u001b[0;32mIn[46], line 4\u001b[0m\n\u001b[1;32m      1\u001b[0m \u001b[38;5;28;01mimport\u001b[39;00m \u001b[38;5;21;01mmatplotlib\u001b[39;00m\u001b[38;5;21;01m.\u001b[39;00m\u001b[38;5;21;01mpyplot\u001b[39;00m \u001b[38;5;28;01mas\u001b[39;00m \u001b[38;5;21;01mplt\u001b[39;00m\n\u001b[1;32m      3\u001b[0m \u001b[38;5;66;03m# Assuming df is your DataFrame and it has columns 'Year', 'Category', 'Value'\u001b[39;00m\n\u001b[0;32m----> 4\u001b[0m years \u001b[38;5;241m=\u001b[39m \u001b[43mschool_df\u001b[49m\u001b[43m[\u001b[49m\u001b[38;5;124;43m'\u001b[39;49m\u001b[38;5;124;43mYear\u001b[39;49m\u001b[38;5;124;43m'\u001b[39;49m\u001b[43m]\u001b[49m\u001b[38;5;241m.\u001b[39munique()\n\u001b[1;32m      5\u001b[0m categories \u001b[38;5;241m=\u001b[39m school_df[\u001b[38;5;124m'\u001b[39m\u001b[38;5;124mCategory\u001b[39m\u001b[38;5;124m'\u001b[39m]\u001b[38;5;241m.\u001b[39munique()\n\u001b[1;32m      7\u001b[0m fig, ax \u001b[38;5;241m=\u001b[39m plt\u001b[38;5;241m.\u001b[39msubplots()\n",
      "File \u001b[0;32m~/MachineLearning/env3/lib/python3.10/site-packages/pandas/core/frame.py:4102\u001b[0m, in \u001b[0;36mDataFrame.__getitem__\u001b[0;34m(self, key)\u001b[0m\n\u001b[1;32m   4100\u001b[0m \u001b[38;5;28;01mif\u001b[39;00m \u001b[38;5;28mself\u001b[39m\u001b[38;5;241m.\u001b[39mcolumns\u001b[38;5;241m.\u001b[39mnlevels \u001b[38;5;241m>\u001b[39m \u001b[38;5;241m1\u001b[39m:\n\u001b[1;32m   4101\u001b[0m     \u001b[38;5;28;01mreturn\u001b[39;00m \u001b[38;5;28mself\u001b[39m\u001b[38;5;241m.\u001b[39m_getitem_multilevel(key)\n\u001b[0;32m-> 4102\u001b[0m indexer \u001b[38;5;241m=\u001b[39m \u001b[38;5;28;43mself\u001b[39;49m\u001b[38;5;241;43m.\u001b[39;49m\u001b[43mcolumns\u001b[49m\u001b[38;5;241;43m.\u001b[39;49m\u001b[43mget_loc\u001b[49m\u001b[43m(\u001b[49m\u001b[43mkey\u001b[49m\u001b[43m)\u001b[49m\n\u001b[1;32m   4103\u001b[0m \u001b[38;5;28;01mif\u001b[39;00m is_integer(indexer):\n\u001b[1;32m   4104\u001b[0m     indexer \u001b[38;5;241m=\u001b[39m [indexer]\n",
      "File \u001b[0;32m~/MachineLearning/env3/lib/python3.10/site-packages/pandas/core/indexes/base.py:3812\u001b[0m, in \u001b[0;36mIndex.get_loc\u001b[0;34m(self, key)\u001b[0m\n\u001b[1;32m   3807\u001b[0m     \u001b[38;5;28;01mif\u001b[39;00m \u001b[38;5;28misinstance\u001b[39m(casted_key, \u001b[38;5;28mslice\u001b[39m) \u001b[38;5;129;01mor\u001b[39;00m (\n\u001b[1;32m   3808\u001b[0m         \u001b[38;5;28misinstance\u001b[39m(casted_key, abc\u001b[38;5;241m.\u001b[39mIterable)\n\u001b[1;32m   3809\u001b[0m         \u001b[38;5;129;01mand\u001b[39;00m \u001b[38;5;28many\u001b[39m(\u001b[38;5;28misinstance\u001b[39m(x, \u001b[38;5;28mslice\u001b[39m) \u001b[38;5;28;01mfor\u001b[39;00m x \u001b[38;5;129;01min\u001b[39;00m casted_key)\n\u001b[1;32m   3810\u001b[0m     ):\n\u001b[1;32m   3811\u001b[0m         \u001b[38;5;28;01mraise\u001b[39;00m InvalidIndexError(key)\n\u001b[0;32m-> 3812\u001b[0m     \u001b[38;5;28;01mraise\u001b[39;00m \u001b[38;5;167;01mKeyError\u001b[39;00m(key) \u001b[38;5;28;01mfrom\u001b[39;00m \u001b[38;5;21;01merr\u001b[39;00m\n\u001b[1;32m   3813\u001b[0m \u001b[38;5;28;01mexcept\u001b[39;00m \u001b[38;5;167;01mTypeError\u001b[39;00m:\n\u001b[1;32m   3814\u001b[0m     \u001b[38;5;66;03m# If we have a listlike key, _check_indexing_error will raise\u001b[39;00m\n\u001b[1;32m   3815\u001b[0m     \u001b[38;5;66;03m#  InvalidIndexError. Otherwise we fall through and re-raise\u001b[39;00m\n\u001b[1;32m   3816\u001b[0m     \u001b[38;5;66;03m#  the TypeError.\u001b[39;00m\n\u001b[1;32m   3817\u001b[0m     \u001b[38;5;28mself\u001b[39m\u001b[38;5;241m.\u001b[39m_check_indexing_error(key)\n",
      "\u001b[0;31mKeyError\u001b[0m: 'Year'"
     ]
    }
   ],
   "source": [
    "import matplotlib.pyplot as plt\n",
    "\n",
    "# Assuming df is your DataFrame and it has columns 'Year', 'Category', 'Value'\n",
    "years = school_df['Year'].unique()\n",
    "categories = school_df['Category'].unique()\n",
    "\n",
    "fig, ax = plt.subplots()\n",
    "\n",
    "for category in categories:\n",
    "    category_data = school_df[school_df['Category'] == category]\n",
    "    ax.plot(category_data['Year'], category_data['Value'], label=category)\n",
    "\n",
    "ax.set_xlabel('Year')\n",
    "ax.set_ylabel('Value')\n",
    "ax.set_title('Value Over Time by Category')\n",
    "ax.legend()\n",
    "\n",
    "plt.show()\n"
   ]
  },
  {
   "cell_type": "code",
   "execution_count": 47,
   "id": "71b335c8-a17f-4185-9fc9-8a8a8a24ec1c",
   "metadata": {},
   "outputs": [
    {
     "ename": "KeyError",
     "evalue": "'Count'",
     "output_type": "error",
     "traceback": [
      "\u001b[0;31m---------------------------------------------------------------------------\u001b[0m",
      "\u001b[0;31mKeyError\u001b[0m                                  Traceback (most recent call last)",
      "File \u001b[0;32m~/MachineLearning/env3/lib/python3.10/site-packages/pandas/core/indexes/base.py:3805\u001b[0m, in \u001b[0;36mIndex.get_loc\u001b[0;34m(self, key)\u001b[0m\n\u001b[1;32m   3804\u001b[0m \u001b[38;5;28;01mtry\u001b[39;00m:\n\u001b[0;32m-> 3805\u001b[0m     \u001b[38;5;28;01mreturn\u001b[39;00m \u001b[38;5;28;43mself\u001b[39;49m\u001b[38;5;241;43m.\u001b[39;49m\u001b[43m_engine\u001b[49m\u001b[38;5;241;43m.\u001b[39;49m\u001b[43mget_loc\u001b[49m\u001b[43m(\u001b[49m\u001b[43mcasted_key\u001b[49m\u001b[43m)\u001b[49m\n\u001b[1;32m   3806\u001b[0m \u001b[38;5;28;01mexcept\u001b[39;00m \u001b[38;5;167;01mKeyError\u001b[39;00m \u001b[38;5;28;01mas\u001b[39;00m err:\n",
      "File \u001b[0;32mindex.pyx:167\u001b[0m, in \u001b[0;36mpandas._libs.index.IndexEngine.get_loc\u001b[0;34m()\u001b[0m\n",
      "File \u001b[0;32mindex.pyx:196\u001b[0m, in \u001b[0;36mpandas._libs.index.IndexEngine.get_loc\u001b[0;34m()\u001b[0m\n",
      "File \u001b[0;32mpandas/_libs/hashtable_class_helper.pxi:7081\u001b[0m, in \u001b[0;36mpandas._libs.hashtable.PyObjectHashTable.get_item\u001b[0;34m()\u001b[0m\n",
      "File \u001b[0;32mpandas/_libs/hashtable_class_helper.pxi:7089\u001b[0m, in \u001b[0;36mpandas._libs.hashtable.PyObjectHashTable.get_item\u001b[0;34m()\u001b[0m\n",
      "\u001b[0;31mKeyError\u001b[0m: 'Count'",
      "\nThe above exception was the direct cause of the following exception:\n",
      "\u001b[0;31mKeyError\u001b[0m                                  Traceback (most recent call last)",
      "Cell \u001b[0;32mIn[47], line 5\u001b[0m\n\u001b[1;32m      3\u001b[0m \u001b[38;5;66;03m# Assuming df is your DataFrame and it has columns 'Year', 'Category', 'Value'\u001b[39;00m\n\u001b[1;32m      4\u001b[0m years \u001b[38;5;241m=\u001b[39m school_df[\u001b[38;5;124m'\u001b[39m\u001b[38;5;124mY\u001b[39m\u001b[38;5;124m'\u001b[39m]\u001b[38;5;241m.\u001b[39munique()\n\u001b[0;32m----> 5\u001b[0m categories \u001b[38;5;241m=\u001b[39m \u001b[43mschool_df\u001b[49m\u001b[43m[\u001b[49m\u001b[38;5;124;43m'\u001b[39;49m\u001b[38;5;124;43mCount\u001b[39;49m\u001b[38;5;124;43m'\u001b[39;49m\u001b[43m]\u001b[49m\u001b[38;5;241m.\u001b[39munique()\n\u001b[1;32m      7\u001b[0m fig, ax \u001b[38;5;241m=\u001b[39m plt\u001b[38;5;241m.\u001b[39msubplots()\n\u001b[1;32m      9\u001b[0m \u001b[38;5;28;01mfor\u001b[39;00m category \u001b[38;5;129;01min\u001b[39;00m categories:\n",
      "File \u001b[0;32m~/MachineLearning/env3/lib/python3.10/site-packages/pandas/core/frame.py:4102\u001b[0m, in \u001b[0;36mDataFrame.__getitem__\u001b[0;34m(self, key)\u001b[0m\n\u001b[1;32m   4100\u001b[0m \u001b[38;5;28;01mif\u001b[39;00m \u001b[38;5;28mself\u001b[39m\u001b[38;5;241m.\u001b[39mcolumns\u001b[38;5;241m.\u001b[39mnlevels \u001b[38;5;241m>\u001b[39m \u001b[38;5;241m1\u001b[39m:\n\u001b[1;32m   4101\u001b[0m     \u001b[38;5;28;01mreturn\u001b[39;00m \u001b[38;5;28mself\u001b[39m\u001b[38;5;241m.\u001b[39m_getitem_multilevel(key)\n\u001b[0;32m-> 4102\u001b[0m indexer \u001b[38;5;241m=\u001b[39m \u001b[38;5;28;43mself\u001b[39;49m\u001b[38;5;241;43m.\u001b[39;49m\u001b[43mcolumns\u001b[49m\u001b[38;5;241;43m.\u001b[39;49m\u001b[43mget_loc\u001b[49m\u001b[43m(\u001b[49m\u001b[43mkey\u001b[49m\u001b[43m)\u001b[49m\n\u001b[1;32m   4103\u001b[0m \u001b[38;5;28;01mif\u001b[39;00m is_integer(indexer):\n\u001b[1;32m   4104\u001b[0m     indexer \u001b[38;5;241m=\u001b[39m [indexer]\n",
      "File \u001b[0;32m~/MachineLearning/env3/lib/python3.10/site-packages/pandas/core/indexes/base.py:3812\u001b[0m, in \u001b[0;36mIndex.get_loc\u001b[0;34m(self, key)\u001b[0m\n\u001b[1;32m   3807\u001b[0m     \u001b[38;5;28;01mif\u001b[39;00m \u001b[38;5;28misinstance\u001b[39m(casted_key, \u001b[38;5;28mslice\u001b[39m) \u001b[38;5;129;01mor\u001b[39;00m (\n\u001b[1;32m   3808\u001b[0m         \u001b[38;5;28misinstance\u001b[39m(casted_key, abc\u001b[38;5;241m.\u001b[39mIterable)\n\u001b[1;32m   3809\u001b[0m         \u001b[38;5;129;01mand\u001b[39;00m \u001b[38;5;28many\u001b[39m(\u001b[38;5;28misinstance\u001b[39m(x, \u001b[38;5;28mslice\u001b[39m) \u001b[38;5;28;01mfor\u001b[39;00m x \u001b[38;5;129;01min\u001b[39;00m casted_key)\n\u001b[1;32m   3810\u001b[0m     ):\n\u001b[1;32m   3811\u001b[0m         \u001b[38;5;28;01mraise\u001b[39;00m InvalidIndexError(key)\n\u001b[0;32m-> 3812\u001b[0m     \u001b[38;5;28;01mraise\u001b[39;00m \u001b[38;5;167;01mKeyError\u001b[39;00m(key) \u001b[38;5;28;01mfrom\u001b[39;00m \u001b[38;5;21;01merr\u001b[39;00m\n\u001b[1;32m   3813\u001b[0m \u001b[38;5;28;01mexcept\u001b[39;00m \u001b[38;5;167;01mTypeError\u001b[39;00m:\n\u001b[1;32m   3814\u001b[0m     \u001b[38;5;66;03m# If we have a listlike key, _check_indexing_error will raise\u001b[39;00m\n\u001b[1;32m   3815\u001b[0m     \u001b[38;5;66;03m#  InvalidIndexError. Otherwise we fall through and re-raise\u001b[39;00m\n\u001b[1;32m   3816\u001b[0m     \u001b[38;5;66;03m#  the TypeError.\u001b[39;00m\n\u001b[1;32m   3817\u001b[0m     \u001b[38;5;28mself\u001b[39m\u001b[38;5;241m.\u001b[39m_check_indexing_error(key)\n",
      "\u001b[0;31mKeyError\u001b[0m: 'Count'"
     ]
    }
   ],
   "source": [
    "import matplotlib.pyplot as plt\n",
    "\n",
    "# Assuming df is your DataFrame and it has columns 'Year', 'Category', 'Value'\n",
    "years = school_df['Y'].unique()\n",
    "categories = school_df['Count'].unique()\n",
    "\n",
    "fig, ax = plt.subplots()\n",
    "\n",
    "for category in categories:\n",
    "    category_data = school_df[school_df['Count'] == category]\n",
    "    ax.plot(category_data['Y'], category_data['Value'], label=category)\n",
    "\n",
    "ax.set_xlabel('Y')\n",
    "ax.set_ylabel('Value')\n",
    "ax.set_title('Value Over Time by Category')\n",
    "ax.legend()\n",
    "\n",
    "plt.show()\n",
    "\n"
   ]
  },
  {
   "cell_type": "code",
   "execution_count": 48,
   "id": "a578cc88-b822-4232-8693-a6c98bead17d",
   "metadata": {},
   "outputs": [
    {
     "ename": "KeyError",
     "evalue": "'Value'",
     "output_type": "error",
     "traceback": [
      "\u001b[0;31m---------------------------------------------------------------------------\u001b[0m",
      "\u001b[0;31mKeyError\u001b[0m                                  Traceback (most recent call last)",
      "File \u001b[0;32m~/MachineLearning/env3/lib/python3.10/site-packages/pandas/core/indexes/base.py:3805\u001b[0m, in \u001b[0;36mIndex.get_loc\u001b[0;34m(self, key)\u001b[0m\n\u001b[1;32m   3804\u001b[0m \u001b[38;5;28;01mtry\u001b[39;00m:\n\u001b[0;32m-> 3805\u001b[0m     \u001b[38;5;28;01mreturn\u001b[39;00m \u001b[38;5;28;43mself\u001b[39;49m\u001b[38;5;241;43m.\u001b[39;49m\u001b[43m_engine\u001b[49m\u001b[38;5;241;43m.\u001b[39;49m\u001b[43mget_loc\u001b[49m\u001b[43m(\u001b[49m\u001b[43mcasted_key\u001b[49m\u001b[43m)\u001b[49m\n\u001b[1;32m   3806\u001b[0m \u001b[38;5;28;01mexcept\u001b[39;00m \u001b[38;5;167;01mKeyError\u001b[39;00m \u001b[38;5;28;01mas\u001b[39;00m err:\n",
      "File \u001b[0;32mindex.pyx:167\u001b[0m, in \u001b[0;36mpandas._libs.index.IndexEngine.get_loc\u001b[0;34m()\u001b[0m\n",
      "File \u001b[0;32mindex.pyx:196\u001b[0m, in \u001b[0;36mpandas._libs.index.IndexEngine.get_loc\u001b[0;34m()\u001b[0m\n",
      "File \u001b[0;32mpandas/_libs/hashtable_class_helper.pxi:7081\u001b[0m, in \u001b[0;36mpandas._libs.hashtable.PyObjectHashTable.get_item\u001b[0;34m()\u001b[0m\n",
      "File \u001b[0;32mpandas/_libs/hashtable_class_helper.pxi:7089\u001b[0m, in \u001b[0;36mpandas._libs.hashtable.PyObjectHashTable.get_item\u001b[0;34m()\u001b[0m\n",
      "\u001b[0;31mKeyError\u001b[0m: 'Value'",
      "\nThe above exception was the direct cause of the following exception:\n",
      "\u001b[0;31mKeyError\u001b[0m                                  Traceback (most recent call last)",
      "Cell \u001b[0;32mIn[48], line 11\u001b[0m\n\u001b[1;32m      9\u001b[0m \u001b[38;5;28;01mfor\u001b[39;00m category \u001b[38;5;129;01min\u001b[39;00m categories:\n\u001b[1;32m     10\u001b[0m     category_data \u001b[38;5;241m=\u001b[39m school_df[school_df[\u001b[38;5;124m'\u001b[39m\u001b[38;5;124mSURVYEAR\u001b[39m\u001b[38;5;124m'\u001b[39m] \u001b[38;5;241m==\u001b[39m category]\n\u001b[0;32m---> 11\u001b[0m     ax\u001b[38;5;241m.\u001b[39mplot(category_data[\u001b[38;5;124m'\u001b[39m\u001b[38;5;124mY\u001b[39m\u001b[38;5;124m'\u001b[39m], \u001b[43mcategory_data\u001b[49m\u001b[43m[\u001b[49m\u001b[38;5;124;43m'\u001b[39;49m\u001b[38;5;124;43mValue\u001b[39;49m\u001b[38;5;124;43m'\u001b[39;49m\u001b[43m]\u001b[49m, label\u001b[38;5;241m=\u001b[39mcategory)\n\u001b[1;32m     13\u001b[0m ax\u001b[38;5;241m.\u001b[39mset_xlabel(\u001b[38;5;124m'\u001b[39m\u001b[38;5;124mY\u001b[39m\u001b[38;5;124m'\u001b[39m)\n\u001b[1;32m     14\u001b[0m ax\u001b[38;5;241m.\u001b[39mset_ylabel(\u001b[38;5;124m'\u001b[39m\u001b[38;5;124mValue\u001b[39m\u001b[38;5;124m'\u001b[39m)\n",
      "File \u001b[0;32m~/MachineLearning/env3/lib/python3.10/site-packages/pandas/core/frame.py:4102\u001b[0m, in \u001b[0;36mDataFrame.__getitem__\u001b[0;34m(self, key)\u001b[0m\n\u001b[1;32m   4100\u001b[0m \u001b[38;5;28;01mif\u001b[39;00m \u001b[38;5;28mself\u001b[39m\u001b[38;5;241m.\u001b[39mcolumns\u001b[38;5;241m.\u001b[39mnlevels \u001b[38;5;241m>\u001b[39m \u001b[38;5;241m1\u001b[39m:\n\u001b[1;32m   4101\u001b[0m     \u001b[38;5;28;01mreturn\u001b[39;00m \u001b[38;5;28mself\u001b[39m\u001b[38;5;241m.\u001b[39m_getitem_multilevel(key)\n\u001b[0;32m-> 4102\u001b[0m indexer \u001b[38;5;241m=\u001b[39m \u001b[38;5;28;43mself\u001b[39;49m\u001b[38;5;241;43m.\u001b[39;49m\u001b[43mcolumns\u001b[49m\u001b[38;5;241;43m.\u001b[39;49m\u001b[43mget_loc\u001b[49m\u001b[43m(\u001b[49m\u001b[43mkey\u001b[49m\u001b[43m)\u001b[49m\n\u001b[1;32m   4103\u001b[0m \u001b[38;5;28;01mif\u001b[39;00m is_integer(indexer):\n\u001b[1;32m   4104\u001b[0m     indexer \u001b[38;5;241m=\u001b[39m [indexer]\n",
      "File \u001b[0;32m~/MachineLearning/env3/lib/python3.10/site-packages/pandas/core/indexes/base.py:3812\u001b[0m, in \u001b[0;36mIndex.get_loc\u001b[0;34m(self, key)\u001b[0m\n\u001b[1;32m   3807\u001b[0m     \u001b[38;5;28;01mif\u001b[39;00m \u001b[38;5;28misinstance\u001b[39m(casted_key, \u001b[38;5;28mslice\u001b[39m) \u001b[38;5;129;01mor\u001b[39;00m (\n\u001b[1;32m   3808\u001b[0m         \u001b[38;5;28misinstance\u001b[39m(casted_key, abc\u001b[38;5;241m.\u001b[39mIterable)\n\u001b[1;32m   3809\u001b[0m         \u001b[38;5;129;01mand\u001b[39;00m \u001b[38;5;28many\u001b[39m(\u001b[38;5;28misinstance\u001b[39m(x, \u001b[38;5;28mslice\u001b[39m) \u001b[38;5;28;01mfor\u001b[39;00m x \u001b[38;5;129;01min\u001b[39;00m casted_key)\n\u001b[1;32m   3810\u001b[0m     ):\n\u001b[1;32m   3811\u001b[0m         \u001b[38;5;28;01mraise\u001b[39;00m InvalidIndexError(key)\n\u001b[0;32m-> 3812\u001b[0m     \u001b[38;5;28;01mraise\u001b[39;00m \u001b[38;5;167;01mKeyError\u001b[39;00m(key) \u001b[38;5;28;01mfrom\u001b[39;00m \u001b[38;5;21;01merr\u001b[39;00m\n\u001b[1;32m   3813\u001b[0m \u001b[38;5;28;01mexcept\u001b[39;00m \u001b[38;5;167;01mTypeError\u001b[39;00m:\n\u001b[1;32m   3814\u001b[0m     \u001b[38;5;66;03m# If we have a listlike key, _check_indexing_error will raise\u001b[39;00m\n\u001b[1;32m   3815\u001b[0m     \u001b[38;5;66;03m#  InvalidIndexError. Otherwise we fall through and re-raise\u001b[39;00m\n\u001b[1;32m   3816\u001b[0m     \u001b[38;5;66;03m#  the TypeError.\u001b[39;00m\n\u001b[1;32m   3817\u001b[0m     \u001b[38;5;28mself\u001b[39m\u001b[38;5;241m.\u001b[39m_check_indexing_error(key)\n",
      "\u001b[0;31mKeyError\u001b[0m: 'Value'"
     ]
    },
    {
     "data": {
      "image/png": "[encoded data removed]",
      "text/plain": [
       "<Figure size 640x480 with 1 Axes>"
      ]
     },
     "metadata": {},
     "output_type": "display_data"
    }
   ],
   "source": [
    "import matplotlib.pyplot as plt\n",
    "\n",
    "# Assuming df is your DataFrame and it has columns 'Year', 'Category', 'Value'\n",
    "years = school_df['Y'].unique()\n",
    "categories = school_df['SURVYEAR'].unique()\n",
    "\n",
    "fig, ax = plt.subplots()\n",
    "\n",
    "for category in categories:\n",
    "    category_data = school_df[school_df['SURVYEAR'] == category]\n",
    "    ax.plot(category_data['Y'], category_data['Value'], label=category)\n",
    "\n",
    "ax.set_xlabel('Y')\n",
    "ax.set_ylabel('Value')\n",
    "ax.set_title('Value Over Time by Category')\n",
    "ax.legend()\n",
    "\n",
    "plt.show()"
   ]
  },
  {
   "cell_type": "code",
   "execution_count": null,
   "id": "648f50ba-85dd-4a06-b927-af8cfe7e577c",
   "metadata": {},
   "outputs": [],
   "source": [
    "\n",
    "\n",
    "import matplotlib.pyplot as plt\n",
    "import pandas as pd\n",
    "\n",
    "# Assuming df is your DataFrame\n",
    "\n",
    "# Geographical Distribution of Schools\n",
    "plt.figure(figsize=(10, 6))\n",
    "plt.scatter(df['LONCOD'], df['LATCOD'])\n",
    "plt.title('Location of Schools')\n",
    "plt.xlabel('Longitude')\n",
    "plt.ylabel('Latitude')\n",
    "plt.show()\n",
    "\n"
   ]
  },
  {
   "cell_type": "code",
   "execution_count": null,
   "id": "046a659b-b801-4170-8b25-2a376cf8cca1",
   "metadata": {},
   "outputs": [
    {
     "data": {
      "image/png": "[encoded data removed]",
      "text/plain": [
       "<Figure size 1000x600 with 1 Axes>"
      ]
     },
     "metadata": {},
     "output_type": "display_data"
    },
    {
     "data": {
      "image/png": "[encoded data removed]",
      "text/plain": [
       "<Figure size 1000x600 with 1 Axes>"
      ]
     },
     "metadata": {},
     "output_type": "display_data"
    },
    {
     "data": {
      "image/png": "[encoded data removed]",
      "text/plain": [
       "<Figure size 1000x600 with 1 Axes>"
      ]
     },
     "metadata": {},
     "output_type": "display_data"
    },
    {
     "data": {
      "image/png": "[encoded data removed]",
      "text/plain": [
       "<Figure size 1000x600 with 1 Axes>"
      ]
     },
     "metadata": {},
     "output_type": "display_data"
    }
   ],
   "source": [
    "import matplotlib.pyplot as plt\n",
    "import pandas as pd\n",
    "\n",
    "\n",
    "# Geographical Distribution of Schools\n",
    "plt.figure(figsize=(10, 6))\n",
    "plt.scatter(df['LONCOD'], df['LATCOD'])\n",
    "plt.title('Location of Schools')\n",
    "plt.xlabel('Longitude')\n",
    "plt.ylabel('Latitude')\n",
    "plt.show()\n",
    "\n",
    "#  Total Students vs. High School Students\n",
    "plt.figure(figsize=(10, 6))\n",
    "plt.barh(df['LEAID'], df['HI'] + df['TR'])\n",
    "plt.title('Total Students vs. High School Students')\n",
    "plt.xlabel('Number of Students')\n",
    "plt.ylabel('School ID')\n",
    "plt.show()\n",
    "\n",
    "# Number of Schools Over Time\n",
    "schools_per_year = df.groupby('SURVYEAR')['OBJECTID'].count()\n",
    "plt.figure(figsize=(10, 6))\n",
    "plt.plot(schools_per_year.index, schools_per_year.values)\n",
    "plt.title('Number of Schools Over Time')\n",
    "plt.xlabel('Survey Year')\n",
    "plt.ylabel('Number of Schools')\n",
    "plt.show()\n",
    "\n",
    "#Comparing Total High School Students and Total Students\n",
    "plt.figure(figsize=(10, 6))\n",
    "plt.scatter(df['HI'], df['TR'])\n",
    "plt.title('Comparison of Total High School Students and Total Students')\n",
    "plt.xlabel('High School Students')\n",
    "plt.ylabel('Total Students')\n",
    "plt.show()\n",
    "\n",
    "# Pie Chart: Proportion of Students in Different Categories\n",
    "# Example: Grade Levels\n",
    "grade_levels = df['ST_LEAID'].value_counts()\n",
    "plt.pie(grade_levels, labels=grade_levels.index, autopct='%1.1f%%')\n",
    "plt.title('Proportion of Students in Different Grade Levels')\n",
    "plt.show()\n"
   ]
  },
  {
   "cell_type": "code",
   "execution_count": null,
   "id": "70a30052-1857-4ef9-93fb-f5ab5db1acaf",
   "metadata": {},
   "outputs": [],
   "source": []
  },
  {
   "cell_type": "code",
   "execution_count": null,
   "id": "4135f642-bb26-44d3-b315-a8202fdb411f",
   "metadata": {},
   "outputs": [],
   "source": []
  }
 ],
 "metadata": {
  "kernelspec": {
   "display_name": "Python 3 (ipykernel)",
   "language": "python",
   "name": "python3"
  },
  "language_info": {
   "codemirror_mode": {
    "name": "ipython",
    "version": 3
   },
   "file_extension": ".py",
   "mimetype": "text/x-python",
   "name": "python",
   "nbconvert_exporter": "python",
   "pygments_lexer": "ipython3",
   "version": "3.10.12"
  }
 },
 "nbformat": 4,
 "nbformat_minor": 5
}
